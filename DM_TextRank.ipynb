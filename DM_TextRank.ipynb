{
  "cells": [
    {
      "cell_type": "markdown",
      "metadata": {
        "id": "view-in-github",
        "colab_type": "text"
      },
      "source": [
        "<a href=\"https://colab.research.google.com/github/qkrdudwls/Bible-vs-Quran/blob/main/DM_TextRank.ipynb\" target=\"_parent\"><img src=\"https://colab.research.google.com/assets/colab-badge.svg\" alt=\"Open In Colab\"/></a>"
      ]
    },
    {
      "cell_type": "markdown",
      "metadata": {
        "id": "lC9XAcFSKfvA"
      },
      "source": [
        "# **Data Mining Project**"
      ]
    },
    {
      "cell_type": "markdown",
      "source": [
        "## Overview\n",
        "- Bible과 Quran을 chapter 별로 나누어서 crawling\n",
        "- TF-IDF를 이용하여 Bible과 Quran의 Word Cloud 생성\n",
        "- TextRank 알고리즘을 이용하여 keyword 추출 및 문장 요약\n",
        "- 요약된 문장을 바탕으로 Cosine Similarity와 Jaccard Similarity 계산\n"
      ],
      "metadata": {
        "id": "IBBZsml691Ke"
      }
    },
    {
      "cell_type": "markdown",
      "metadata": {
        "id": "4FsU0f0_rfgG"
      },
      "source": [
        "---------------"
      ]
    },
    {
      "cell_type": "markdown",
      "metadata": {
        "id": "SBDMRxL8LG0A"
      },
      "source": [
        "## Set up"
      ]
    },
    {
      "cell_type": "markdown",
      "metadata": {
        "id": "D0U74xdFLMv_"
      },
      "source": [
        "### 구글 드라이브 마운트"
      ]
    },
    {
      "cell_type": "code",
      "execution_count": null,
      "metadata": {
        "colab": {
          "base_uri": "https://localhost:8080/"
        },
        "id": "xhILfLCMLKu4",
        "outputId": "4a2b1a23-6d87-4571-d5de-a6910be8624e"
      },
      "outputs": [
        {
          "output_type": "stream",
          "name": "stdout",
          "text": [
            "Drive already mounted at /content/drive; to attempt to forcibly remount, call drive.mount(\"/content/drive\", force_remount=True).\n"
          ]
        }
      ],
      "source": [
        "from google.colab import drive\n",
        "drive.mount('/content/drive')"
      ]
    },
    {
      "cell_type": "markdown",
      "metadata": {
        "id": "tRJ24vNaLThv"
      },
      "source": [
        "### Selenium & chromedriver 설치"
      ]
    },
    {
      "cell_type": "code",
      "execution_count": null,
      "metadata": {
        "colab": {
          "base_uri": "https://localhost:8080/"
        },
        "id": "mlKuX0hZLZUn",
        "outputId": "26fc6620-b797-4902-bceb-d1fc0178706a"
      },
      "outputs": [
        {
          "output_type": "stream",
          "name": "stdout",
          "text": [
            "Requirement already satisfied: selenium in /usr/local/lib/python3.10/dist-packages (4.26.1)\n",
            "Requirement already satisfied: urllib3<3,>=1.26 in /usr/local/lib/python3.10/dist-packages (from urllib3[socks]<3,>=1.26->selenium) (2.2.3)\n",
            "Requirement already satisfied: trio~=0.17 in /usr/local/lib/python3.10/dist-packages (from selenium) (0.27.0)\n",
            "Requirement already satisfied: trio-websocket~=0.9 in /usr/local/lib/python3.10/dist-packages (from selenium) (0.11.1)\n",
            "Requirement already satisfied: certifi>=2021.10.8 in /usr/local/lib/python3.10/dist-packages (from selenium) (2024.8.30)\n",
            "Requirement already satisfied: typing_extensions~=4.9 in /usr/local/lib/python3.10/dist-packages (from selenium) (4.12.2)\n",
            "Requirement already satisfied: websocket-client~=1.8 in /usr/local/lib/python3.10/dist-packages (from selenium) (1.8.0)\n",
            "Requirement already satisfied: attrs>=23.2.0 in /usr/local/lib/python3.10/dist-packages (from trio~=0.17->selenium) (24.2.0)\n",
            "Requirement already satisfied: sortedcontainers in /usr/local/lib/python3.10/dist-packages (from trio~=0.17->selenium) (2.4.0)\n",
            "Requirement already satisfied: idna in /usr/local/lib/python3.10/dist-packages (from trio~=0.17->selenium) (3.10)\n",
            "Requirement already satisfied: outcome in /usr/local/lib/python3.10/dist-packages (from trio~=0.17->selenium) (1.3.0.post0)\n",
            "Requirement already satisfied: sniffio>=1.3.0 in /usr/local/lib/python3.10/dist-packages (from trio~=0.17->selenium) (1.3.1)\n",
            "Requirement already satisfied: exceptiongroup in /usr/local/lib/python3.10/dist-packages (from trio~=0.17->selenium) (1.2.2)\n",
            "Requirement already satisfied: wsproto>=0.14 in /usr/local/lib/python3.10/dist-packages (from trio-websocket~=0.9->selenium) (1.2.0)\n",
            "Requirement already satisfied: pysocks!=1.5.7,<2.0,>=1.5.6 in /usr/local/lib/python3.10/dist-packages (from urllib3[socks]<3,>=1.26->selenium) (1.7.1)\n",
            "Requirement already satisfied: h11<1,>=0.9.0 in /usr/local/lib/python3.10/dist-packages (from wsproto>=0.14->trio-websocket~=0.9->selenium) (0.14.0)\n",
            "Hit:1 https://cloud.r-project.org/bin/linux/ubuntu jammy-cran40/ InRelease\n",
            "Hit:2 https://developer.download.nvidia.com/compute/cuda/repos/ubuntu2204/x86_64  InRelease\n",
            "Hit:3 http://archive.ubuntu.com/ubuntu jammy InRelease\n",
            "Hit:4 http://security.ubuntu.com/ubuntu jammy-security InRelease\n",
            "Hit:5 http://archive.ubuntu.com/ubuntu jammy-updates InRelease\n",
            "Hit:6 http://archive.ubuntu.com/ubuntu jammy-backports InRelease\n",
            "Hit:7 https://ppa.launchpadcontent.net/deadsnakes/ppa/ubuntu jammy InRelease\n",
            "Hit:8 https://ppa.launchpadcontent.net/graphics-drivers/ppa/ubuntu jammy InRelease\n",
            "Hit:9 https://ppa.launchpadcontent.net/ubuntugis/ppa/ubuntu jammy InRelease\n",
            "Hit:10 https://r2u.stat.illinois.edu/ubuntu jammy InRelease\n",
            "Reading package lists... Done\n",
            "W: Skipping acquire of configured file 'main/source/Sources' as repository 'https://r2u.stat.illinois.edu/ubuntu jammy InRelease' does not seem to provide it (sources.list entry misspelt?)\n",
            "Reading package lists... Done\n",
            "Building dependency tree... Done\n",
            "Reading state information... Done\n",
            "chromium-chromedriver is already the newest version (1:85.0.4183.83-0ubuntu2.22.04.1).\n",
            "0 upgraded, 0 newly installed, 0 to remove and 54 not upgraded.\n",
            "cp: cannot stat '/usr/bin/lib/chromium-browser/chromedriver': No such file or directory\n",
            "Requirement already satisfied: chromedriver-autoinstaller in /usr/local/lib/python3.10/dist-packages (0.6.4)\n",
            "Requirement already satisfied: packaging>=23.1 in /usr/local/lib/python3.10/dist-packages (from chromedriver-autoinstaller) (24.2)\n"
          ]
        }
      ],
      "source": [
        "!pip install selenium\n",
        "!apt-get update\n",
        "\n",
        "!apt install chromium-chromedriver\n",
        "!cp /usr/bin/lib/chromium-browser/chromedriver '/content/drive/MyDrive/Colab Notebooks'\n",
        "!pip install chromedriver-autoinstaller"
      ]
    },
    {
      "cell_type": "markdown",
      "metadata": {
        "id": "v2JUvVjCPDq_"
      },
      "source": [
        "### Spark 설치"
      ]
    },
    {
      "cell_type": "code",
      "execution_count": null,
      "metadata": {
        "colab": {
          "base_uri": "https://localhost:8080/"
        },
        "id": "DmBaBqZJPCyo",
        "outputId": "81d69e5a-9e90-49ec-f962-2136b9e0696e"
      },
      "outputs": [
        {
          "output_type": "stream",
          "name": "stdout",
          "text": [
            "Requirement already satisfied: pyspark in /usr/local/lib/python3.10/dist-packages (3.5.3)\n",
            "Requirement already satisfied: py4j==0.10.9.7 in /usr/local/lib/python3.10/dist-packages (from pyspark) (0.10.9.7)\n",
            "openjdk-8-jdk-headless is already the newest version (8u432-ga~us1-0ubuntu2~22.04).\n",
            "0 upgraded, 0 newly installed, 0 to remove and 54 not upgraded.\n"
          ]
        }
      ],
      "source": [
        "!pip install pyspark\n",
        "!pip install -U -q PyDrive2\n",
        "!apt install openjdk-8-jdk-headless -qq\n",
        "\n",
        "import os\n",
        "os.environ[\"JAVA_HOME\"] = \"/usr/lib/jvm/java-8-openjdk-amd64\""
      ]
    },
    {
      "cell_type": "markdown",
      "metadata": {
        "id": "w2pliVYi6pJ2"
      },
      "source": [
        "### NLTK & NetworkX 설치"
      ]
    },
    {
      "cell_type": "code",
      "execution_count": null,
      "metadata": {
        "colab": {
          "base_uri": "https://localhost:8080/"
        },
        "id": "sc9ZKwsm6oh_",
        "outputId": "4c084033-fd7d-4759-b8cd-42db341c421b"
      },
      "outputs": [
        {
          "output_type": "stream",
          "name": "stdout",
          "text": [
            "Requirement already satisfied: nltk in /usr/local/lib/python3.10/dist-packages (3.9.1)\n",
            "Requirement already satisfied: click in /usr/local/lib/python3.10/dist-packages (from nltk) (8.1.7)\n",
            "Requirement already satisfied: joblib in /usr/local/lib/python3.10/dist-packages (from nltk) (1.4.2)\n",
            "Requirement already satisfied: regex>=2021.8.3 in /usr/local/lib/python3.10/dist-packages (from nltk) (2024.9.11)\n",
            "Requirement already satisfied: tqdm in /usr/local/lib/python3.10/dist-packages (from nltk) (4.66.6)\n",
            "Requirement already satisfied: networkx in /usr/local/lib/python3.10/dist-packages (3.4.2)\n"
          ]
        }
      ],
      "source": [
        "!pip install nltk\n",
        "!pip install networkx"
      ]
    },
    {
      "cell_type": "markdown",
      "metadata": {
        "id": "MXs14dVrLhT4"
      },
      "source": [
        "#### Version 확인"
      ]
    },
    {
      "cell_type": "code",
      "execution_count": null,
      "metadata": {
        "colab": {
          "base_uri": "https://localhost:8080/"
        },
        "id": "EoeG9Sn2LkfY",
        "outputId": "a273b185-3219-47b4-b69d-a078a7692ab3"
      },
      "outputs": [
        {
          "output_type": "stream",
          "name": "stdout",
          "text": [
            "Python 3.10.12\n",
            "Selenium 4.26.1\n",
            "PySpark 3.5.3\n",
            "NLTK 3.9.1\n",
            "NetworkX 3.4.2\n"
          ]
        }
      ],
      "source": [
        "!python --version\n",
        "\n",
        "import selenium\n",
        "import pyspark\n",
        "import nltk\n",
        "import networkx\n",
        "\n",
        "print(f\"Selenium {selenium.__version__}\")\n",
        "print(f\"PySpark {pyspark.__version__}\")\n",
        "print(f\"NLTK {nltk.__version__}\")\n",
        "print(f\"NetworkX {networkx.__version__}\")"
      ]
    },
    {
      "cell_type": "markdown",
      "metadata": {
        "id": "cSRcKwSgJVMM"
      },
      "source": [
        "### Import Library"
      ]
    },
    {
      "cell_type": "code",
      "execution_count": null,
      "metadata": {
        "id": "2_KIuLkgLztg"
      },
      "outputs": [],
      "source": [
        "# Crawling\n",
        "from selenium import webdriver\n",
        "from selenium.webdriver.support.ui import WebDriverWait\n",
        "from selenium.webdriver.support import expected_conditions as EC\n",
        "from selenium.webdriver.common.by import By\n",
        "import sys\n",
        "from selenium.webdriver.common.keys import Keys\n",
        "import urllib.request\n",
        "import os\n",
        "from urllib.request import urlretrieve\n",
        "\n",
        "import time\n",
        "import pandas as pd\n",
        "import chromedriver_autoinstaller\n",
        "import re\n",
        "\n",
        "import glob\n",
        "import matplotlib.pyplot as plt\n",
        "from pyspark.sql import SparkSession\n",
        "from pyspark.ml.feature import Tokenizer, HashingTF, IDF, StopWordsRemover\n",
        "from pyspark.sql.functions import col, explode, udf, lower, regexp_replace\n",
        "from pyspark.sql.types import ArrayType, StructType, StructField, StringType, DoubleType\n",
        "from pyspark.ml.linalg import SparseVector\n",
        "import spacy\n",
        "import nltk\n",
        "\n",
        "import networkx as nx\n",
        "from nltk.tokenize import sent_tokenize, word_tokenize\n",
        "from sklearn.feature_extraction.text import TfidfVectorizer\n",
        "from sklearn.metrics.pairwise import cosine_similarity\n",
        "from collections import Counter\n",
        "from itertools import combinations"
      ]
    },
    {
      "cell_type": "markdown",
      "metadata": {
        "id": "LGPDZ6ijL3OA"
      },
      "source": [
        "### chrome_options 설정"
      ]
    },
    {
      "cell_type": "code",
      "execution_count": null,
      "metadata": {
        "id": "b8n07XEaL4pA"
      },
      "outputs": [],
      "source": [
        "chrome_path=\"/content/drive/Mydrive/Colab Notebooks/chromedriver\"\n",
        "\n",
        "sys.path.insert(0,chrome_path)\n",
        "chrome_options = webdriver.ChromeOptions()\n",
        "chrome_options.add_argument('--headless')\n",
        "chrome_options.add_argument('--no-sandbox')\n",
        "chrome_options.add_argument('--disable-dev-shm-usage')\n",
        "\n",
        "chromedriver_autoinstaller.install()"
      ]
    },
    {
      "cell_type": "markdown",
      "source": [
        "## Crawling"
      ],
      "metadata": {
        "id": "2RrCbX4Bp-do"
      }
    },
    {
      "cell_type": "markdown",
      "source": [
        "### 데이터 전처리 함수\n",
        "- 영어 알파벳과 공백만 제외하고 모두 제거\n",
        "- 모든 문자를 소문자로 변환\n",
        "- 연속된 공백을 단일 공백으로 축소\n",
        "- 양 끝의 공백 제거"
      ],
      "metadata": {
        "id": "IYbeI-HQOPKi"
      }
    },
    {
      "cell_type": "code",
      "source": [
        "def preprocess_text(text):\n",
        "    cleaned_text = re.sub(r'[^a-zA-Z\\s]', '', text)\n",
        "    cleaned_text = cleaned_text.lower()\n",
        "    cleaned_text = re.sub(r'\\s+', ' ', cleaned_text)\n",
        "    return cleaned_text.strip()"
      ],
      "metadata": {
        "id": "DHuDL2LyOTwI"
      },
      "execution_count": null,
      "outputs": []
    },
    {
      "cell_type": "markdown",
      "metadata": {
        "id": "AJmZNUFsO3Pw"
      },
      "source": [
        "### Bible"
      ]
    },
    {
      "cell_type": "code",
      "execution_count": null,
      "metadata": {
        "colab": {
          "base_uri": "https://localhost:8080/"
        },
        "id": "NWNSTcauL_24",
        "outputId": "a60ac99a-00fa-4522-bf42-13ebab6eb381"
      },
      "outputs": [
        {
          "output_type": "stream",
          "name": "stdout",
          "text": [
            "Saved text from div #1 to bible_texts/chapter_1.txt\n",
            "Saved text from div #2 to bible_texts/chapter_2.txt\n",
            "Saved text from div #3 to bible_texts/chapter_3.txt\n",
            "Saved text from div #4 to bible_texts/chapter_4.txt\n",
            "Saved text from div #5 to bible_texts/chapter_5.txt\n",
            "Saved text from div #6 to bible_texts/chapter_6.txt\n",
            "Saved text from div #7 to bible_texts/chapter_7.txt\n",
            "Saved text from div #8 to bible_texts/chapter_8.txt\n",
            "Saved text from div #9 to bible_texts/chapter_9.txt\n",
            "Saved text from div #10 to bible_texts/chapter_10.txt\n",
            "Saved text from div #11 to bible_texts/chapter_11.txt\n",
            "Saved text from div #12 to bible_texts/chapter_12.txt\n",
            "Saved text from div #13 to bible_texts/chapter_13.txt\n",
            "Saved text from div #14 to bible_texts/chapter_14.txt\n",
            "Saved text from div #15 to bible_texts/chapter_15.txt\n",
            "Saved text from div #16 to bible_texts/chapter_16.txt\n",
            "Saved text from div #17 to bible_texts/chapter_17.txt\n",
            "Saved text from div #18 to bible_texts/chapter_18.txt\n",
            "Saved text from div #19 to bible_texts/chapter_19.txt\n",
            "Saved text from div #20 to bible_texts/chapter_20.txt\n",
            "Saved text from div #21 to bible_texts/chapter_21.txt\n",
            "Saved text from div #22 to bible_texts/chapter_22.txt\n",
            "Saved text from div #23 to bible_texts/chapter_23.txt\n",
            "Saved text from div #24 to bible_texts/chapter_24.txt\n",
            "Saved text from div #25 to bible_texts/chapter_25.txt\n",
            "Saved text from div #26 to bible_texts/chapter_26.txt\n",
            "Saved text from div #27 to bible_texts/chapter_27.txt\n",
            "Saved text from div #28 to bible_texts/chapter_28.txt\n",
            "Saved text from div #29 to bible_texts/chapter_29.txt\n",
            "Saved text from div #30 to bible_texts/chapter_30.txt\n",
            "Saved text from div #31 to bible_texts/chapter_31.txt\n",
            "Saved text from div #32 to bible_texts/chapter_32.txt\n",
            "Saved text from div #33 to bible_texts/chapter_33.txt\n",
            "Saved text from div #34 to bible_texts/chapter_34.txt\n",
            "Saved text from div #35 to bible_texts/chapter_35.txt\n",
            "Saved text from div #36 to bible_texts/chapter_36.txt\n",
            "Saved text from div #37 to bible_texts/chapter_37.txt\n",
            "Saved text from div #38 to bible_texts/chapter_38.txt\n",
            "Saved text from div #39 to bible_texts/chapter_39.txt\n",
            "Saved text from div #40 to bible_texts/chapter_40.txt\n",
            "Saved text from div #41 to bible_texts/chapter_41.txt\n",
            "Saved text from div #42 to bible_texts/chapter_42.txt\n",
            "Saved text from div #43 to bible_texts/chapter_43.txt\n",
            "Saved text from div #44 to bible_texts/chapter_44.txt\n",
            "Saved text from div #45 to bible_texts/chapter_45.txt\n",
            "Saved text from div #46 to bible_texts/chapter_46.txt\n",
            "Saved text from div #47 to bible_texts/chapter_47.txt\n",
            "Saved text from div #48 to bible_texts/chapter_48.txt\n",
            "Saved text from div #49 to bible_texts/chapter_49.txt\n",
            "Saved text from div #50 to bible_texts/chapter_50.txt\n",
            "Saved text from div #51 to bible_texts/chapter_51.txt\n",
            "Saved text from div #52 to bible_texts/chapter_52.txt\n",
            "Saved text from div #53 to bible_texts/chapter_53.txt\n",
            "Saved text from div #54 to bible_texts/chapter_54.txt\n",
            "Saved text from div #55 to bible_texts/chapter_55.txt\n",
            "Saved text from div #56 to bible_texts/chapter_56.txt\n",
            "Saved text from div #57 to bible_texts/chapter_57.txt\n",
            "Saved text from div #58 to bible_texts/chapter_58.txt\n",
            "Saved text from div #59 to bible_texts/chapter_59.txt\n",
            "Saved text from div #60 to bible_texts/chapter_60.txt\n",
            "Saved text from div #61 to bible_texts/chapter_61.txt\n",
            "Saved text from div #62 to bible_texts/chapter_62.txt\n",
            "Saved text from div #63 to bible_texts/chapter_63.txt\n",
            "Saved text from div #64 to bible_texts/chapter_64.txt\n",
            "Saved text from div #65 to bible_texts/chapter_65.txt\n",
            "Saved text from div #66 to bible_texts/chapter_66.txt\n",
            "Saved text from div #67 to bible_texts/chapter_67.txt\n"
          ]
        }
      ],
      "source": [
        "# URL과 웹 드라이버 설정\n",
        "url = 'https://www.gutenberg.org/cache/epub/10/pg10-images.html'\n",
        "driver = webdriver.Chrome(options=chrome_options)\n",
        "driver.get(url)\n",
        "\n",
        "# 최대 10초 대기\n",
        "wait = WebDriverWait(driver, 10)\n",
        "\n",
        "# bible_texts 폴더가 없으면 생성\n",
        "output_folder = \"bible_texts\"\n",
        "if not os.path.exists(output_folder):\n",
        "    os.makedirs(output_folder)\n",
        "\n",
        "try:\n",
        "    # 모든 'chapter' 클래스 div 요소 찾기\n",
        "    chapter_divs = driver.find_elements(By.CLASS_NAME, \"chapter\")\n",
        "\n",
        "    # 첫 번째 div는 건너뛰고 두 번째 div부터 순회 (첫 번째 div는 제목)\n",
        "    for index, chapter_div in enumerate(chapter_divs[1:], start=2):\n",
        "        # 텍스트 추출 및 전처리 (영어만 남기기)\n",
        "        chapter_text = chapter_div.get_attribute(\"textContent\")\n",
        "        chapter_text = preprocess_text(chapter_text)  # 전처리 함수 적용\n",
        "        chapter_text = chapter_text.strip()  # 앞뒤 공백 제거\n",
        "\n",
        "        # 파일로 저장\n",
        "        if chapter_text:  # 내용이 있을 경우에만 저장\n",
        "            filename = os.path.join(output_folder, f\"chapter_{index-1}.txt\")\n",
        "            with open(filename, \"w\", encoding=\"utf-8\") as file:\n",
        "                file.write(chapter_text)\n",
        "            print(f\"Saved text from div #{index-1} to {filename}\")\n",
        "\n",
        "except Exception as e:\n",
        "    print(\"Error:\", e)\n",
        "\n",
        "finally:\n",
        "    # 드라이버 종료\n",
        "    driver.quit()"
      ]
    },
    {
      "cell_type": "markdown",
      "metadata": {
        "id": "qyyuaEWgdsdJ"
      },
      "source": [
        "### Quran"
      ]
    },
    {
      "cell_type": "code",
      "execution_count": null,
      "metadata": {
        "colab": {
          "base_uri": "https://localhost:8080/"
        },
        "id": "xRNfpALFd0NA",
        "outputId": "07bebf27-a547-45f7-c22b-4ef0cdba7053"
      },
      "outputs": [
        {
          "output_type": "stream",
          "name": "stdout",
          "text": [
            "Saved chapter 1 to quran_texts/chapter_1.txt\n",
            "Saved chapter 2 to quran_texts/chapter_2.txt\n",
            "Saved chapter 3 to quran_texts/chapter_3.txt\n",
            "Saved chapter 4 to quran_texts/chapter_4.txt\n",
            "Saved chapter 5 to quran_texts/chapter_5.txt\n",
            "Saved chapter 6 to quran_texts/chapter_6.txt\n",
            "Saved chapter 7 to quran_texts/chapter_7.txt\n",
            "Saved chapter 8 to quran_texts/chapter_8.txt\n",
            "Saved chapter 9 to quran_texts/chapter_9.txt\n",
            "Saved chapter 10 to quran_texts/chapter_10.txt\n",
            "Saved chapter 11 to quran_texts/chapter_11.txt\n",
            "Saved chapter 12 to quran_texts/chapter_12.txt\n",
            "Saved chapter 13 to quran_texts/chapter_13.txt\n",
            "Saved chapter 14 to quran_texts/chapter_14.txt\n",
            "Saved chapter 15 to quran_texts/chapter_15.txt\n",
            "Saved chapter 16 to quran_texts/chapter_16.txt\n",
            "Saved chapter 17 to quran_texts/chapter_17.txt\n",
            "Saved chapter 18 to quran_texts/chapter_18.txt\n",
            "Saved chapter 19 to quran_texts/chapter_19.txt\n",
            "Saved chapter 20 to quran_texts/chapter_20.txt\n",
            "Saved chapter 21 to quran_texts/chapter_21.txt\n",
            "Saved chapter 22 to quran_texts/chapter_22.txt\n",
            "Saved chapter 23 to quran_texts/chapter_23.txt\n",
            "Saved chapter 24 to quran_texts/chapter_24.txt\n",
            "Saved chapter 25 to quran_texts/chapter_25.txt\n",
            "Saved chapter 26 to quran_texts/chapter_26.txt\n",
            "Saved chapter 27 to quran_texts/chapter_27.txt\n",
            "Saved chapter 28 to quran_texts/chapter_28.txt\n",
            "Saved chapter 29 to quran_texts/chapter_29.txt\n",
            "Saved chapter 30 to quran_texts/chapter_30.txt\n",
            "Saved chapter 31 to quran_texts/chapter_31.txt\n",
            "Saved chapter 32 to quran_texts/chapter_32.txt\n",
            "Saved chapter 33 to quran_texts/chapter_33.txt\n",
            "Saved chapter 34 to quran_texts/chapter_34.txt\n",
            "Saved chapter 35 to quran_texts/chapter_35.txt\n",
            "Saved chapter 36 to quran_texts/chapter_36.txt\n",
            "Saved chapter 37 to quran_texts/chapter_37.txt\n",
            "Saved chapter 38 to quran_texts/chapter_38.txt\n",
            "Saved chapter 39 to quran_texts/chapter_39.txt\n",
            "Saved chapter 40 to quran_texts/chapter_40.txt\n",
            "Saved chapter 41 to quran_texts/chapter_41.txt\n",
            "Saved chapter 42 to quran_texts/chapter_42.txt\n",
            "Saved chapter 43 to quran_texts/chapter_43.txt\n",
            "Saved chapter 44 to quran_texts/chapter_44.txt\n",
            "Saved chapter 45 to quran_texts/chapter_45.txt\n",
            "Saved chapter 46 to quran_texts/chapter_46.txt\n",
            "Saved chapter 47 to quran_texts/chapter_47.txt\n",
            "Saved chapter 48 to quran_texts/chapter_48.txt\n",
            "Saved chapter 49 to quran_texts/chapter_49.txt\n",
            "Saved chapter 50 to quran_texts/chapter_50.txt\n",
            "Saved chapter 51 to quran_texts/chapter_51.txt\n",
            "Saved chapter 52 to quran_texts/chapter_52.txt\n",
            "Saved chapter 53 to quran_texts/chapter_53.txt\n",
            "Saved chapter 54 to quran_texts/chapter_54.txt\n",
            "Saved chapter 55 to quran_texts/chapter_55.txt\n",
            "Saved chapter 56 to quran_texts/chapter_56.txt\n",
            "Saved chapter 57 to quran_texts/chapter_57.txt\n",
            "Saved chapter 58 to quran_texts/chapter_58.txt\n",
            "Saved chapter 59 to quran_texts/chapter_59.txt\n",
            "Saved chapter 60 to quran_texts/chapter_60.txt\n",
            "Saved chapter 61 to quran_texts/chapter_61.txt\n",
            "Saved chapter 62 to quran_texts/chapter_62.txt\n",
            "Saved chapter 63 to quran_texts/chapter_63.txt\n",
            "Saved chapter 64 to quran_texts/chapter_64.txt\n",
            "Saved chapter 65 to quran_texts/chapter_65.txt\n",
            "Saved chapter 66 to quran_texts/chapter_66.txt\n",
            "Saved chapter 67 to quran_texts/chapter_67.txt\n",
            "Saved chapter 68 to quran_texts/chapter_68.txt\n",
            "Saved chapter 69 to quran_texts/chapter_69.txt\n",
            "Saved chapter 70 to quran_texts/chapter_70.txt\n",
            "Saved chapter 71 to quran_texts/chapter_71.txt\n",
            "Saved chapter 72 to quran_texts/chapter_72.txt\n",
            "Saved chapter 73 to quran_texts/chapter_73.txt\n",
            "Saved chapter 74 to quran_texts/chapter_74.txt\n",
            "Saved chapter 75 to quran_texts/chapter_75.txt\n",
            "Saved chapter 76 to quran_texts/chapter_76.txt\n",
            "Saved chapter 77 to quran_texts/chapter_77.txt\n",
            "Saved chapter 78 to quran_texts/chapter_78.txt\n",
            "Saved chapter 79 to quran_texts/chapter_79.txt\n",
            "Saved chapter 80 to quran_texts/chapter_80.txt\n",
            "Saved chapter 81 to quran_texts/chapter_81.txt\n",
            "Saved chapter 82 to quran_texts/chapter_82.txt\n",
            "Saved chapter 83 to quran_texts/chapter_83.txt\n",
            "Saved chapter 84 to quran_texts/chapter_84.txt\n",
            "Saved chapter 85 to quran_texts/chapter_85.txt\n",
            "Saved chapter 86 to quran_texts/chapter_86.txt\n",
            "Saved chapter 87 to quran_texts/chapter_87.txt\n",
            "Saved chapter 88 to quran_texts/chapter_88.txt\n",
            "Saved chapter 89 to quran_texts/chapter_89.txt\n",
            "Saved chapter 90 to quran_texts/chapter_90.txt\n",
            "Saved chapter 91 to quran_texts/chapter_91.txt\n",
            "Saved chapter 92 to quran_texts/chapter_92.txt\n",
            "Saved chapter 93 to quran_texts/chapter_93.txt\n",
            "Saved chapter 94 to quran_texts/chapter_94.txt\n",
            "Saved chapter 95 to quran_texts/chapter_95.txt\n",
            "Saved chapter 96 to quran_texts/chapter_96.txt\n",
            "Saved chapter 97 to quran_texts/chapter_97.txt\n",
            "Saved chapter 98 to quran_texts/chapter_98.txt\n",
            "Saved chapter 99 to quran_texts/chapter_99.txt\n",
            "Saved chapter 100 to quran_texts/chapter_100.txt\n",
            "Saved chapter 101 to quran_texts/chapter_101.txt\n",
            "Saved chapter 102 to quran_texts/chapter_102.txt\n",
            "Saved chapter 103 to quran_texts/chapter_103.txt\n",
            "Saved chapter 104 to quran_texts/chapter_104.txt\n",
            "Saved chapter 105 to quran_texts/chapter_105.txt\n",
            "Saved chapter 106 to quran_texts/chapter_106.txt\n",
            "Saved chapter 107 to quran_texts/chapter_107.txt\n",
            "Saved chapter 108 to quran_texts/chapter_108.txt\n",
            "Saved chapter 109 to quran_texts/chapter_109.txt\n",
            "Saved chapter 110 to quran_texts/chapter_110.txt\n",
            "Saved chapter 111 to quran_texts/chapter_111.txt\n",
            "End of document reached.\n",
            "Saved chapter 112 to quran_texts/chapter_112.txt\n"
          ]
        }
      ],
      "source": [
        "# URL과 웹 드라이버 설정\n",
        "url = 'https://www.gutenberg.org/cache/epub/2800/pg2800-images.html'\n",
        "driver = webdriver.Chrome(options=chrome_options)\n",
        "driver.get(url)\n",
        "\n",
        "wait = WebDriverWait(driver, 10)  # 최대 10초 대기\n",
        "\n",
        "# 저장할 폴더 생성\n",
        "output_dir = 'quran_texts'\n",
        "os.makedirs(output_dir, exist_ok=True)\n",
        "\n",
        "current_document = []  # 현재 문서의 텍스트를 저장할 리스트\n",
        "chapter_count = 1  # 챕터 카운터\n",
        "start_crawling = False  # 첫 번째 <h4> 이후 크롤링 시작\n",
        "\n",
        "try:\n",
        "    # 페이지의 모든 태그를 순서대로 가져옴\n",
        "    elements = driver.find_elements(By.XPATH, \"//*[name()='h4' or name()='p' or @id='pg-end-separator']\")\n",
        "\n",
        "    for element in elements:\n",
        "        # 크롤링 종료 조건: <div id=\"pg-end-separator\"> 발견 시\n",
        "        if element.tag_name == 'div' and element.get_attribute('id') == 'pg-end-separator':\n",
        "            break\n",
        "\n",
        "        # 첫 번째 <h4> 이후 크롤링 시작\n",
        "        if element.tag_name == 'h4':\n",
        "            start_crawling = True  # 첫 번째 <h4> 발견 시 True로 설정\n",
        "\n",
        "            if current_document:  # 현재 문서가 비어있지 않다면 데이터를 파일로 저장\n",
        "                # 전처리 및 병합\n",
        "                quran_processed_text = ' '.join(preprocess_text(' '.join(current_document)).split())\n",
        "\n",
        "                # 파일 저장\n",
        "                with open(os.path.join(output_dir, f'chapter_{chapter_count}.txt'), 'w', encoding='utf-8') as file:\n",
        "                    file.write(quran_processed_text)\n",
        "\n",
        "                print(f\"Saved chapter {chapter_count} to {output_dir}/chapter_{chapter_count}.txt\")  # 진행 상황 출력\n",
        "\n",
        "                chapter_count += 1  # 챕터 카운트 증가\n",
        "                current_document = []  # 새로운 문서 시작을 위해 초기화\n",
        "\n",
        "        # <p> 태그의 텍스트 수집\n",
        "        if start_crawling and element.tag_name == 'p':\n",
        "            quran_text = preprocess_text(element.text.strip())\n",
        "            current_document.append(quran_text)\n",
        "\n",
        "    # 마지막 문서 저장\n",
        "    if current_document:\n",
        "        quran_processed_text = ' '.join(preprocess_text(' '.join(current_document)).split())\n",
        "        with open(os.path.join(output_dir, f'chapter_{chapter_count}.txt'), 'w', encoding='utf-8') as file:\n",
        "            file.write(quran_processed_text)\n",
        "        print(f\"Saved chapter {chapter_count} to {output_dir}/chapter_{chapter_count}.txt\")  # 마지막 챕터 저장 출력\n",
        "\n",
        "except Exception as e:\n",
        "    print(\"Error:\", e)\n",
        "\n",
        "finally:\n",
        "    # 드라이버 종료\n",
        "    driver.quit()\n"
      ]
    },
    {
      "cell_type": "markdown",
      "metadata": {
        "id": "Rjzbs_EcgxBx"
      },
      "source": [
        "## TextRank\n",
        "- Bible과 Qur'an의 키워드 추출 및 문장 요약\n"
      ]
    },
    {
      "cell_type": "markdown",
      "metadata": {
        "id": "ufr71v5RlmHr"
      },
      "source": [
        "### Bible"
      ]
    },
    {
      "cell_type": "code",
      "execution_count": null,
      "metadata": {
        "id": "09aYxjJMlowp"
      },
      "outputs": [],
      "source": [
        "# Spark 세션 생성\n",
        "spark = SparkSession.builder.appName(\"TextRank Summary of the Bible\").getOrCreate()\n",
        "\n",
        "# 크롤링한 텍스트 파일 로드 (각 챕터를 별도의 행으로 저장)\n",
        "data_dir = \"/content/bible_texts\"  # 크롤링한 텍스트 파일이 저장된 디렉터리 경로\n",
        "text_files = [(file, open(os.path.join(data_dir, file), \"r\", encoding=\"utf-8\").read()) for file in os.listdir(data_dir) if file.endswith(\".txt\")]\n",
        "df = spark.createDataFrame(text_files, [\"filename\", \"text\"])\n",
        "\n",
        "# TextRank 알고리즘 함수 정의\n",
        "def textrank_summary_and_keywords(text):\n",
        "    # 문장 및 단어 토큰화\n",
        "    sentences = sent_tokenize(text)\n",
        "    words = word_tokenize(text.lower())\n",
        "\n",
        "    # TF-IDF 임베딩 생성\n",
        "    vectorizer = TfidfVectorizer()\n",
        "    sentence_vectors = vectorizer.fit_transform(sentences)\n",
        "\n",
        "    # 코사인 유사도로 유사도 행렬 생성\n",
        "    similarity_matrix = cosine_similarity(sentence_vectors)\n",
        "\n",
        "    # 그래프 생성 및 PageRank 계산\n",
        "    nx_graph = nx.from_numpy_array(similarity_matrix)\n",
        "    scores = nx.pagerank(nx_graph)\n",
        "\n",
        "    # 상위 3개 문장을 요약으로 추출\n",
        "    ranked_sentences = sorted(((scores[i], s) for i, s in enumerate(sentences)), reverse=True)\n",
        "    summary = \" \".join([ranked_sentences[i][1] for i in range(min(3, len(ranked_sentences)))])\n",
        "\n",
        "    # 상위 10개 키워드 추출\n",
        "    keywords = \" \".join(sorted(set(words), key=words.count, reverse=True)[:10])\n",
        "\n",
        "    return summary, keywords\n",
        "\n",
        "# UDF로 TextRank 요약 및 키워드 추출 함수 등록\n",
        "textrank_udf = udf(lambda text: textrank_summary_and_keywords(text)[0], StringType())\n",
        "keywords_udf = udf(lambda text: textrank_summary_and_keywords(text)[1], StringType())\n",
        "\n",
        "# DataFrame에 요약과 키워드 컬럼 추가\n",
        "df = df.withColumn(\"summary\", textrank_udf(df.text))\n",
        "df = df.withColumn(\"keywords\", keywords_udf(df.text))\n",
        "\n",
        "# 요약 및 키워드 결과를 pandas DataFrame으로 변환\n",
        "result_df = df.select(\"filename\", \"summary\", \"keywords\").toPandas()\n",
        "\n",
        "# 요약된 문장을 bible_summary.txt 파일로 저장\n",
        "with open(\"bible_summary.txt\", \"w\") as file:\n",
        "    for index, row in result_df.iterrows():\n",
        "        summary_text = f\"Filename: {row['filename']}\\nSummary: {row['summary']}\\n\"\n",
        "        file.write(summary_text + \"\\n\")  # 파일에 저장\n",
        "\n",
        "# Spark 세션 종료\n",
        "spark.stop()"
      ]
    },
    {
      "cell_type": "markdown",
      "metadata": {
        "id": "4fELk7kYlu_5"
      },
      "source": [
        "### Quran"
      ]
    },
    {
      "cell_type": "code",
      "execution_count": null,
      "metadata": {
        "id": "703PUJuSlway"
      },
      "outputs": [],
      "source": [
        "# Spark 세션 생성\n",
        "spark = SparkSession.builder.appName(\"TextRank Summary of the Quran\").getOrCreate()\n",
        "\n",
        "# 크롤링한 텍스트 파일 로드 (각 챕터를 별도의 행으로 저장)\n",
        "data_dir = \"/content/quran_texts\"  # 크롤링한 텍스트 파일이 저장된 디렉터리 경로\n",
        "text_files = [(file, open(os.path.join(data_dir, file), \"r\", encoding=\"utf-8\").read()) for file in os.listdir(data_dir) if file.endswith(\".txt\")]\n",
        "df = spark.createDataFrame(text_files, [\"filename\", \"text\"])\n",
        "\n",
        "# TextRank 알고리즘 함수 정의\n",
        "def textrank_summary_and_keywords(text):\n",
        "    # 문장 및 단어 토큰화\n",
        "    sentences = sent_tokenize(text)\n",
        "    words = word_tokenize(text.lower())\n",
        "\n",
        "    # TF-IDF 임베딩 생성\n",
        "    vectorizer = TfidfVectorizer()\n",
        "    sentence_vectors = vectorizer.fit_transform(sentences)\n",
        "\n",
        "    # 코사인 유사도로 유사도 행렬 생성\n",
        "    similarity_matrix = cosine_similarity(sentence_vectors)\n",
        "\n",
        "    # 그래프 생성 및 PageRank 계산\n",
        "    nx_graph = nx.from_numpy_array(similarity_matrix)\n",
        "    scores = nx.pagerank(nx_graph)\n",
        "\n",
        "    # 상위 3개 문장을 요약으로 추출\n",
        "    ranked_sentences = sorted(((scores[i], s) for i, s in enumerate(sentences)), reverse=True)\n",
        "    summary = \" \".join([ranked_sentences[i][1] for i in range(min(3, len(ranked_sentences)))])\n",
        "\n",
        "    # 상위 10개 키워드 추출\n",
        "    keywords = \" \".join(sorted(set(words), key=words.count, reverse=True)[:10])\n",
        "\n",
        "    return summary, keywords\n",
        "\n",
        "# UDF로 TextRank 요약 및 키워드 추출 함수 등록\n",
        "textrank_udf = udf(lambda text: textrank_summary_and_keywords(text)[0], StringType())\n",
        "keywords_udf = udf(lambda text: textrank_summary_and_keywords(text)[1], StringType())\n",
        "\n",
        "# DataFrame에 요약과 키워드 컬럼 추가\n",
        "df = df.withColumn(\"summary\", textrank_udf(df.text))\n",
        "df = df.withColumn(\"keywords\", keywords_udf(df.text))\n",
        "\n",
        "# 요약 및 키워드 결과를 pandas DataFrame으로 변환\n",
        "result_df = df.select(\"filename\", \"summary\", \"keywords\").toPandas()\n",
        "\n",
        "# 요약된 문장을 quran_summary.txt 파일로 저장\n",
        "with open(\"quran_summary.txt\", \"w\") as file:\n",
        "    for index, row in result_df.iterrows():\n",
        "        summary_text = f\"Filename: {row['filename']}\\nSummary: {row['summary']}\\n\"\n",
        "        file.write(summary_text + \"\\n\")  # 파일에 저장\n",
        "\n",
        "spark.stop()"
      ]
    },
    {
      "cell_type": "markdown",
      "metadata": {
        "id": "-ivbDuDwH8JH"
      },
      "source": [
        "## Similarity\n",
        "- bible_summary.txt와 quran_summary.txt를 사용하여 Bible과 Quran의 유사도 계산"
      ]
    },
    {
      "cell_type": "markdown",
      "metadata": {
        "id": "KGvWfPUB7zAV"
      },
      "source": [
        "### Cosine Similarity & Jaccard Similarity"
      ]
    },
    {
      "cell_type": "code",
      "execution_count": null,
      "metadata": {
        "colab": {
          "base_uri": "https://localhost:8080/",
          "height": 619
        },
        "id": "YqheRDTEH8sA",
        "outputId": "a2fb4c8f-0d0f-4d22-a66b-57bc91d334a7"
      },
      "outputs": [
        {
          "output_type": "display_data",
          "data": {
            "text/plain": [
              "<Figure size 600x500 with 1 Axes>"
            ],
            "image/png": "[encoded data removed]"
          },
          "metadata": {}
        },
        {
          "output_type": "stream",
          "name": "stdout",
          "text": [
            "Similarity\n",
            "Cosine: 0.9344941661589431\n",
            "Jaccard: 0.25122222222222224\n",
            "\n",
            "\n",
            "Similarity (Percentage)\n",
            "Cosine:93.44941661589431%\n",
            "Jaccard:25.122222222222224%\n"
          ]
        }
      ],
      "source": [
        "# Spark 세션 생성\n",
        "spark = SparkSession.builder.appName(\"Bible vs Quran Similarity\").getOrCreate()\n",
        "\n",
        "# 요약 파일 로드\n",
        "data_dir = \"/content\"  # 텍스트 파일이 저장된 디렉터리 경로\n",
        "files = [(\"bible\", open(os.path.join(data_dir, \"bible_summary.txt\"), \"r\", encoding=\"utf-8\").read()),\n",
        "         (\"quran\", open(os.path.join(data_dir, \"quran_summary.txt\"), \"r\", encoding=\"utf-8\").read())]\n",
        "df = spark.createDataFrame(files, [\"text_id\", \"text\"])\n",
        "\n",
        "# 텍스트 데이터 수집\n",
        "texts = [row.text for row in df.collect()]\n",
        "\n",
        "# 코사인 유사도 계산\n",
        "vectorizer = TfidfVectorizer()\n",
        "tfidf_matrix = vectorizer.fit_transform(texts)\n",
        "cosine_sim = cosine_similarity(tfidf_matrix[0:1], tfidf_matrix[1:2])[0][0]\n",
        "\n",
        "# 자카드 유사도 계산 함수 정의\n",
        "def jaccard_similarity(text1, text2):\n",
        "    words_text1 = set(text1.split())\n",
        "    words_text2 = set(text2.split())\n",
        "    intersection = words_text1.intersection(words_text2)\n",
        "    union = words_text1.union(words_text2)\n",
        "    return float(len(intersection)) / len(union)\n",
        "\n",
        "# 자카드 유사도 계산\n",
        "jaccard_sim = jaccard_similarity(texts[0], texts[1])\n",
        "\n",
        "# 유사도 시각화\n",
        "labels = ['Cosine Similarity', 'Jaccard Similarity']\n",
        "similarities = [cosine_sim, jaccard_sim]\n",
        "\n",
        "# 그래프 그리기\n",
        "plt.figure(figsize=(6, 5))\n",
        "plt.bar(labels, similarities, color=['skyblue', 'pink'])\n",
        "plt.ylim(0, 1)\n",
        "plt.ylabel('Similarity')\n",
        "plt.title(\"Bible vs Quran Similarity\")\n",
        "plt.show()\n",
        "\n",
        "print(\"Similarity\")\n",
        "print(f\"Cosine: {cosine_sim}\")\n",
        "print(f\"Jaccard: {jaccard_sim}\")\n",
        "print(\"\\n\")\n",
        "print(\"Similarity (Percentage)\")\n",
        "print(f\"Cosine:{cosine_sim*100}%\")\n",
        "print(f\"Jaccard:{jaccard_sim*100}%\")\n",
        "# Spark 세션 종료\n",
        "spark.stop()"
      ]
    }
  ],
  "metadata": {
    "accelerator": "GPU",
    "colab": {
      "gpuType": "T4",
      "provenance": [],
      "mount_file_id": "1iATmboKRV4Fjq-chV2xnS_jtX7LEHB4K",
      "authorship_tag": "ABX9TyOH+GiukM2AX0txlY9nW/Y2",
      "include_colab_link": true
    },
    "kernelspec": {
      "display_name": "Python 3",
      "name": "python3"
    },
    "language_info": {
      "name": "python"
    }
  },
  "nbformat": 4,
  "nbformat_minor": 0
}