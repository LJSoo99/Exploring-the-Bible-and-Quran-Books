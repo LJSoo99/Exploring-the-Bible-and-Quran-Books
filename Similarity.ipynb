{
  "cells": [
    {
      "cell_type": "markdown",
      "metadata": {
        "id": "view-in-github",
        "colab_type": "text"
      },
      "source": [
        "<a href=\"https://colab.research.google.com/github/qkrdudwls/Exploring-the-Bible-and-Quran-Books/blob/main/Similarity.ipynb\" target=\"_parent\"><img src=\"https://colab.research.google.com/assets/colab-badge.svg\" alt=\"Open In Colab\"/></a>"
      ]
    },
    {
      "cell_type": "markdown",
      "metadata": {
        "id": "c-cCP6EEgC9K"
      },
      "source": [
        "# **성경과 코란의 유사도 분석**\n"
      ]
    },
    {
      "cell_type": "markdown",
      "metadata": {
        "id": "Y8lSMDGiLTJv"
      },
      "source": [
        "## Overview\n",
        "- Bible과 Quran의 본문을 chapter 별로 crawling\n",
        "- Shingling, Min-Hashing, LSH 알고리즘을 적용하여 유사도 계산 및 가장 유사한 문서 쌍 찾기"
      ]
    },
    {
      "cell_type": "markdown",
      "metadata": {
        "id": "k86C5abIdOp3"
      },
      "source": [
        "## Set up\n"
      ]
    },
    {
      "cell_type": "markdown",
      "metadata": {
        "id": "eKrGWEiieEti"
      },
      "source": [
        "### 구글 드라이브 마운트"
      ]
    },
    {
      "cell_type": "code",
      "execution_count": null,
      "metadata": {
        "colab": {
          "base_uri": "https://localhost:8080/"
        },
        "id": "XXXeTL8Ad6sq",
        "outputId": "7568cc08-ba74-4f9c-c53a-8b1a28cf2080",
        "collapsed": true
      },
      "outputs": [
        {
          "output_type": "stream",
          "name": "stdout",
          "text": [
            "Mounted at /content/drive\n"
          ]
        }
      ],
      "source": [
        "from google.colab import drive\n",
        "drive.mount('/content/drive')"
      ]
    },
    {
      "cell_type": "markdown",
      "metadata": {
        "id": "L8y4OTvEeIFo"
      },
      "source": [
        "### Selenium & chromedriver 설치"
      ]
    },
    {
      "cell_type": "code",
      "execution_count": null,
      "metadata": {
        "colab": {
          "base_uri": "https://localhost:8080/"
        },
        "collapsed": true,
        "id": "YZIqNhEkeOUL",
        "outputId": "3a64f6dd-19ff-42ff-b963-4d4c0ab58504"
      },
      "outputs": [
        {
          "output_type": "stream",
          "name": "stdout",
          "text": [
            "Collecting selenium\n",
            "  Downloading selenium-4.27.1-py3-none-any.whl.metadata (7.1 kB)\n",
            "Requirement already satisfied: urllib3<3,>=1.26 in /usr/local/lib/python3.10/dist-packages (from urllib3[socks]<3,>=1.26->selenium) (2.2.3)\n",
            "Collecting trio~=0.17 (from selenium)\n",
            "  Downloading trio-0.27.0-py3-none-any.whl.metadata (8.6 kB)\n",
            "Collecting trio-websocket~=0.9 (from selenium)\n",
            "  Downloading trio_websocket-0.11.1-py3-none-any.whl.metadata (4.7 kB)\n",
            "Requirement already satisfied: certifi>=2021.10.8 in /usr/local/lib/python3.10/dist-packages (from selenium) (2024.8.30)\n",
            "Requirement already satisfied: typing_extensions~=4.9 in /usr/local/lib/python3.10/dist-packages (from selenium) (4.12.2)\n",
            "Requirement already satisfied: websocket-client~=1.8 in /usr/local/lib/python3.10/dist-packages (from selenium) (1.8.0)\n",
            "Requirement already satisfied: attrs>=23.2.0 in /usr/local/lib/python3.10/dist-packages (from trio~=0.17->selenium) (24.2.0)\n",
            "Collecting sortedcontainers (from trio~=0.17->selenium)\n",
            "  Downloading sortedcontainers-2.4.0-py2.py3-none-any.whl.metadata (10 kB)\n",
            "Requirement already satisfied: idna in /usr/local/lib/python3.10/dist-packages (from trio~=0.17->selenium) (3.10)\n",
            "Collecting outcome (from trio~=0.17->selenium)\n",
            "  Downloading outcome-1.3.0.post0-py2.py3-none-any.whl.metadata (2.6 kB)\n",
            "Requirement already satisfied: sniffio>=1.3.0 in /usr/local/lib/python3.10/dist-packages (from trio~=0.17->selenium) (1.3.1)\n",
            "Requirement already satisfied: exceptiongroup in /usr/local/lib/python3.10/dist-packages (from trio~=0.17->selenium) (1.2.2)\n",
            "Collecting wsproto>=0.14 (from trio-websocket~=0.9->selenium)\n",
            "  Downloading wsproto-1.2.0-py3-none-any.whl.metadata (5.6 kB)\n",
            "Requirement already satisfied: pysocks!=1.5.7,<2.0,>=1.5.6 in /usr/local/lib/python3.10/dist-packages (from urllib3[socks]<3,>=1.26->selenium) (1.7.1)\n",
            "Requirement already satisfied: h11<1,>=0.9.0 in /usr/local/lib/python3.10/dist-packages (from wsproto>=0.14->trio-websocket~=0.9->selenium) (0.14.0)\n",
            "Downloading selenium-4.27.1-py3-none-any.whl (9.7 MB)\n",
            "\u001b[2K   \u001b[90m━━━━━━━━━━━━━━━━━━━━━━━━━━━━━━━━━━━━━━━━\u001b[0m \u001b[32m9.7/9.7 MB\u001b[0m \u001b[31m75.2 MB/s\u001b[0m eta \u001b[36m0:00:00\u001b[0m\n",
            "\u001b[?25hDownloading trio-0.27.0-py3-none-any.whl (481 kB)\n",
            "\u001b[2K   \u001b[90m━━━━━━━━━━━━━━━━━━━━━━━━━━━━━━━━━━━━━━━━\u001b[0m \u001b[32m481.7/481.7 kB\u001b[0m \u001b[31m34.4 MB/s\u001b[0m eta \u001b[36m0:00:00\u001b[0m\n",
            "\u001b[?25hDownloading trio_websocket-0.11.1-py3-none-any.whl (17 kB)\n",
            "Downloading wsproto-1.2.0-py3-none-any.whl (24 kB)\n",
            "Downloading outcome-1.3.0.post0-py2.py3-none-any.whl (10 kB)\n",
            "Downloading sortedcontainers-2.4.0-py2.py3-none-any.whl (29 kB)\n",
            "Installing collected packages: sortedcontainers, wsproto, outcome, trio, trio-websocket, selenium\n",
            "Successfully installed outcome-1.3.0.post0 selenium-4.27.1 sortedcontainers-2.4.0 trio-0.27.0 trio-websocket-0.11.1 wsproto-1.2.0\n",
            "Get:1 http://security.ubuntu.com/ubuntu jammy-security InRelease [129 kB]\n",
            "Get:2 https://cloud.r-project.org/bin/linux/ubuntu jammy-cran40/ InRelease [3,626 B]\n",
            "Hit:3 https://developer.download.nvidia.com/compute/cuda/repos/ubuntu2204/x86_64  InRelease\n",
            "Get:4 https://ppa.launchpadcontent.net/deadsnakes/ppa/ubuntu jammy InRelease [18.1 kB]\n",
            "Get:5 https://ppa.launchpadcontent.net/graphics-drivers/ppa/ubuntu jammy InRelease [24.3 kB]\n",
            "Hit:6 https://ppa.launchpadcontent.net/ubuntugis/ppa/ubuntu jammy InRelease\n",
            "Hit:7 http://archive.ubuntu.com/ubuntu jammy InRelease\n",
            "Get:8 http://archive.ubuntu.com/ubuntu jammy-updates InRelease [128 kB]\n",
            "Get:9 http://security.ubuntu.com/ubuntu jammy-security/universe amd64 Packages [1,226 kB]\n",
            "Get:10 http://security.ubuntu.com/ubuntu jammy-security/main amd64 Packages [2,458 kB]\n",
            "Get:11 http://security.ubuntu.com/ubuntu jammy-security/restricted amd64 Packages [3,331 kB]\n",
            "Get:12 https://r2u.stat.illinois.edu/ubuntu jammy InRelease [6,555 B]\n",
            "Get:13 http://archive.ubuntu.com/ubuntu jammy-backports InRelease [127 kB]\n",
            "Get:14 https://ppa.launchpadcontent.net/deadsnakes/ppa/ubuntu jammy/main amd64 Packages [32.9 kB]\n",
            "Get:15 https://ppa.launchpadcontent.net/graphics-drivers/ppa/ubuntu jammy/main amd64 Packages [49.7 kB]\n",
            "Get:16 http://archive.ubuntu.com/ubuntu jammy-updates/restricted amd64 Packages [3,453 kB]\n",
            "Get:17 https://r2u.stat.illinois.edu/ubuntu jammy/main all Packages [8,535 kB]\n",
            "Get:18 http://archive.ubuntu.com/ubuntu jammy-updates/universe amd64 Packages [1,515 kB]\n",
            "Get:19 http://archive.ubuntu.com/ubuntu jammy-updates/main amd64 Packages [2,741 kB]\n",
            "Get:20 https://r2u.stat.illinois.edu/ubuntu jammy/main amd64 Packages [2,626 kB]\n",
            "Fetched 26.4 MB in 3s (8,914 kB/s)\n",
            "Reading package lists... Done\n",
            "W: Skipping acquire of configured file 'main/source/Sources' as repository 'https://r2u.stat.illinois.edu/ubuntu jammy InRelease' does not seem to provide it (sources.list entry misspelt?)\n",
            "Reading package lists... Done\n",
            "Building dependency tree... Done\n",
            "Reading state information... Done\n",
            "The following additional packages will be installed:\n",
            "  apparmor chromium-browser libfuse3-3 liblzo2-2 libudev1 snapd squashfs-tools systemd-hwe-hwdb\n",
            "  udev\n",
            "Suggested packages:\n",
            "  apparmor-profiles-extra apparmor-utils fuse3 zenity | kdialog\n",
            "The following NEW packages will be installed:\n",
            "  apparmor chromium-browser chromium-chromedriver libfuse3-3 liblzo2-2 snapd squashfs-tools\n",
            "  systemd-hwe-hwdb udev\n",
            "The following packages will be upgraded:\n",
            "  libudev1\n",
            "1 upgraded, 9 newly installed, 0 to remove and 54 not upgraded.\n",
            "Need to get 30.2 MB of archives.\n",
            "After this operation, 123 MB of additional disk space will be used.\n",
            "Get:1 http://archive.ubuntu.com/ubuntu jammy-updates/main amd64 apparmor amd64 3.0.4-2ubuntu2.4 [598 kB]\n",
            "Get:2 http://archive.ubuntu.com/ubuntu jammy/main amd64 liblzo2-2 amd64 2.10-2build3 [53.7 kB]\n",
            "Get:3 http://archive.ubuntu.com/ubuntu jammy/main amd64 squashfs-tools amd64 1:4.5-3build1 [159 kB]\n",
            "Get:4 http://archive.ubuntu.com/ubuntu jammy-updates/main amd64 libudev1 amd64 249.11-0ubuntu3.12 [78.2 kB]\n",
            "Get:5 http://archive.ubuntu.com/ubuntu jammy-updates/main amd64 udev amd64 249.11-0ubuntu3.12 [1,557 kB]\n",
            "Get:6 http://archive.ubuntu.com/ubuntu jammy/main amd64 libfuse3-3 amd64 3.10.5-1build1 [81.2 kB]\n",
            "Get:7 http://archive.ubuntu.com/ubuntu jammy-updates/main amd64 snapd amd64 2.66.1+22.04 [27.6 MB]\n",
            "Get:8 http://archive.ubuntu.com/ubuntu jammy-updates/universe amd64 chromium-browser amd64 1:85.0.4183.83-0ubuntu2.22.04.1 [49.2 kB]\n",
            "Get:9 http://archive.ubuntu.com/ubuntu jammy-updates/universe amd64 chromium-chromedriver amd64 1:85.0.4183.83-0ubuntu2.22.04.1 [2,308 B]\n",
            "Get:10 http://archive.ubuntu.com/ubuntu jammy-updates/main amd64 systemd-hwe-hwdb all 249.11.5 [3,228 B]\n",
            "Fetched 30.2 MB in 1s (20.6 MB/s)\n",
            "Preconfiguring packages ...\n",
            "Selecting previously unselected package apparmor.\n",
            "(Reading database ... 123632 files and directories currently installed.)\n",
            "Preparing to unpack .../apparmor_3.0.4-2ubuntu2.4_amd64.deb ...\n",
            "Unpacking apparmor (3.0.4-2ubuntu2.4) ...\n",
            "Selecting previously unselected package liblzo2-2:amd64.\n",
            "Preparing to unpack .../liblzo2-2_2.10-2build3_amd64.deb ...\n",
            "Unpacking liblzo2-2:amd64 (2.10-2build3) ...\n",
            "Selecting previously unselected package squashfs-tools.\n",
            "Preparing to unpack .../squashfs-tools_1%3a4.5-3build1_amd64.deb ...\n",
            "Unpacking squashfs-tools (1:4.5-3build1) ...\n",
            "Preparing to unpack .../libudev1_249.11-0ubuntu3.12_amd64.deb ...\n",
            "Unpacking libudev1:amd64 (249.11-0ubuntu3.12) over (249.11-0ubuntu3.10) ...\n",
            "Setting up libudev1:amd64 (249.11-0ubuntu3.12) ...\n",
            "Selecting previously unselected package udev.\n",
            "(Reading database ... 123840 files and directories currently installed.)\n",
            "Preparing to unpack .../udev_249.11-0ubuntu3.12_amd64.deb ...\n",
            "Unpacking udev (249.11-0ubuntu3.12) ...\n",
            "Selecting previously unselected package libfuse3-3:amd64.\n",
            "Preparing to unpack .../libfuse3-3_3.10.5-1build1_amd64.deb ...\n",
            "Unpacking libfuse3-3:amd64 (3.10.5-1build1) ...\n",
            "Selecting previously unselected package snapd.\n",
            "Preparing to unpack .../snapd_2.66.1+22.04_amd64.deb ...\n",
            "Unpacking snapd (2.66.1+22.04) ...\n",
            "Setting up apparmor (3.0.4-2ubuntu2.4) ...\n",
            "Created symlink /etc/systemd/system/sysinit.target.wants/apparmor.service → /lib/systemd/system/apparmor.service.\n",
            "Setting up liblzo2-2:amd64 (2.10-2build3) ...\n",
            "Setting up squashfs-tools (1:4.5-3build1) ...\n",
            "Setting up udev (249.11-0ubuntu3.12) ...\n",
            "invoke-rc.d: could not determine current runlevel\n",
            "invoke-rc.d: policy-rc.d denied execution of start.\n",
            "Setting up libfuse3-3:amd64 (3.10.5-1build1) ...\n",
            "Setting up snapd (2.66.1+22.04) ...\n",
            "Created symlink /etc/systemd/system/multi-user.target.wants/snapd.apparmor.service → /lib/systemd/system/snapd.apparmor.service.\n",
            "Created symlink /etc/systemd/system/multi-user.target.wants/snapd.autoimport.service → /lib/systemd/system/snapd.autoimport.service.\n",
            "Created symlink /etc/systemd/system/multi-user.target.wants/snapd.core-fixup.service → /lib/systemd/system/snapd.core-fixup.service.\n",
            "Created symlink /etc/systemd/system/multi-user.target.wants/snapd.recovery-chooser-trigger.service → /lib/systemd/system/snapd.recovery-chooser-trigger.service.\n",
            "Created symlink /etc/systemd/system/multi-user.target.wants/snapd.seeded.service → /lib/systemd/system/snapd.seeded.service.\n",
            "Created symlink /etc/systemd/system/cloud-final.service.wants/snapd.seeded.service → /lib/systemd/system/snapd.seeded.service.\n",
            "Unit /lib/systemd/system/snapd.seeded.service is added as a dependency to a non-existent unit cloud-final.service.\n",
            "Created symlink /etc/systemd/system/multi-user.target.wants/snapd.service → /lib/systemd/system/snapd.service.\n",
            "Created symlink /etc/systemd/system/timers.target.wants/snapd.snap-repair.timer → /lib/systemd/system/snapd.snap-repair.timer.\n",
            "Created symlink /etc/systemd/system/sockets.target.wants/snapd.socket → /lib/systemd/system/snapd.socket.\n",
            "Created symlink /etc/systemd/system/final.target.wants/snapd.system-shutdown.service → /lib/systemd/system/snapd.system-shutdown.service.\n",
            "Selecting previously unselected package chromium-browser.\n",
            "(Reading database ... 124069 files and directories currently installed.)\n",
            "Preparing to unpack .../chromium-browser_1%3a85.0.4183.83-0ubuntu2.22.04.1_amd64.deb ...\n",
            "=> Installing the chromium snap\n",
            "==> Checking connectivity with the snap store\n",
            "===> System doesn't have a working snapd, skipping\n",
            "Unpacking chromium-browser (1:85.0.4183.83-0ubuntu2.22.04.1) ...\n",
            "Selecting previously unselected package chromium-chromedriver.\n",
            "Preparing to unpack .../chromium-chromedriver_1%3a85.0.4183.83-0ubuntu2.22.04.1_amd64.deb ...\n",
            "Unpacking chromium-chromedriver (1:85.0.4183.83-0ubuntu2.22.04.1) ...\n",
            "Selecting previously unselected package systemd-hwe-hwdb.\n",
            "Preparing to unpack .../systemd-hwe-hwdb_249.11.5_all.deb ...\n",
            "Unpacking systemd-hwe-hwdb (249.11.5) ...\n",
            "Setting up systemd-hwe-hwdb (249.11.5) ...\n",
            "Setting up chromium-browser (1:85.0.4183.83-0ubuntu2.22.04.1) ...\n",
            "update-alternatives: using /usr/bin/chromium-browser to provide /usr/bin/x-www-browser (x-www-browser) in auto mode\n",
            "update-alternatives: using /usr/bin/chromium-browser to provide /usr/bin/gnome-www-browser (gnome-www-browser) in auto mode\n",
            "Setting up chromium-chromedriver (1:85.0.4183.83-0ubuntu2.22.04.1) ...\n",
            "Processing triggers for udev (249.11-0ubuntu3.12) ...\n",
            "Processing triggers for hicolor-icon-theme (0.17-2) ...\n",
            "Processing triggers for libc-bin (2.35-0ubuntu3.4) ...\n",
            "/sbin/ldconfig.real: /usr/local/lib/libumf.so.0 is not a symbolic link\n",
            "\n",
            "/sbin/ldconfig.real: /usr/local/lib/libtbbbind_2_0.so.3 is not a symbolic link\n",
            "\n",
            "/sbin/ldconfig.real: /usr/local/lib/libur_adapter_opencl.so.0 is not a symbolic link\n",
            "\n",
            "/sbin/ldconfig.real: /usr/local/lib/libhwloc.so.15 is not a symbolic link\n",
            "\n",
            "/sbin/ldconfig.real: /usr/local/lib/libtbbmalloc_proxy.so.2 is not a symbolic link\n",
            "\n",
            "/sbin/ldconfig.real: /usr/local/lib/libtbb.so.12 is not a symbolic link\n",
            "\n",
            "/sbin/ldconfig.real: /usr/local/lib/libtcm.so.1 is not a symbolic link\n",
            "\n",
            "/sbin/ldconfig.real: /usr/local/lib/libtbbmalloc.so.2 is not a symbolic link\n",
            "\n",
            "/sbin/ldconfig.real: /usr/local/lib/libtbbbind_2_5.so.3 is not a symbolic link\n",
            "\n",
            "/sbin/ldconfig.real: /usr/local/lib/libur_adapter_level_zero.so.0 is not a symbolic link\n",
            "\n",
            "/sbin/ldconfig.real: /usr/local/lib/libtbbbind.so.3 is not a symbolic link\n",
            "\n",
            "/sbin/ldconfig.real: /usr/local/lib/libur_loader.so.0 is not a symbolic link\n",
            "\n",
            "/sbin/ldconfig.real: /usr/local/lib/libtcm_debug.so.1 is not a symbolic link\n",
            "\n",
            "Processing triggers for man-db (2.10.2-1) ...\n",
            "Processing triggers for dbus (1.12.20-2ubuntu4.1) ...\n",
            "cp: cannot stat '/usr/bin/lib/chromium-browser/chromedriver': No such file or directory\n",
            "Collecting chromedriver-autoinstaller\n",
            "  Downloading chromedriver_autoinstaller-0.6.4-py3-none-any.whl.metadata (2.1 kB)\n",
            "Requirement already satisfied: packaging>=23.1 in /usr/local/lib/python3.10/dist-packages (from chromedriver-autoinstaller) (24.2)\n",
            "Downloading chromedriver_autoinstaller-0.6.4-py3-none-any.whl (7.6 kB)\n",
            "Installing collected packages: chromedriver-autoinstaller\n",
            "Successfully installed chromedriver-autoinstaller-0.6.4\n"
          ]
        }
      ],
      "source": [
        "!pip install selenium\n",
        "!apt-get update\n",
        "\n",
        "!apt install chromium-chromedriver\n",
        "!cp /usr/bin/lib/chromium-browser/chromedriver '/content/drive/MyDrive/Colab Notebooks'\n",
        "!pip install chromedriver-autoinstaller"
      ]
    },
    {
      "cell_type": "markdown",
      "metadata": {
        "id": "VbRYTUCSJS95"
      },
      "source": [
        "### Spark 설치"
      ]
    },
    {
      "cell_type": "code",
      "execution_count": null,
      "metadata": {
        "id": "ofXxJbKDJRkV",
        "colab": {
          "base_uri": "https://localhost:8080/"
        },
        "outputId": "a608f258-f17f-4c2e-c8e4-8f953be0da64"
      },
      "outputs": [
        {
          "output_type": "stream",
          "name": "stdout",
          "text": [
            "Requirement already satisfied: pyspark in /usr/local/lib/python3.10/dist-packages (3.5.3)\n",
            "Requirement already satisfied: py4j==0.10.9.7 in /usr/local/lib/python3.10/dist-packages (from pyspark) (0.10.9.7)\n",
            "The following additional packages will be installed:\n",
            "  libxtst6 openjdk-8-jre-headless\n",
            "Suggested packages:\n",
            "  openjdk-8-demo openjdk-8-source libnss-mdns fonts-dejavu-extra fonts-nanum fonts-ipafont-gothic\n",
            "  fonts-ipafont-mincho fonts-wqy-microhei fonts-wqy-zenhei fonts-indic\n",
            "The following NEW packages will be installed:\n",
            "  libxtst6 openjdk-8-jdk-headless openjdk-8-jre-headless\n",
            "0 upgraded, 3 newly installed, 0 to remove and 54 not upgraded.\n",
            "Need to get 39.7 MB of archives.\n",
            "After this operation, 144 MB of additional disk space will be used.\n",
            "Selecting previously unselected package libxtst6:amd64.\n",
            "(Reading database ... 124097 files and directories currently installed.)\n",
            "Preparing to unpack .../libxtst6_2%3a1.2.3-1build4_amd64.deb ...\n",
            "Unpacking libxtst6:amd64 (2:1.2.3-1build4) ...\n",
            "Selecting previously unselected package openjdk-8-jre-headless:amd64.\n",
            "Preparing to unpack .../openjdk-8-jre-headless_8u432-ga~us1-0ubuntu2~22.04_amd64.deb ...\n",
            "Unpacking openjdk-8-jre-headless:amd64 (8u432-ga~us1-0ubuntu2~22.04) ...\n",
            "Selecting previously unselected package openjdk-8-jdk-headless:amd64.\n",
            "Preparing to unpack .../openjdk-8-jdk-headless_8u432-ga~us1-0ubuntu2~22.04_amd64.deb ...\n",
            "Unpacking openjdk-8-jdk-headless:amd64 (8u432-ga~us1-0ubuntu2~22.04) ...\n",
            "Setting up libxtst6:amd64 (2:1.2.3-1build4) ...\n",
            "Setting up openjdk-8-jre-headless:amd64 (8u432-ga~us1-0ubuntu2~22.04) ...\n",
            "update-alternatives: using /usr/lib/jvm/java-8-openjdk-amd64/jre/bin/orbd to provide /usr/bin/orbd (orbd) in auto mode\n",
            "update-alternatives: using /usr/lib/jvm/java-8-openjdk-amd64/jre/bin/servertool to provide /usr/bin/servertool (servertool) in auto mode\n",
            "update-alternatives: using /usr/lib/jvm/java-8-openjdk-amd64/jre/bin/tnameserv to provide /usr/bin/tnameserv (tnameserv) in auto mode\n",
            "Setting up openjdk-8-jdk-headless:amd64 (8u432-ga~us1-0ubuntu2~22.04) ...\n",
            "update-alternatives: using /usr/lib/jvm/java-8-openjdk-amd64/bin/clhsdb to provide /usr/bin/clhsdb (clhsdb) in auto mode\n",
            "update-alternatives: using /usr/lib/jvm/java-8-openjdk-amd64/bin/extcheck to provide /usr/bin/extcheck (extcheck) in auto mode\n",
            "update-alternatives: using /usr/lib/jvm/java-8-openjdk-amd64/bin/hsdb to provide /usr/bin/hsdb (hsdb) in auto mode\n",
            "update-alternatives: using /usr/lib/jvm/java-8-openjdk-amd64/bin/idlj to provide /usr/bin/idlj (idlj) in auto mode\n",
            "update-alternatives: using /usr/lib/jvm/java-8-openjdk-amd64/bin/javah to provide /usr/bin/javah (javah) in auto mode\n",
            "update-alternatives: using /usr/lib/jvm/java-8-openjdk-amd64/bin/jhat to provide /usr/bin/jhat (jhat) in auto mode\n",
            "update-alternatives: using /usr/lib/jvm/java-8-openjdk-amd64/bin/jsadebugd to provide /usr/bin/jsadebugd (jsadebugd) in auto mode\n",
            "update-alternatives: using /usr/lib/jvm/java-8-openjdk-amd64/bin/native2ascii to provide /usr/bin/native2ascii (native2ascii) in auto mode\n",
            "update-alternatives: using /usr/lib/jvm/java-8-openjdk-amd64/bin/schemagen to provide /usr/bin/schemagen (schemagen) in auto mode\n",
            "update-alternatives: using /usr/lib/jvm/java-8-openjdk-amd64/bin/wsgen to provide /usr/bin/wsgen (wsgen) in auto mode\n",
            "update-alternatives: using /usr/lib/jvm/java-8-openjdk-amd64/bin/wsimport to provide /usr/bin/wsimport (wsimport) in auto mode\n",
            "update-alternatives: using /usr/lib/jvm/java-8-openjdk-amd64/bin/xjc to provide /usr/bin/xjc (xjc) in auto mode\n",
            "Processing triggers for libc-bin (2.35-0ubuntu3.4) ...\n",
            "/sbin/ldconfig.real: /usr/local/lib/libumf.so.0 is not a symbolic link\n",
            "\n",
            "/sbin/ldconfig.real: /usr/local/lib/libtbbbind_2_0.so.3 is not a symbolic link\n",
            "\n",
            "/sbin/ldconfig.real: /usr/local/lib/libur_adapter_opencl.so.0 is not a symbolic link\n",
            "\n",
            "/sbin/ldconfig.real: /usr/local/lib/libhwloc.so.15 is not a symbolic link\n",
            "\n",
            "/sbin/ldconfig.real: /usr/local/lib/libtbbmalloc_proxy.so.2 is not a symbolic link\n",
            "\n",
            "/sbin/ldconfig.real: /usr/local/lib/libtbb.so.12 is not a symbolic link\n",
            "\n",
            "/sbin/ldconfig.real: /usr/local/lib/libtcm.so.1 is not a symbolic link\n",
            "\n",
            "/sbin/ldconfig.real: /usr/local/lib/libtbbmalloc.so.2 is not a symbolic link\n",
            "\n",
            "/sbin/ldconfig.real: /usr/local/lib/libtbbbind_2_5.so.3 is not a symbolic link\n",
            "\n",
            "/sbin/ldconfig.real: /usr/local/lib/libur_adapter_level_zero.so.0 is not a symbolic link\n",
            "\n",
            "/sbin/ldconfig.real: /usr/local/lib/libtbbbind.so.3 is not a symbolic link\n",
            "\n",
            "/sbin/ldconfig.real: /usr/local/lib/libur_loader.so.0 is not a symbolic link\n",
            "\n",
            "/sbin/ldconfig.real: /usr/local/lib/libtcm_debug.so.1 is not a symbolic link\n",
            "\n"
          ]
        }
      ],
      "source": [
        "!pip install pyspark\n",
        "!pip install -U -q PyDrive2\n",
        "!apt install openjdk-8-jdk-headless -qq\n",
        "\n",
        "import os\n",
        "os.environ[\"JAVA_HOME\"] = \"/usr/lib/jvm/java-8-openjdk-amd64\""
      ]
    },
    {
      "cell_type": "markdown",
      "source": [
        "### Datasketch 설치"
      ],
      "metadata": {
        "id": "wybZfHVekKc0"
      }
    },
    {
      "cell_type": "code",
      "source": [
        "!pip install datasketch"
      ],
      "metadata": {
        "colab": {
          "base_uri": "https://localhost:8080/"
        },
        "id": "5csp_F_ykKGl",
        "outputId": "5501bae7-689b-46d7-f819-3c7f2f669e4e"
      },
      "execution_count": null,
      "outputs": [
        {
          "output_type": "stream",
          "name": "stdout",
          "text": [
            "Collecting datasketch\n",
            "  Downloading datasketch-1.6.5-py3-none-any.whl.metadata (5.8 kB)\n",
            "Requirement already satisfied: numpy>=1.11 in /usr/local/lib/python3.10/dist-packages (from datasketch) (1.26.4)\n",
            "Requirement already satisfied: scipy>=1.0.0 in /usr/local/lib/python3.10/dist-packages (from datasketch) (1.13.1)\n",
            "Downloading datasketch-1.6.5-py3-none-any.whl (89 kB)\n",
            "\u001b[?25l   \u001b[90m━━━━━━━━━━━━━━━━━━━━━━━━━━━━━━━━━━━━━━━━\u001b[0m \u001b[32m0.0/89.2 kB\u001b[0m \u001b[31m?\u001b[0m eta \u001b[36m-:--:--\u001b[0m\r\u001b[2K   \u001b[90m━━━━━━━━━━━━━━━━━━━━━━━━━━━━━━━━━━━━━━━━\u001b[0m \u001b[32m89.2/89.2 kB\u001b[0m \u001b[31m6.6 MB/s\u001b[0m eta \u001b[36m0:00:00\u001b[0m\n",
            "\u001b[?25hInstalling collected packages: datasketch\n",
            "Successfully installed datasketch-1.6.5\n"
          ]
        }
      ]
    },
    {
      "cell_type": "markdown",
      "metadata": {
        "id": "Pw23um0tncIy"
      },
      "source": [
        "#### Version 확인"
      ]
    },
    {
      "cell_type": "code",
      "execution_count": null,
      "metadata": {
        "id": "Ok4ofcu6esCA",
        "colab": {
          "base_uri": "https://localhost:8080/"
        },
        "outputId": "fb1f8d7f-bec3-4d94-ada5-7da0ecc5a318"
      },
      "outputs": [
        {
          "output_type": "stream",
          "name": "stdout",
          "text": [
            "Python 3.10.12\n",
            "Selenium 4.27.1\n",
            "PySpark 3.5.3\n",
            "Datasketch 1.6.5\n"
          ]
        }
      ],
      "source": [
        "!python --version\n",
        "\n",
        "import selenium\n",
        "import pyspark\n",
        "import datasketch\n",
        "\n",
        "print(f\"Selenium {selenium.__version__}\")\n",
        "print(f\"PySpark {pyspark.__version__}\")\n",
        "print(f\"Datasketch {datasketch.__version__}\")"
      ]
    },
    {
      "cell_type": "markdown",
      "metadata": {
        "id": "EsXa6OjLfQhN"
      },
      "source": [
        "### Import library"
      ]
    },
    {
      "cell_type": "code",
      "execution_count": null,
      "metadata": {
        "id": "UsfWCf0ffUym"
      },
      "outputs": [],
      "source": [
        "from selenium import webdriver\n",
        "from selenium.webdriver.support.ui import WebDriverWait\n",
        "from selenium.webdriver.support import expected_conditions as EC\n",
        "from selenium.webdriver.common.by import By\n",
        "import sys\n",
        "from selenium.webdriver.common.keys import Keys\n",
        "import urllib.request\n",
        "import os\n",
        "from urllib.request import urlretrieve\n",
        "\n",
        "import time\n",
        "import pandas as pd\n",
        "import chromedriver_autoinstaller\n",
        "import re\n",
        "\n",
        "import matplotlib.pyplot as plt\n",
        "from pyspark.sql import SparkSession\n",
        "from pyspark.sql.functions import udf, col, lit\n",
        "from datasketch import MinHash, MinHashLSH\n",
        "from pyspark.sql.types import ArrayType, StringType\n",
        "import hashlib\n",
        "\n",
        "import numpy as np\n",
        "import random\n",
        "from collections import Counter\n",
        "import math\n",
        "\n",
        "import networkx as nx\n",
        "from nltk.tokenize import sent_tokenize, word_tokenize\n",
        "from sklearn.feature_extraction.text import TfidfVectorizer\n",
        "from sklearn.metrics.pairwise import cosine_similarity\n",
        "from collections import Counter\n",
        "from itertools import combinations\n",
        "import hashlib\n",
        "from collections import defaultdict"
      ]
    },
    {
      "cell_type": "markdown",
      "metadata": {
        "id": "7asuKMXIfccf"
      },
      "source": [
        "### chrome_options 설정"
      ]
    },
    {
      "cell_type": "code",
      "execution_count": null,
      "metadata": {
        "id": "-qnsJxzBfgYg"
      },
      "outputs": [],
      "source": [
        "chrome_path=\"/content/drive/Mydrive/Colab Notebooks/chromedriver\"\n",
        "\n",
        "sys.path.insert(0,chrome_path)\n",
        "chrome_options = webdriver.ChromeOptions()\n",
        "chrome_options.add_argument('--headless') # ensure GUI is off\n",
        "chrome_options.add_argument('--no-sandbox')\n",
        "chrome_options.add_argument('--disable-dev-shm-usage')  # set path to chromedriver as per your configuration\n",
        "\n",
        "chromedriver_autoinstaller.install()  # set the target URL"
      ]
    },
    {
      "cell_type": "markdown",
      "metadata": {
        "id": "ESH90W2x7eRp"
      },
      "source": [
        "## Crawling"
      ]
    },
    {
      "cell_type": "markdown",
      "source": [
        "#### URL"
      ],
      "metadata": {
        "id": "zTLMqrQznnID"
      }
    },
    {
      "cell_type": "code",
      "source": [
        "bible_url = 'https://www.gutenberg.org/cache/epub/10/pg10-images.html'\n",
        "quran_url = 'https://www.gutenberg.org/cache/epub/2800/pg2800-images.html'"
      ],
      "metadata": {
        "id": "6Ezc3vCtnofS"
      },
      "execution_count": null,
      "outputs": []
    },
    {
      "cell_type": "markdown",
      "source": [
        "#### 데이터 전처리 함수\n",
        "- 영어 알파벳과 공백, 마침표만 제외하고 모두 제거\n",
        "- 모든 문자를 소문자로 변환\n",
        "- 연속된 공백을 단일 공백으로 축소\n",
        "- 양 끝의 공백 제거"
      ],
      "metadata": {
        "id": "lGswbDUnmsRT"
      }
    },
    {
      "cell_type": "code",
      "source": [
        "def preprocess_text(text):\n",
        "    sentences = re.split(r'(?<=[.?!])\\s+', text)\n",
        "\n",
        "    cleaned_sentences = []\n",
        "    for sentence in sentences:\n",
        "        sentence = re.sub(r'[?!]', '.', sentence)\n",
        "        cleaned_sentence = re.sub(r'[^a-zA-Z\\s.]', '', sentence)\n",
        "        cleaned_sentence = cleaned_sentence.lower()\n",
        "        cleaned_sentence = re.sub(r'\\s+', ' ', cleaned_sentence).strip()\n",
        "        cleaned_sentence = re.sub(r'\\.{2,}', '.', cleaned_sentence)\n",
        "        cleaned_sentences.append(cleaned_sentence)\n",
        "\n",
        "    return '. '.join(cleaned_sentences)"
      ],
      "metadata": {
        "id": "hproPMvwmrSz"
      },
      "execution_count": null,
      "outputs": []
    },
    {
      "cell_type": "markdown",
      "metadata": {
        "id": "pKwbh2NzyGF_"
      },
      "source": [
        "### Bible"
      ]
    },
    {
      "cell_type": "code",
      "execution_count": null,
      "metadata": {
        "colab": {
          "base_uri": "https://localhost:8080/"
        },
        "id": "GBTzwurH652Z",
        "outputId": "9652624a-d859-421e-ff3f-dd62ebb31f95",
        "collapsed": true
      },
      "outputs": [
        {
          "output_type": "stream",
          "name": "stdout",
          "text": [
            "Saved chapter 1 to bible_texts/chapter_1.txt\n",
            "Saved chapter 2 to bible_texts/chapter_2.txt\n",
            "Saved chapter 3 to bible_texts/chapter_3.txt\n",
            "Saved chapter 4 to bible_texts/chapter_4.txt\n",
            "Saved chapter 5 to bible_texts/chapter_5.txt\n",
            "Saved chapter 6 to bible_texts/chapter_6.txt\n",
            "Saved chapter 7 to bible_texts/chapter_7.txt\n",
            "Saved chapter 8 to bible_texts/chapter_8.txt\n",
            "Saved chapter 9 to bible_texts/chapter_9.txt\n",
            "Saved chapter 10 to bible_texts/chapter_10.txt\n",
            "Saved chapter 11 to bible_texts/chapter_11.txt\n",
            "Saved chapter 12 to bible_texts/chapter_12.txt\n",
            "Saved chapter 13 to bible_texts/chapter_13.txt\n",
            "Saved chapter 14 to bible_texts/chapter_14.txt\n",
            "Saved chapter 15 to bible_texts/chapter_15.txt\n",
            "Saved chapter 16 to bible_texts/chapter_16.txt\n",
            "Saved chapter 17 to bible_texts/chapter_17.txt\n",
            "Saved chapter 18 to bible_texts/chapter_18.txt\n",
            "Saved chapter 19 to bible_texts/chapter_19.txt\n",
            "Saved chapter 20 to bible_texts/chapter_20.txt\n",
            "Saved chapter 21 to bible_texts/chapter_21.txt\n",
            "Saved chapter 22 to bible_texts/chapter_22.txt\n",
            "Saved chapter 23 to bible_texts/chapter_23.txt\n",
            "Saved chapter 24 to bible_texts/chapter_24.txt\n",
            "Saved chapter 25 to bible_texts/chapter_25.txt\n",
            "Saved chapter 26 to bible_texts/chapter_26.txt\n",
            "Saved chapter 27 to bible_texts/chapter_27.txt\n",
            "Saved chapter 28 to bible_texts/chapter_28.txt\n",
            "Saved chapter 29 to bible_texts/chapter_29.txt\n",
            "Saved chapter 30 to bible_texts/chapter_30.txt\n",
            "Saved chapter 31 to bible_texts/chapter_31.txt\n",
            "Saved chapter 32 to bible_texts/chapter_32.txt\n",
            "Saved chapter 33 to bible_texts/chapter_33.txt\n",
            "Saved chapter 34 to bible_texts/chapter_34.txt\n",
            "Saved chapter 35 to bible_texts/chapter_35.txt\n",
            "Saved chapter 36 to bible_texts/chapter_36.txt\n",
            "Saved chapter 37 to bible_texts/chapter_37.txt\n",
            "Saved chapter 38 to bible_texts/chapter_38.txt\n",
            "Saved chapter 39 to bible_texts/chapter_39.txt\n",
            "Saved chapter 41 to bible_texts/chapter_41.txt\n",
            "Saved chapter 42 to bible_texts/chapter_42.txt\n",
            "Saved chapter 43 to bible_texts/chapter_43.txt\n",
            "Saved chapter 44 to bible_texts/chapter_44.txt\n",
            "Saved chapter 45 to bible_texts/chapter_45.txt\n",
            "Saved chapter 46 to bible_texts/chapter_46.txt\n",
            "Saved chapter 47 to bible_texts/chapter_47.txt\n",
            "Saved chapter 48 to bible_texts/chapter_48.txt\n",
            "Saved chapter 49 to bible_texts/chapter_49.txt\n",
            "Saved chapter 50 to bible_texts/chapter_50.txt\n",
            "Saved chapter 51 to bible_texts/chapter_51.txt\n",
            "Saved chapter 52 to bible_texts/chapter_52.txt\n",
            "Saved chapter 53 to bible_texts/chapter_53.txt\n",
            "Saved chapter 54 to bible_texts/chapter_54.txt\n",
            "Saved chapter 55 to bible_texts/chapter_55.txt\n",
            "Saved chapter 56 to bible_texts/chapter_56.txt\n",
            "Saved chapter 57 to bible_texts/chapter_57.txt\n",
            "Saved chapter 58 to bible_texts/chapter_58.txt\n",
            "Saved chapter 59 to bible_texts/chapter_59.txt\n",
            "Saved chapter 60 to bible_texts/chapter_60.txt\n",
            "Saved chapter 61 to bible_texts/chapter_61.txt\n",
            "Saved chapter 62 to bible_texts/chapter_62.txt\n",
            "Saved chapter 63 to bible_texts/chapter_63.txt\n",
            "Saved chapter 64 to bible_texts/chapter_64.txt\n",
            "Saved chapter 65 to bible_texts/chapter_65.txt\n",
            "Saved chapter 66 to bible_texts/chapter_66.txt\n",
            "Saved chapter 67 to bible_texts/chapter_67.txt\n"
          ]
        }
      ],
      "source": [
        "bible_chapter_driver = webdriver.Chrome(options=chrome_options)\n",
        "bible_chapter_driver.get(bible_url)\n",
        "wait = WebDriverWait(bible_chapter_driver, 10)\n",
        "\n",
        "output_folder = \"bible_texts\"\n",
        "if not os.path.exists(output_folder):\n",
        "    os.makedirs(output_folder)\n",
        "\n",
        "try:\n",
        "    chapter_divs = bible_chapter_driver.find_elements(By.CLASS_NAME, \"chapter\")\n",
        "\n",
        "    for index, chapter_div in enumerate(chapter_divs[1:], start=2):\n",
        "        p_elements = chapter_div.find_elements(By.TAG_NAME, \"p\")\n",
        "\n",
        "        chapter_text = \"\"\n",
        "        for p_element in p_elements:\n",
        "            text = p_element.text.strip()\n",
        "            if text:\n",
        "                processed_text = preprocess_text(text)\n",
        "                chapter_text += processed_text + \"\\n\"\n",
        "\n",
        "        if chapter_text.strip():\n",
        "            filename = os.path.join(output_folder, f\"chapter_{index-1}.txt\")\n",
        "            with open(filename, \"w\", encoding=\"utf-8\") as file:\n",
        "                file.write(chapter_text.strip())\n",
        "            print(f\"Saved chapter {index-1} to {filename}\")\n",
        "\n",
        "except Exception as e:\n",
        "    print(\"Error:\", e)\n",
        "\n",
        "finally:\n",
        "    bible_chapter_driver.quit()"
      ]
    },
    {
      "cell_type": "markdown",
      "metadata": {
        "id": "l7x97lnR28HX"
      },
      "source": [
        "### Quran"
      ]
    },
    {
      "cell_type": "code",
      "execution_count": null,
      "metadata": {
        "collapsed": true,
        "id": "BBTzhFcA3bNL",
        "colab": {
          "base_uri": "https://localhost:8080/"
        },
        "outputId": "1c3f93b4-440a-4e3e-b250-834fac767eab"
      },
      "outputs": [
        {
          "output_type": "stream",
          "name": "stdout",
          "text": [
            "Saved chapter 1 to quran_texts/chapter_1.txt\n",
            "Saved chapter 2 to quran_texts/chapter_2.txt\n",
            "Saved chapter 3 to quran_texts/chapter_3.txt\n",
            "Saved chapter 4 to quran_texts/chapter_4.txt\n",
            "Saved chapter 5 to quran_texts/chapter_5.txt\n",
            "Saved chapter 6 to quran_texts/chapter_6.txt\n",
            "Saved chapter 7 to quran_texts/chapter_7.txt\n",
            "Saved chapter 8 to quran_texts/chapter_8.txt\n",
            "Saved chapter 9 to quran_texts/chapter_9.txt\n",
            "Saved chapter 10 to quran_texts/chapter_10.txt\n",
            "Saved chapter 11 to quran_texts/chapter_11.txt\n",
            "Saved chapter 12 to quran_texts/chapter_12.txt\n",
            "Saved chapter 13 to quran_texts/chapter_13.txt\n",
            "Saved chapter 14 to quran_texts/chapter_14.txt\n",
            "Saved chapter 15 to quran_texts/chapter_15.txt\n",
            "Saved chapter 16 to quran_texts/chapter_16.txt\n",
            "Saved chapter 17 to quran_texts/chapter_17.txt\n",
            "Saved chapter 18 to quran_texts/chapter_18.txt\n",
            "Saved chapter 19 to quran_texts/chapter_19.txt\n",
            "Saved chapter 20 to quran_texts/chapter_20.txt\n",
            "Saved chapter 21 to quran_texts/chapter_21.txt\n",
            "Saved chapter 22 to quran_texts/chapter_22.txt\n",
            "Saved chapter 23 to quran_texts/chapter_23.txt\n",
            "Saved chapter 24 to quran_texts/chapter_24.txt\n",
            "Saved chapter 25 to quran_texts/chapter_25.txt\n",
            "Saved chapter 26 to quran_texts/chapter_26.txt\n",
            "Saved chapter 27 to quran_texts/chapter_27.txt\n",
            "Saved chapter 28 to quran_texts/chapter_28.txt\n",
            "Saved chapter 29 to quran_texts/chapter_29.txt\n",
            "Saved chapter 30 to quran_texts/chapter_30.txt\n",
            "Saved chapter 31 to quran_texts/chapter_31.txt\n",
            "Saved chapter 32 to quran_texts/chapter_32.txt\n",
            "Saved chapter 33 to quran_texts/chapter_33.txt\n",
            "Saved chapter 34 to quran_texts/chapter_34.txt\n",
            "Saved chapter 35 to quran_texts/chapter_35.txt\n",
            "Saved chapter 36 to quran_texts/chapter_36.txt\n",
            "Saved chapter 37 to quran_texts/chapter_37.txt\n",
            "Saved chapter 38 to quran_texts/chapter_38.txt\n",
            "Saved chapter 39 to quran_texts/chapter_39.txt\n",
            "Saved chapter 40 to quran_texts/chapter_40.txt\n",
            "Saved chapter 41 to quran_texts/chapter_41.txt\n",
            "Saved chapter 42 to quran_texts/chapter_42.txt\n",
            "Saved chapter 43 to quran_texts/chapter_43.txt\n",
            "Saved chapter 44 to quran_texts/chapter_44.txt\n",
            "Saved chapter 45 to quran_texts/chapter_45.txt\n",
            "Saved chapter 46 to quran_texts/chapter_46.txt\n",
            "Saved chapter 47 to quran_texts/chapter_47.txt\n",
            "Saved chapter 48 to quran_texts/chapter_48.txt\n",
            "Saved chapter 49 to quran_texts/chapter_49.txt\n",
            "Saved chapter 50 to quran_texts/chapter_50.txt\n",
            "Saved chapter 51 to quran_texts/chapter_51.txt\n",
            "Saved chapter 52 to quran_texts/chapter_52.txt\n",
            "Saved chapter 53 to quran_texts/chapter_53.txt\n",
            "Saved chapter 54 to quran_texts/chapter_54.txt\n",
            "Saved chapter 55 to quran_texts/chapter_55.txt\n",
            "Saved chapter 56 to quran_texts/chapter_56.txt\n",
            "Saved chapter 57 to quran_texts/chapter_57.txt\n",
            "Saved chapter 58 to quran_texts/chapter_58.txt\n",
            "Saved chapter 59 to quran_texts/chapter_59.txt\n",
            "Saved chapter 60 to quran_texts/chapter_60.txt\n",
            "Saved chapter 61 to quran_texts/chapter_61.txt\n",
            "Saved chapter 62 to quran_texts/chapter_62.txt\n",
            "Saved chapter 63 to quran_texts/chapter_63.txt\n",
            "Saved chapter 64 to quran_texts/chapter_64.txt\n",
            "Saved chapter 65 to quran_texts/chapter_65.txt\n",
            "Saved chapter 66 to quran_texts/chapter_66.txt\n",
            "Saved chapter 67 to quran_texts/chapter_67.txt\n",
            "Saved chapter 68 to quran_texts/chapter_68.txt\n",
            "Saved chapter 69 to quran_texts/chapter_69.txt\n",
            "Saved chapter 70 to quran_texts/chapter_70.txt\n",
            "Saved chapter 71 to quran_texts/chapter_71.txt\n",
            "Saved chapter 72 to quran_texts/chapter_72.txt\n",
            "Saved chapter 73 to quran_texts/chapter_73.txt\n",
            "Saved chapter 74 to quran_texts/chapter_74.txt\n",
            "Saved chapter 75 to quran_texts/chapter_75.txt\n",
            "Saved chapter 76 to quran_texts/chapter_76.txt\n",
            "Saved chapter 77 to quran_texts/chapter_77.txt\n",
            "Saved chapter 78 to quran_texts/chapter_78.txt\n",
            "Saved chapter 79 to quran_texts/chapter_79.txt\n",
            "Saved chapter 80 to quran_texts/chapter_80.txt\n",
            "Saved chapter 81 to quran_texts/chapter_81.txt\n",
            "Saved chapter 82 to quran_texts/chapter_82.txt\n",
            "Saved chapter 83 to quran_texts/chapter_83.txt\n",
            "Saved chapter 84 to quran_texts/chapter_84.txt\n",
            "Saved chapter 85 to quran_texts/chapter_85.txt\n",
            "Saved chapter 86 to quran_texts/chapter_86.txt\n",
            "Saved chapter 87 to quran_texts/chapter_87.txt\n",
            "Saved chapter 88 to quran_texts/chapter_88.txt\n",
            "Saved chapter 89 to quran_texts/chapter_89.txt\n",
            "Saved chapter 90 to quran_texts/chapter_90.txt\n",
            "Saved chapter 91 to quran_texts/chapter_91.txt\n",
            "Saved chapter 92 to quran_texts/chapter_92.txt\n",
            "Saved chapter 93 to quran_texts/chapter_93.txt\n",
            "Saved chapter 94 to quran_texts/chapter_94.txt\n",
            "Saved chapter 95 to quran_texts/chapter_95.txt\n",
            "Saved chapter 96 to quran_texts/chapter_96.txt\n",
            "Saved chapter 97 to quran_texts/chapter_97.txt\n",
            "Saved chapter 98 to quran_texts/chapter_98.txt\n",
            "Saved chapter 99 to quran_texts/chapter_99.txt\n",
            "Saved chapter 100 to quran_texts/chapter_100.txt\n",
            "Saved chapter 101 to quran_texts/chapter_101.txt\n",
            "Saved chapter 102 to quran_texts/chapter_102.txt\n",
            "Saved chapter 103 to quran_texts/chapter_103.txt\n",
            "Saved chapter 104 to quran_texts/chapter_104.txt\n",
            "Saved chapter 105 to quran_texts/chapter_105.txt\n",
            "Saved chapter 106 to quran_texts/chapter_106.txt\n",
            "Saved chapter 107 to quran_texts/chapter_107.txt\n",
            "Saved chapter 108 to quran_texts/chapter_108.txt\n",
            "Saved chapter 109 to quran_texts/chapter_109.txt\n",
            "Saved chapter 110 to quran_texts/chapter_110.txt\n",
            "Saved chapter 111 to quran_texts/chapter_111.txt\n",
            "Saved chapter 112 to quran_texts/chapter_112.txt\n"
          ]
        }
      ],
      "source": [
        "quran_chapter_driver = webdriver.Chrome(options=chrome_options)\n",
        "quran_chapter_driver.get(quran_url)\n",
        "wait = WebDriverWait(quran_chapter_driver, 10)\n",
        "\n",
        "output_dir = 'quran_texts'\n",
        "os.makedirs(output_dir, exist_ok=True)\n",
        "\n",
        "current_document = []\n",
        "chapter_count = 1\n",
        "start_crawling = False\n",
        "\n",
        "try:\n",
        "    elements = quran_chapter_driver.find_elements(By.XPATH, \"//*[name()='h4' or name()='p' or @id='pg-end-separator']\")\n",
        "\n",
        "    for element in elements:\n",
        "        if element.tag_name == 'div' and element.get_attribute('id') == 'pg-end-separator':\n",
        "            break\n",
        "\n",
        "        if element.tag_name == 'h4':\n",
        "            start_crawling = True\n",
        "\n",
        "            if current_document:\n",
        "                quran_processed_text = ''.join(current_document)\n",
        "\n",
        "                with open(os.path.join(output_dir, f'chapter_{chapter_count}.txt'), 'w', encoding='utf-8') as file:\n",
        "                    file.write(quran_processed_text)\n",
        "\n",
        "                print(f\"Saved chapter {chapter_count} to {output_dir}/chapter_{chapter_count}.txt\")  # 진행 상황 출력\n",
        "\n",
        "                chapter_count += 1\n",
        "                current_document = []\n",
        "\n",
        "        if start_crawling and element.tag_name == 'p':\n",
        "            raw_text = element.text.strip()\n",
        "            processed_text = preprocess_text(raw_text)\n",
        "            current_document.append(processed_text + '\\n')\n",
        "\n",
        "    if current_document:\n",
        "        quran_processed_text = ''.join(current_document)\n",
        "        with open(os.path.join(output_dir, f'chapter_{chapter_count}.txt'), 'w', encoding='utf-8') as file:\n",
        "            file.write(quran_processed_text)\n",
        "        print(f\"Saved chapter {chapter_count} to {output_dir}/chapter_{chapter_count}.txt\")\n",
        "\n",
        "except Exception as e:\n",
        "    print(\"Error:\", e)\n",
        "\n",
        "finally:\n",
        "    quran_chapter_driver.quit()"
      ]
    },
    {
      "cell_type": "markdown",
      "metadata": {
        "id": "zO9-BSXBoJ-B"
      },
      "source": [
        "## Similarity"
      ]
    },
    {
      "cell_type": "code",
      "source": [
        "spark = SparkSession.builder.appName(\"Bible vs Quran Similarity\").getOrCreate()\n",
        "\n",
        "bible_dir = \"/content/bible_texts\"\n",
        "quran_dir = \"/content/quran_texts\"\n",
        "\n",
        "bible_texts = []\n",
        "for file in os.listdir(bible_dir):\n",
        "    with open(os.path.join(bible_dir, file), \"r\", encoding=\"utf-8\") as f:\n",
        "        bible_texts.append(f.read())\n",
        "bible_combined_text = \" \".join(bible_texts)\n",
        "\n",
        "quran_texts = []\n",
        "for file in os.listdir(quran_dir):\n",
        "    with open(os.path.join(quran_dir, file), \"r\", encoding=\"utf-8\") as f:\n",
        "        quran_texts.append(f.read())\n",
        "quran_combined_text = \" \".join(quran_texts)\n",
        "\n",
        "texts = [(\"bible\", bible_combined_text), (\"quran\", quran_combined_text)]\n",
        "df = spark.createDataFrame(texts, [\"text_id\", \"text\"])\n",
        "\n",
        "texts = [row.text for row in df.collect()]\n",
        "\n",
        "vectorizer = TfidfVectorizer()\n",
        "tfidf_matrix = vectorizer.fit_transform(texts)\n",
        "cosine_sim = cosine_similarity(tfidf_matrix[0:1], tfidf_matrix[1:2])[0][0]\n",
        "\n",
        "def jaccard_similarity(text1, text2):\n",
        "    words_text1 = set(text1.split())\n",
        "    words_text2 = set(text2.split())\n",
        "    intersection = words_text1.intersection(words_text2)\n",
        "    union = words_text1.union(words_text2)\n",
        "    return float(len(intersection)) / len(union)\n",
        "\n",
        "jaccard_sim = jaccard_similarity(texts[0], texts[1])\n",
        "\n",
        "spark.stop()"
      ],
      "metadata": {
        "id": "XFWvhpBHTjrU"
      },
      "execution_count": null,
      "outputs": []
    },
    {
      "cell_type": "markdown",
      "metadata": {
        "id": "A2z69U-KDqPK"
      },
      "source": [
        "#### Spark"
      ]
    },
    {
      "cell_type": "code",
      "execution_count": null,
      "metadata": {
        "id": "KQQbXQu1Dp3P"
      },
      "outputs": [],
      "source": [
        "spark = SparkSession.builder.appName(\"Calculate Similarity of Bible and Quran\").getOrCreate()"
      ]
    },
    {
      "cell_type": "markdown",
      "source": [
        "##### 텍스트 파일에 챕터 번호 저장\n",
        "- 유사한 문장 쌍을 구할 때 문장 출처를 찾기 위함"
      ],
      "metadata": {
        "id": "N7JiWVmWbZb7"
      }
    },
    {
      "cell_type": "code",
      "source": [
        "def add_chapter_number_to_files(output_folder):\n",
        "    for filename in os.listdir(output_folder):\n",
        "        if filename.endswith(\".txt\"):\n",
        "            file_path = os.path.join(output_folder, filename)\n",
        "\n",
        "            with open(file_path, \"r\", encoding=\"utf-8\") as file:\n",
        "                content = file.read()\n",
        "\n",
        "            if not content.startswith(\"Chapter:\"):\n",
        "                chapter_number = filename.split(\"_\")[1].replace(\".txt\", \"\")\n",
        "                chapter_text = f\"Chapter: {chapter_number}\\n\" + content\n",
        "\n",
        "                with open(file_path, \"w\", encoding=\"utf-8\") as file:\n",
        "                    file.write(chapter_text)\n",
        "                print(f\"Chapter number added to {filename}\")\n",
        "            else:\n",
        "                print(f\"Chapter number already present in {filename}\")\n",
        "\n",
        "\n",
        "bible_folder = \"bible_texts\"\n",
        "add_chapter_number_to_files(bible_folder)\n",
        "quran_folder = \"quran_texts\"\n",
        "add_chapter_number_to_files(quran_folder)"
      ],
      "metadata": {
        "id": "FgcNQJq7ZxBk",
        "colab": {
          "base_uri": "https://localhost:8080/"
        },
        "outputId": "2b9f19cd-6d7a-4826-b949-1922fc0da16e",
        "collapsed": true
      },
      "execution_count": null,
      "outputs": [
        {
          "output_type": "stream",
          "name": "stdout",
          "text": [
            "Chapter number added to chapter_29.txt\n",
            "Chapter number added to chapter_45.txt\n",
            "Chapter number added to chapter_28.txt\n",
            "Chapter number added to chapter_58.txt\n",
            "Chapter number added to chapter_38.txt\n",
            "Chapter number added to chapter_37.txt\n",
            "Chapter number added to chapter_42.txt\n",
            "Chapter number added to chapter_21.txt\n",
            "Chapter number added to chapter_13.txt\n",
            "Chapter number added to chapter_63.txt\n",
            "Chapter number added to chapter_36.txt\n",
            "Chapter number added to chapter_10.txt\n",
            "Chapter number added to chapter_57.txt\n",
            "Chapter number added to chapter_39.txt\n",
            "Chapter number added to chapter_50.txt\n",
            "Chapter number added to chapter_11.txt\n",
            "Chapter number added to chapter_56.txt\n",
            "Chapter number added to chapter_1.txt\n",
            "Chapter number added to chapter_6.txt\n",
            "Chapter number added to chapter_32.txt\n",
            "Chapter number added to chapter_46.txt\n",
            "Chapter number added to chapter_8.txt\n",
            "Chapter number added to chapter_52.txt\n",
            "Chapter number added to chapter_17.txt\n",
            "Chapter number added to chapter_15.txt\n",
            "Chapter number added to chapter_48.txt\n",
            "Chapter number added to chapter_9.txt\n",
            "Chapter number added to chapter_25.txt\n",
            "Chapter number added to chapter_30.txt\n",
            "Chapter number added to chapter_19.txt\n",
            "Chapter number added to chapter_66.txt\n",
            "Chapter number added to chapter_61.txt\n",
            "Chapter number added to chapter_23.txt\n",
            "Chapter number added to chapter_41.txt\n",
            "Chapter number added to chapter_65.txt\n",
            "Chapter number added to chapter_14.txt\n",
            "Chapter number added to chapter_43.txt\n",
            "Chapter number added to chapter_16.txt\n",
            "Chapter number added to chapter_54.txt\n",
            "Chapter number added to chapter_3.txt\n",
            "Chapter number added to chapter_20.txt\n",
            "Chapter number added to chapter_33.txt\n",
            "Chapter number added to chapter_4.txt\n",
            "Chapter number added to chapter_2.txt\n",
            "Chapter number added to chapter_5.txt\n",
            "Chapter number added to chapter_60.txt\n",
            "Chapter number added to chapter_55.txt\n",
            "Chapter number added to chapter_27.txt\n",
            "Chapter number added to chapter_31.txt\n",
            "Chapter number added to chapter_7.txt\n",
            "Chapter number added to chapter_35.txt\n",
            "Chapter number added to chapter_67.txt\n",
            "Chapter number added to chapter_44.txt\n",
            "Chapter number added to chapter_34.txt\n",
            "Chapter number added to chapter_24.txt\n",
            "Chapter number added to chapter_12.txt\n",
            "Chapter number added to chapter_64.txt\n",
            "Chapter number added to chapter_47.txt\n",
            "Chapter number added to chapter_51.txt\n",
            "Chapter number added to chapter_18.txt\n",
            "Chapter number added to chapter_59.txt\n",
            "Chapter number added to chapter_22.txt\n",
            "Chapter number added to chapter_53.txt\n",
            "Chapter number added to chapter_62.txt\n",
            "Chapter number added to chapter_26.txt\n",
            "Chapter number added to chapter_49.txt\n",
            "Chapter number added to chapter_74.txt\n",
            "Chapter number added to chapter_70.txt\n",
            "Chapter number added to chapter_29.txt\n",
            "Chapter number added to chapter_111.txt\n",
            "Chapter number added to chapter_45.txt\n",
            "Chapter number added to chapter_28.txt\n",
            "Chapter number added to chapter_58.txt\n",
            "Chapter number added to chapter_38.txt\n",
            "Chapter number added to chapter_37.txt\n",
            "Chapter number added to chapter_42.txt\n",
            "Chapter number added to chapter_21.txt\n",
            "Chapter number added to chapter_100.txt\n",
            "Chapter number added to chapter_13.txt\n",
            "Chapter number added to chapter_63.txt\n",
            "Chapter number added to chapter_36.txt\n",
            "Chapter number added to chapter_107.txt\n",
            "Chapter number added to chapter_10.txt\n",
            "Chapter number added to chapter_57.txt\n",
            "Chapter number added to chapter_39.txt\n",
            "Chapter number added to chapter_50.txt\n",
            "Chapter number added to chapter_11.txt\n",
            "Chapter number added to chapter_56.txt\n",
            "Chapter number added to chapter_1.txt\n",
            "Chapter number added to chapter_69.txt\n",
            "Chapter number added to chapter_6.txt\n",
            "Chapter number added to chapter_32.txt\n",
            "Chapter number added to chapter_110.txt\n",
            "Chapter number added to chapter_109.txt\n",
            "Chapter number added to chapter_86.txt\n",
            "Chapter number added to chapter_72.txt\n",
            "Chapter number added to chapter_85.txt\n",
            "Chapter number added to chapter_46.txt\n",
            "Chapter number added to chapter_8.txt\n",
            "Chapter number added to chapter_77.txt\n",
            "Chapter number added to chapter_52.txt\n",
            "Chapter number added to chapter_90.txt\n",
            "Chapter number added to chapter_93.txt\n",
            "Chapter number added to chapter_88.txt\n",
            "Chapter number added to chapter_17.txt\n",
            "Chapter number added to chapter_15.txt\n",
            "Chapter number added to chapter_48.txt\n",
            "Chapter number added to chapter_9.txt\n",
            "Chapter number added to chapter_25.txt\n",
            "Chapter number added to chapter_30.txt\n",
            "Chapter number added to chapter_19.txt\n",
            "Chapter number added to chapter_75.txt\n",
            "Chapter number added to chapter_66.txt\n",
            "Chapter number added to chapter_89.txt\n",
            "Chapter number added to chapter_76.txt\n",
            "Chapter number added to chapter_105.txt\n",
            "Chapter number added to chapter_61.txt\n",
            "Chapter number added to chapter_23.txt\n",
            "Chapter number added to chapter_102.txt\n",
            "Chapter number added to chapter_41.txt\n",
            "Chapter number added to chapter_83.txt\n",
            "Chapter number added to chapter_79.txt\n",
            "Chapter number added to chapter_65.txt\n",
            "Chapter number added to chapter_106.txt\n",
            "Chapter number added to chapter_84.txt\n",
            "Chapter number added to chapter_14.txt\n",
            "Chapter number added to chapter_43.txt\n",
            "Chapter number added to chapter_16.txt\n",
            "Chapter number added to chapter_71.txt\n",
            "Chapter number added to chapter_40.txt\n",
            "Chapter number added to chapter_54.txt\n",
            "Chapter number added to chapter_80.txt\n",
            "Chapter number added to chapter_3.txt\n",
            "Chapter number added to chapter_20.txt\n",
            "Chapter number added to chapter_104.txt\n",
            "Chapter number added to chapter_33.txt\n",
            "Chapter number added to chapter_4.txt\n",
            "Chapter number added to chapter_103.txt\n",
            "Chapter number added to chapter_2.txt\n",
            "Chapter number added to chapter_5.txt\n",
            "Chapter number added to chapter_60.txt\n",
            "Chapter number added to chapter_55.txt\n",
            "Chapter number added to chapter_27.txt\n",
            "Chapter number added to chapter_95.txt\n",
            "Chapter number added to chapter_101.txt\n",
            "Chapter number added to chapter_31.txt\n",
            "Chapter number added to chapter_99.txt\n",
            "Chapter number added to chapter_7.txt\n",
            "Chapter number added to chapter_35.txt\n",
            "Chapter number added to chapter_68.txt\n",
            "Chapter number added to chapter_96.txt\n",
            "Chapter number added to chapter_91.txt\n",
            "Chapter number added to chapter_67.txt\n",
            "Chapter number added to chapter_81.txt\n",
            "Chapter number added to chapter_44.txt\n",
            "Chapter number added to chapter_98.txt\n",
            "Chapter number added to chapter_87.txt\n",
            "Chapter number added to chapter_34.txt\n",
            "Chapter number added to chapter_82.txt\n",
            "Chapter number added to chapter_73.txt\n",
            "Chapter number added to chapter_112.txt\n",
            "Chapter number added to chapter_97.txt\n",
            "Chapter number added to chapter_92.txt\n",
            "Chapter number added to chapter_24.txt\n",
            "Chapter number added to chapter_12.txt\n",
            "Chapter number added to chapter_64.txt\n",
            "Chapter number added to chapter_47.txt\n",
            "Chapter number added to chapter_51.txt\n",
            "Chapter number added to chapter_78.txt\n",
            "Chapter number added to chapter_18.txt\n",
            "Chapter number added to chapter_59.txt\n",
            "Chapter number added to chapter_22.txt\n",
            "Chapter number added to chapter_53.txt\n",
            "Chapter number added to chapter_62.txt\n",
            "Chapter number added to chapter_108.txt\n",
            "Chapter number added to chapter_26.txt\n",
            "Chapter number added to chapter_94.txt\n",
            "Chapter number added to chapter_49.txt\n"
          ]
        }
      ]
    },
    {
      "cell_type": "markdown",
      "metadata": {
        "id": "ECr0twxx5Nab"
      },
      "source": [
        "### Shingling & Min-Hashing & LSH\n",
        "- Shingling, Min-Hashing, LSH 알고리즘을 적용하여 Bible과 Quran의 텍스트 데이터에서 유사한 문장 찾기"
      ]
    },
    {
      "cell_type": "markdown",
      "metadata": {
        "id": "FlwRUpSFEZ-c"
      },
      "source": [
        "#### Shingling"
      ]
    },
    {
      "cell_type": "code",
      "execution_count": null,
      "metadata": {
        "id": "UfpGcFkb7VEz",
        "colab": {
          "base_uri": "https://localhost:8080/"
        },
        "outputId": "56b1c2a2-4804-438f-93a4-2b2fb6c17716"
      },
      "outputs": [
        {
          "output_type": "stream",
          "name": "stdout",
          "text": [
            "Bible Shingles 개수: 5641\n",
            "Quran Shingles 개수: 5781\n",
            "Bible Shingles (일부): ['eiz', 'inw', 'wil', 'kin', 'ese']\n",
            "Quran Shingles (일부): ['eiz', ' dh', 'rck', 'inw', 'wil']\n"
          ]
        }
      ],
      "source": [
        "n = 3\n",
        "\n",
        "def create_shingles_from_dir(directory_path, n):\n",
        "    combined_text = \"\"\n",
        "    for file_name in os.listdir(directory_path):\n",
        "        if file_name.endswith(\".txt\"):\n",
        "            with open(os.path.join(directory_path, file_name), \"r\", encoding=\"utf-8\") as file:\n",
        "                combined_text += file.read().replace('\\n', ' ') + \" \"\n",
        "\n",
        "    shingles = set()\n",
        "    for i in range(len(combined_text) - n + 1):\n",
        "        shingles.add(combined_text[i:i + n])\n",
        "\n",
        "    return shingles\n",
        "\n",
        "bible_dir = \"/content/bible_texts\"\n",
        "quran_dir = \"/content/quran_texts\"\n",
        "\n",
        "bible_shingles = create_shingles_from_dir(bible_dir, n)\n",
        "quran_shingles = create_shingles_from_dir(quran_dir, n)\n",
        "\n",
        "print(\"Bible Shingles 개수:\", len(bible_shingles))\n",
        "print(\"Quran Shingles 개수:\", len(quran_shingles))\n",
        "print(\"Bible Shingles (일부):\", list(bible_shingles)[:5])\n",
        "print(\"Quran Shingles (일부):\", list(quran_shingles)[:5])"
      ]
    },
    {
      "cell_type": "markdown",
      "source": [
        "#### 유사도 측정"
      ],
      "metadata": {
        "id": "JsX9Ky9bTN9U"
      }
    },
    {
      "cell_type": "code",
      "source": [
        "def cosine_similarity(set1, set2):\n",
        "    counter1 = Counter(set1)\n",
        "    counter2 = Counter(set2)\n",
        "\n",
        "    common_shingles = set1 & set2\n",
        "    dot_product = sum(counter1[shingle] * counter2[shingle] for shingle in common_shingles)\n",
        "\n",
        "    magnitude1 = math.sqrt(sum(value**2 for value in counter1.values()))\n",
        "    magnitude2 = math.sqrt(sum(value**2 for value in counter2.values()))\n",
        "\n",
        "    return dot_product / (magnitude1 * magnitude2)\n",
        "\n",
        "def jaccard_similarity(set1, set2):\n",
        "    intersection = set1.intersection(set2)\n",
        "    union = set1.union(set2)\n",
        "    return len(intersection) / len(union)\n",
        "\n",
        "cosine_sim_shingles = cosine_similarity(bible_shingles, quran_shingles)\n",
        "print(\"Cosine Similarity:\", cosine_sim_shingles)\n",
        "\n",
        "jaccard_sim_shingles = jaccard_similarity(bible_shingles, quran_shingles)\n",
        "print(\"Jaccard 유사도:\", jaccard_sim_shingles)"
      ],
      "metadata": {
        "id": "IFQB9MPzTNWM",
        "colab": {
          "base_uri": "https://localhost:8080/"
        },
        "outputId": "e6f7927c-18ca-4e46-de97-1c242b6bf78a"
      },
      "execution_count": null,
      "outputs": [
        {
          "output_type": "stream",
          "name": "stdout",
          "text": [
            "Cosine Similarity: 0.7992195544402725\n",
            "Jaccard 유사도: 0.6655001458151064\n"
          ]
        }
      ]
    },
    {
      "cell_type": "markdown",
      "metadata": {
        "id": "zr4jz2o1Ebvu"
      },
      "source": [
        "#### Min-Hashing"
      ]
    },
    {
      "cell_type": "markdown",
      "source": [
        "##### 함수 정의"
      ],
      "metadata": {
        "id": "qlupk6xOVBja"
      }
    },
    {
      "cell_type": "code",
      "source": [
        "def minhash(shingles, num_hashes):\n",
        "    min_hashes = [float('inf')] * num_hashes\n",
        "    hash_collisions = [0] * num_hashes\n",
        "    seen_hashes = [set() for _ in range(num_hashes)]\n",
        "\n",
        "    for shingle in shingles:\n",
        "        for i in range(num_hashes):\n",
        "            hash_val = int(hashlib.sha256((str(i) + shingle).encode('utf-8')).hexdigest(), 16)\n",
        "            if hash_val in seen_hashes[i]:\n",
        "                hash_collisions[i] += 1\n",
        "            else:\n",
        "                seen_hashes[i].add(hash_val)\n",
        "            min_hashes[i] = min(min_hashes[i], hash_val)\n",
        "    return min_hashes, hash_collisions\n",
        "\n",
        "def jaccard_similarity_minhash(minhash1, minhash2):\n",
        "    assert len(minhash1) == len(minhash2), \"Minhash 리스트의 길이가 동일해야 합니다.\"\n",
        "    return sum(1 for i in range(len(minhash1)) if minhash1[i] == minhash2[i]) / len(minhash1)\n",
        "\n",
        "def total_hash_collisions(collisions):\n",
        "    return sum(collisions)"
      ],
      "metadata": {
        "id": "6rC_Qb1UU8Yu"
      },
      "execution_count": null,
      "outputs": []
    },
    {
      "cell_type": "markdown",
      "source": [
        "##### 유사도 측정"
      ],
      "metadata": {
        "id": "4wn-aaiIWNZZ"
      }
    },
    {
      "cell_type": "code",
      "source": [
        "num_hashes = 200\n",
        "bible_minhash, bible_collisions = minhash(bible_shingles, num_hashes)\n",
        "quran_minhash, quran_collisions = minhash(quran_shingles, num_hashes)\n",
        "\n",
        "minhash_similarity = jaccard_similarity_minhash(bible_minhash, quran_minhash)\n",
        "total_collisions = total_hash_collisions(bible_collisions + quran_collisions)\n",
        "\n",
        "print(\"Bible Minhash (일부):\", bible_minhash[:5])\n",
        "print(\"Quran Minhash (일부):\", quran_minhash[:5])\n",
        "print(\"Jaccard 유사도:\", minhash_similarity)\n",
        "print(f\"Total Hash Collisions: {total_collisions}\")"
      ],
      "metadata": {
        "id": "F97aK9TGI20l",
        "colab": {
          "base_uri": "https://localhost:8080/"
        },
        "outputId": "05a3a7c6-b556-4898-d4fe-5dbb96416534"
      },
      "execution_count": null,
      "outputs": [
        {
          "output_type": "stream",
          "name": "stdout",
          "text": [
            "Bible Minhash (일부): [85037428831244562856567100380436343679467511821250511558502373096846306422, 31540980031277601785446215179849118586961279680252643237082497835214643527, 53680818324743862649857533326054318705475454322943123511963264584711140609, 13303050268803375994217044805968259787349693676690538745035727233009340612, 2304439068908944944830965196945721431575249734642627760810988191669108179]\n",
            "Quran Minhash (일부): [85037428831244562856567100380436343679467511821250511558502373096846306422, 24235787663541455236650495473779090973749385990505698317662859471727898713, 53680818324743862649857533326054318705475454322943123511963264584711140609, 13303050268803375994217044805968259787349693676690538745035727233009340612, 801771171728066861748975967751066692557017728190916048631634221822217953]\n",
            "Jaccard 유사도: 0.675\n",
            "Total Hash Collisions: 0\n"
          ]
        }
      ]
    },
    {
      "cell_type": "markdown",
      "source": [
        "#### Visualize"
      ],
      "metadata": {
        "id": "un175zmPtWEp"
      }
    },
    {
      "cell_type": "code",
      "execution_count": null,
      "metadata": {
        "id": "BUpKQFlgjoaF",
        "colab": {
          "base_uri": "https://localhost:8080/"
        },
        "outputId": "ef755b57-34b7-497c-cfb1-14fa214bbe27"
      },
      "outputs": [
        {
          "output_type": "display_data",
          "data": {
            "text/plain": [
              "<Figure size 1400x500 with 1 Axes>"
            ],
            "image/png": "[encoded data removed]"
          },
          "metadata": {}
        },
        {
          "output_type": "stream",
          "name": "stdout",
          "text": [
            "--Similarity--\n",
            "Cosine: 0.9345640855552494\n",
            "Jaccard: 0.2258355546442485\n",
            "Cosine(Shingles): 0.7992195544402725\n",
            "Jaccard(Shingles): 0.6655001458151064\n",
            "Jaccard(Minhash): 0.675\n",
            "-------------------------------------------\n",
            "Similarity (Percentage)\n",
            "Cosine:93.45640855552494%\n",
            "Jaccard:22.58355546442485%\n",
            "Cosine(Shingles): 79.92195544402725%\n",
            "Jaccard(Shingles): 66.55001458151064%\n",
            "Jaccard(Minhash): 67.5%\n"
          ]
        }
      ],
      "source": [
        "labels = ['Cosine Similarity', 'Jaccard Similarity', 'Cosine Similarity(Shingles)', 'Jaccard Similarity(Shingles)','Jaccard Similarity(Minhash)']\n",
        "similarities = [cosine_sim, jaccard_sim, cosine_sim_shingles, jaccard_sim_shingles, minhash_similarity]\n",
        "\n",
        "plt.figure(figsize=(14, 5))\n",
        "plt.bar(labels, similarities, color=['skyblue', 'steelblue', 'lightseagreen', 'lightskyblue', 'cornflowerblue'])\n",
        "plt.ylim(0, 1)\n",
        "plt.ylabel('Similarity')\n",
        "plt.title(\"Bible vs Quran Similarity\")\n",
        "plt.show()\n",
        "\n",
        "print(\"--Similarity--\")\n",
        "print(f\"Cosine: {cosine_sim}\")\n",
        "print(f\"Jaccard: {jaccard_sim}\")\n",
        "print(f\"Cosine(Shingles): {cosine_sim_shingles}\")\n",
        "print(f\"Jaccard(Shingles): {jaccard_sim_shingles}\")\n",
        "print(f\"Jaccard(Minhash): {minhash_similarity}\")\n",
        "print(\"-------------------------------------------\")\n",
        "print(\"Similarity (Percentage)\")\n",
        "print(f\"Cosine:{cosine_sim*100}%\")\n",
        "print(f\"Jaccard:{jaccard_sim*100}%\")\n",
        "print(f\"Cosine(Shingles): {cosine_sim_shingles*100}%\")\n",
        "print(f\"Jaccard(Shingles): {jaccard_sim_shingles*100}%\")\n",
        "print(f\"Jaccard(Minhash): {minhash_similarity*100}%\")"
      ]
    },
    {
      "cell_type": "markdown",
      "source": [
        "### LSH"
      ],
      "metadata": {
        "id": "HmYPfTXBSGMs"
      }
    },
    {
      "cell_type": "markdown",
      "source": [
        "#### LSH 알고리즘 구현 및 유사한 문장 쌍을 찾는 함수 정의"
      ],
      "metadata": {
        "id": "RATALh_xXD2c"
      }
    },
    {
      "cell_type": "code",
      "source": [
        "def lsh(minhash_vectors, num_bands, rows_per_band):\n",
        "    assert len(minhash_vectors[0]) == num_bands * rows_per_band, \"MinHash 벡터의 길이가 밴드와 행 개수에 맞아야 합니다.\"\n",
        "\n",
        "    lsh_buckets = defaultdict(list)\n",
        "    for doc_id, minhash_vector in enumerate(minhash_vectors):\n",
        "        for band in range(num_bands):\n",
        "            start = band * rows_per_band\n",
        "            end = start + rows_per_band\n",
        "            band_hash = hash(tuple(minhash_vector[start:end]))\n",
        "            lsh_buckets[(band, band_hash)].append(doc_id)\n",
        "\n",
        "    return lsh_buckets\n",
        "\n",
        "def find_similar_pairs(lsh_buckets, minhash_vectors, threshold=0.6):\n",
        "    candidate_pairs = set()\n",
        "    for bucket in lsh_buckets.values():\n",
        "        if len(bucket) > 1:\n",
        "            for i in range(len(bucket)):\n",
        "                for j in range(i + 1, len(bucket)):\n",
        "                    candidate_pairs.add((bucket[i], bucket[j]))\n",
        "\n",
        "    similar_pairs = []\n",
        "    for doc1, doc2 in candidate_pairs:\n",
        "        jaccard_sim = jaccard_similarity_minhash(minhash_vectors[doc1], minhash_vectors[doc2])\n",
        "        if jaccard_sim >= threshold:\n",
        "            similar_pairs.append((doc1, doc2, jaccard_sim))\n",
        "\n",
        "    return similar_pairs"
      ],
      "metadata": {
        "id": "SuGODtFGQJxV"
      },
      "execution_count": null,
      "outputs": []
    },
    {
      "cell_type": "markdown",
      "source": [
        "#### 유사한 문장 쌍 찾기"
      ],
      "metadata": {
        "id": "GOh61L_nXJ7b"
      }
    },
    {
      "cell_type": "code",
      "source": [
        "def read_documents_from_dir(directory):\n",
        "    documents = []\n",
        "    for file_name in os.listdir(directory):\n",
        "        if file_name.endswith(\".txt\"):\n",
        "            with open(os.path.join(directory, file_name), \"r\", encoding=\"utf-8\") as file:\n",
        "                documents.append(file.read())\n",
        "    return documents\n",
        "\n",
        "bible_documents = read_documents_from_dir(bible_dir)\n",
        "quran_documents = read_documents_from_dir(quran_dir)\n",
        "\n",
        "num_bands = 200\n",
        "rows_per_band = len(bible_minhash) // num_bands\n",
        "\n",
        "minhash_vectors = [bible_minhash, quran_minhash]\n",
        "lsh_buckets = lsh(minhash_vectors, num_bands, rows_per_band)\n",
        "\n",
        "threshold = 0.6\n",
        "similar_pairs = find_similar_pairs(lsh_buckets, minhash_vectors, threshold)\n",
        "\n",
        "if similar_pairs:\n",
        "    print(\"유사한 문장 쌍:\")\n",
        "    for doc1, doc2, sim in similar_pairs:\n",
        "        source1 = \"Bible\" if doc1 == 0 else \"Quran\"\n",
        "        source2 = \"Bible\" if doc2 == 0 else \"Quran\"\n",
        "        print(f\"{source1}:\\n{bible_documents[doc1] if doc1 == 0 else quran_documents[doc1]}\")\n",
        "        print(\"\\n\")\n",
        "        print(f\"{source2}:\\n{bible_documents[doc2] if doc2 == 0 else quran_documents[doc2]}\")\n",
        "        print(f\"유사도: {sim}\\n\")\n",
        "else:\n",
        "    print(\"유사한 문장이 발견되지 않았습니다.\")"
      ],
      "metadata": {
        "colab": {
          "base_uri": "https://localhost:8080/"
        },
        "id": "FIj1GNV4ZEGT",
        "outputId": "000c8cf0-fd96-485f-b8ee-baf6708ef84e"
      },
      "execution_count": null,
      "outputs": [
        {
          "output_type": "stream",
          "name": "stdout",
          "text": [
            "유사한 문장 쌍:\n",
            "Bible:\n",
            "Chapter: 29\n",
            "the word of the lord that came to joel the son of pethuel.\n",
            "hear this ye old men and give ear all ye inhabitants of the land.\n",
            "hath this been in your days or even in the days of your fathers.. tell ye your children of it and let your children tell their children and their children another generation.\n",
            "that which the palmerworm hath left hath the locust eaten and that which the locust hath left hath the cankerworm eaten and that which the cankerworm hath left hath the caterpiller eaten.\n",
            "awake ye drunkards and weep and howl all ye drinkers of wine because of the new wine for it is cut off from your mouth.\n",
            "for a nation is come up upon my land strong and without number whose teeth are the teeth of a lion and he hath the cheek teeth of a great lion.\n",
            "he hath laid my vine waste and barked my fig tree he hath made it clean bare and cast it away the branches thereof are made white.\n",
            "lament like a virgin girded with sackcloth for the husband of her youth.\n",
            "the meat offering and the drink offering is cut off from the house of the lord the priests the lords ministers mourn.\n",
            "the field is wasted the land mourneth for the corn is wasted the new wine is dried up the oil languisheth.\n",
            "be ye ashamed o ye husbandmen howl o ye vinedressers for the wheat and for the barley because the harvest of the field is perished.\n",
            "the vine is dried up and the fig tree languisheth the pomegranate tree the palm tree also and the apple tree even all the trees of the field are withered because joy is withered away from the sons of men.\n",
            "gird yourselves and lament ye priests howl ye ministers of the altar come lie all night in sackcloth ye ministers of my god for the meat offering and the drink offering is withholden from the house of your god.\n",
            "sanctify ye a fast call a solemn assembly gather the elders and all the inhabitants of the land into the house of the lord your god and cry unto the lord alas for the day.. for the day of the lord is at hand and as a destruction from the almighty shall it come.\n",
            "is not the meat cut off before our eyes yea joy and gladness from the house of our god.. the seed is rotten under their clods the garners are laid desolate the barns are broken down for the corn is withered.\n",
            "how do the beasts groan.. the herds of cattle are perplexed because they have no pasture yea the flocks of sheep are made desolate.\n",
            "o lord to thee will i cry for the fire hath devoured the pastures of the wilderness and the flame hath burned all the trees of the field.\n",
            "the beasts of the field cry also unto thee for the rivers of waters are dried up and the fire hath devoured the pastures of the wilderness.\n",
            "blow ye the trumpet in zion and sound an alarm in my holy mountain let all the inhabitants of the land tremble for the day of the lord cometh for it is nigh at hand a day of darkness and of gloominess a day of clouds and of thick darkness as the morning spread upon the mountains a great people and a strong there hath not been ever the like neither shall be any more after it even to the years of many generations.\n",
            "a fire devoureth before them and behind them a flame burneth the land is as the garden of eden before them and behind them a desolate wilderness yea and nothing shall escape them.\n",
            "the appearance of them is as the appearance of horses and as horsemen so shall they run.\n",
            "like the noise of chariots on the tops of mountains shall they leap like the noise of a flame of fire that devoureth the stubble as a strong people set in battle array.\n",
            "before their face the people shall be much pained all faces shall gather blackness.\n",
            "they shall run like mighty men they shall climb the wall like men of war and they shall march every one on his ways and they shall not break their ranks neither shall one thrust another they shall walk every one in his path and when they fall upon the sword they shall not be wounded.\n",
            "they shall run to and fro in the city they shall run upon the wall they shall climb up upon the houses they shall enter in at the windows like a thief.\n",
            "the earth shall quake before them the heavens shall tremble the sun and the moon shall be dark and the stars shall withdraw their shining and the lord shall utter his voice before his army for his camp is very great for he is strong that executeth his word for the day of the lord is great and very terrible and who can abide it.. therefore also now saith the lord turn ye even to me with all your heart and with fasting and with weeping and with mourning and rend your heart and not your garments and turn unto the lord your god for he is gracious and merciful slow to anger and of great kindness and repenteth him of the evil.\n",
            "who knoweth if he will return and repent and leave a blessing behind him even a meat offering and a drink offering unto the lord your god.. blow the trumpet in zion sanctify a fast call a solemn assembly gather the people sanctify the congregation assemble the elders gather the children and those that suck the breasts let the bridegroom go forth of his chamber and the bride out of her closet.\n",
            "let the priests the ministers of the lord weep between the porch and the altar and let them say spare thy people o lord and give not thine heritage to reproach that the heathen should rule over them wherefore should they say among the people where is their god.. then will the lord be jealous for his land and pity his people.\n",
            "yea the lord will answer and say unto his people behold i will send you corn and wine and oil and ye shall be satisfied therewith and i will no more make you a reproach among the heathen but i will remove far off from you the northern army and will drive him into a land barren and desolate with his face toward the east sea and his hinder part toward the utmost sea and his stink shall come up and his ill savour shall come up because he hath done great things.\n",
            "fear not o land be glad and rejoice for the lord will do great things.\n",
            "be not afraid ye beasts of the field for the pastures of the wilderness do spring for the tree beareth her fruit the fig tree and the vine do yield their strength.\n",
            "be glad then ye children of zion and rejoice in the lord your god for he hath given you the former rain moderately and he will cause to come down for you the rain the former rain and the latter rain in the first month.\n",
            "and the floors shall be full of wheat and the vats shall overflow with wine and oil.\n",
            "and i will restore to you the years that the locust hath eaten the cankerworm and the caterpiller and the palmerworm my great army which i sent among you.\n",
            "and ye shall eat in plenty and be satisfied and praise the name of the lord your god that hath dealt wondrously with you and my people shall never be ashamed.\n",
            "and ye shall know that i am in the midst of israel and that i am the lord your god and none else and my people shall never be ashamed.\n",
            "and it shall come to pass afterward that i will pour out my spirit upon all flesh and your sons and your daughters shall prophesy your old men shall dream dreams your young men shall see visions and also upon the servants and upon the handmaids in those days will i pour out my spirit.\n",
            "and i will shew wonders in the heavens and in the earth blood and fire and pillars of smoke.\n",
            "the sun shall be turned into darkness and the moon into blood before the great and terrible day of the lord come.\n",
            "and it shall come to pass that whosoever shall call on the name of the lord shall be delivered for in mount zion and in jerusalem shall be deliverance as the lord hath said and in the remnant whom the lord shall call.\n",
            "for behold in those days and in that time when i shall bring again the captivity of judah and jerusalem i will also gather all nations and will bring them down into the valley of jehoshaphat and will plead with them there for my people and for my heritage israel whom they have scattered among the nations and parted my land.\n",
            "and they have cast lots for my people and have given a boy for an harlot and sold a girl for wine that they might drink.\n",
            "yea and what have ye to do with me o tyre and zidon and all the coasts of palestine.. will ye render me a recompence.. and if ye recompense me swiftly and speedily will i return your recompence upon your own head because ye have taken my silver and my gold and have carried into your temples my goodly pleasant things the children also of judah and the children of jerusalem have ye sold unto the grecians that ye might remove them far from their border.\n",
            "behold i will raise them out of the place whither ye have sold them and will return your recompence upon your own head and i will sell your sons and your daughters into the hand of the children of judah and they shall sell them to the sabeans to a people far off for the lord hath spoken it.\n",
            "proclaim ye this among the gentiles prepare war wake up the mighty men let all the men of war draw near let them come up beat your plowshares into swords and your pruninghooks into spears let the weak say i am strong.\n",
            "assemble yourselves and come all ye heathen and gather yourselves together round about thither cause thy mighty ones to come down o lord.\n",
            "let the heathen be wakened and come up to the valley of jehoshaphat for there will i sit to judge all the heathen round about.\n",
            "put ye in the sickle for the harvest is ripe come get you down for the press is full the fats overflow for their wickedness is great.\n",
            "multitudes multitudes in the valley of decision for the day of the lord is near in the valley of decision.\n",
            "the sun and the moon shall be darkened and the stars shall withdraw their shining.\n",
            "the lord also shall roar out of zion and utter his voice from jerusalem and the heavens and the earth shall shake but the lord will be the hope of his people and the strength of the children of israel.\n",
            "so shall ye know that i am the lord your god dwelling in zion my holy mountain then shall jerusalem be holy and there shall no strangers pass through her any more.\n",
            "and it shall come to pass in that day that the mountains shall drop down new wine and the hills shall flow with milk and all the rivers of judah shall flow with waters and a fountain shall come forth out of the house of the lord and shall water the valley of shittim.\n",
            "egypt shall be a desolation and edom shall be a desolate wilderness for the violence against the children of judah because they have shed innocent blood in their land.\n",
            "but judah shall dwell for ever and jerusalem from generation to generation.\n",
            "for i will cleanse their blood that i have not cleansed for the lord dwelleth in zion.\n",
            "\n",
            "\n",
            "Quran:\n",
            "Chapter: 70\n",
            "mecca. verses\n",
            "in the name of god the compassionate the merciful\n",
            "ha.. mim. a revelation from the compassionate the merciful.\n",
            "a book whose verses signs are made plainan arabic koran for men of knowledge\n",
            "announcer of glad tidings and charged with warnings.. but most of them withdraw and hearken not\n",
            "and they say our hearts are under shelter from thy teachings and in our ears is a deafness and between us and thee there is a veil.. act as thou thinkest right we verily shall act as we think right.\n",
            "say i am only a man like you. it is revealed to me that your god is one god go straight then to him and implore his pardon.. and woe to those who join gods with god\n",
            "who pay not the alms of obligation and in the life to come believe not.\n",
            "but they who believe and do the things that are right shall receive a perfect recompense.\n",
            "say do ye indeed disbelieve in him who in two days created the earth.. and do ye assign him peers.. the lord of the worlds is he.\n",
            "and he hath placed on the earth the firm mountains which tower above it and he hath blessed it and distributed food throughout it for the cravings of all alike in four days\n",
            "then he applied himself to the heaven which then was but smoke and to it and to the earth he said come ye whether in obedience or against your will. and they both said we come obedient.\n",
            "and he made them seven heavens in two days and in each heaven made known its office and we furnished the lower heaven with lights and guardian angels.. this the disposition of the almighty the allknowing.\n",
            "if they turn away then say i warn you of a tempest like the tempest of ad and themoud.\n",
            "when the apostles came to them on every side saying worship none but god they said had our lord been pleased to send down he had surely sent down angels and in sooth your message we do not believe.\n",
            "as to ad they bore them proudly and unjustly in the land and said who more mighty than we in prowess. saw they not that god their creator was mightier than they in prowess.. and they rejected our signs.\n",
            "therefore on illomened days did we send against them an impetuous blast that we might make them taste the chastisement of shame in this worldbut more shameful shall be the chastisement of the life to come and they shall not be protected.\n",
            "and as to themoud we had vouchsafed them guidance but to guidance did they prefer blindness wherefore the tempest of a shameful punishment overtook them for their doings\n",
            "but we rescued the believing and the godfearing\n",
            "and warn of the day when the enemies of god shall be gathered unto the fire urged on in bands\n",
            "until when they reach it their ears and their eyes and their skins shall bear witness against them of their deeds\n",
            "and they shall say to their skins why witness ye against us. they shall say god who giveth a voice to all things hath given us a voice he created you at first and to him are ye brought back.\n",
            "and ye did not hide yourselves so that neither your ears nor your eyes nor your skins should witness against you but ye thought that god knew not many a thing that ye did.\n",
            "and this your thought which ye did think of your lord hath ruined you so that ye are become of those who perish.\n",
            "and be they patient still the fire shall be their abode or if they beg for favour yet shall they not be of favoured.\n",
            "and we will appoint satans as their fast companions for it was they who made their present and future state seem fair and right to them and the sentence passed on the peoples of djinn and men who flourished before them hath become their due and they shall perish.\n",
            "yet the unbelievers say hearken not to this koran but keep up a talking that ye may overpower the voice of the reader.\n",
            "surely therefore will we cause the unbelievers to taste a terrible punishment\n",
            "and recompense them according to the worst of their actions.\n",
            "this the reward of the enemies of godthe fire.. it shall be their eternal abode in requital for their gainsaying our signs.\n",
            "and they who believed not shall say o our lord.. shew us those of the djinn and men who led us astray both of them will we put under out feet that they may be of the humbled.\n",
            "but as for those who say our lord is god and who go straight to him angels shall descend to them and say fear ye not neither be ye grieved but rejoice ye in the paradise which ye have been promised.\n",
            "we are your guardians in this life and in the next yours therein shall be your souls desire and yours therein whatever ye shall ask for\n",
            "the hospitality of a gracious a merciful one.\n",
            "and who speaketh fairer than he who biddeth to god and doth the thing that is right and saith i for my part am of the muslims.\n",
            "moreover good and evil are not to be treated as the same thing.. turn away evil by what is better and lo.. he between whom and thyself was enmity shall be as though he were a warm friend.\n",
            "but none attain to this save men steadfast in patience and none attain to it except the most highly favoured.\n",
            "and if an enticement from satan entice thee then take refuge in god for he is the hearing the knowing.\n",
            "and among his signs are the night and the day and the sun and the moon.. bend not in adoration to the sun or the moon but bend in adoration before god who created them both if ye would serve him.\n",
            "but if they are too proud for this yet they who are with thy lord do celebrate his praises night and day and cease not.\n",
            "and among his signs is this that thou seest the earth drooping but when we send down the rain upon it it is stirred and swelleth verily he who giveth it life will surely give life to the dead for his might extendeth over all things.\n",
            "they truly who with obloquy disown our signs are not hidden from us.. is he then who shall be cast into the fire or he who shall come forth secure on the day of resurrection in the better position.. do what ye will but his eye is on all your doings.\n",
            "verily they who believe not in the warning after it hath come to them .. .. .. and yet the koran is a glorious book.\n",
            "falsehood from whatever side it cometh shall not come night it it is a missive down from the wise the praiseworthy.\n",
            "nothing hath been said to thee which hath not been said of old to apostles before thee.. verily with thy lord is forgiveness and with him is terrible retribution.\n",
            "had we made it a koran in a foreign tongue they had surely said unless its signs be made clear .. .. .. . what.. in a foreign tongue.. and the people arabian. say it is to those who believe a guide and a medicine but as to those who believe not there is a thickness in their ears and to them it is a blindness they are like those who are called to from afar.\n",
            "of old we gave the book to moses and disputes arose about it and if a decree of respite from thy lord had gone before there would surely have been a decision between them for great were their doubts and questionings about it.\n",
            "he who doth rightit is for himself and he who doth evilit is for himself and thy lord will not deal unfairly with his servants.\n",
            "with him alone is the knowledge of the hour. no fruit cometh forth from its coverings neither doth any female conceive nor is she delivered but with his knowledge.. and on that day he shall call men to him saying where are the companions ye gave me. they shall say we own to thee there is no one of us can witness for them.\n",
            "and what they erst called on shall pass away from them and they shall perceive that there will be no escape for them.\n",
            "man ceaseth not to pray for good but if evil betide him he despondeth despairing.\n",
            "and if we cause him to taste our mercy after affliction hath touched him he is sure to say this is my due and i take no thought of the hour of resurrection and if i be brought back to my lord i shall indeed attain with him my highest good. but we will then certainly declare their doings to the infidels and cause them to taste a stern punishment.\n",
            "when we are gracious to man he withdraweth and turneth him aside but when evil toucheth him he is a man of long prayers.\n",
            "say what think ye.. if this book be from god and ye believe it not who will have gone further astray than he who is at a distance from it.\n",
            "we will shew them our signs in different countries and among themselves until it become plain to them that it is the truth.. is it not enough for thee that thy lord is witness of all things.\n",
            "are they not in doubt as to the meeting with their lord.. but doth he not encompass all things.\n",
            "\n",
            "in some mss.. this sura is entitled adoration.. thus beidh.. according to his.. comp.. caussin f. muhammads aim in this sura was the conversion of a noble meccan utba ben rabia to islam.. the precise year is uncertain.\n",
            "see sura lxviii.. p.. .\n",
            "thus ss.. paul and barnabas acts xiv.. .\n",
            "or never failing.\n",
            "lit.. from before them and from behind them.\n",
            "see sura lx. xxxvi.. n.\n",
            "comp.. sura lxxxviii. xlvi.. .\n",
            "lit.. the possessor of great good fortune.\n",
            "comp.. rev.. iv.. in the original.\n",
            "thus tr.. taanith init.\n",
            "lit.. vanity shall not come to it from before it or from behind it.\n",
            "we will not receive it.. the literal rendering of the following words is what.. foreign and arabian.\n",
            "comp.. sura lxvii. xvii.. .\n",
            "lit.. verily they were in suspicious doubting about it.\n",
            "lit.. for his soul.. see next sura v.. .\n",
            "lit.. to him is referred.\n",
            "\n",
            "유사도: 0.675\n",
            "\n"
          ]
        }
      ]
    }
  ],
  "metadata": {
    "colab": {
      "provenance": [],
      "gpuType": "T4",
      "include_colab_link": true
    },
    "kernelspec": {
      "display_name": "Python 3",
      "name": "python3"
    },
    "language_info": {
      "name": "python"
    },
    "accelerator": "GPU"
  },
  "nbformat": 4,
  "nbformat_minor": 0
}