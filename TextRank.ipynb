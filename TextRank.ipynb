{
  "cells": [
    {
      "cell_type": "markdown",
      "metadata": {
        "id": "view-in-github",
        "colab_type": "text"
      },
      "source": [
        "<a href=\"https://colab.research.google.com/github/qkrdudwls/Exploring-the-Bible-and-Quran-Books/blob/main/TextRank.ipynb\" target=\"_parent\"><img src=\"https://colab.research.google.com/assets/colab-badge.svg\" alt=\"Open In Colab\"/></a>"
      ]
    },
    {
      "cell_type": "markdown",
      "metadata": {
        "id": "lC9XAcFSKfvA"
      },
      "source": [
        "# **TextRank를 활용한 문장 유사도 분석**"
      ]
    },
    {
      "cell_type": "markdown",
      "source": [
        "## Overview\n",
        "- Bible과 Quran을 chapter 별로 나누어서 crawling\n",
        "- TextRank 알고리즘을 이용하여 keyword 추출 및 문장 요약\n",
        "- 요약한 문장을 바탕으로 Cosine Similarity와 Jaccard Similarity 계산\n",
        "- 요약한 데이터에 Shingling, Min-Hashing, LSH 알고리즘을 적용하여 유사도 계산 및 가장 유사한 문장 쌍 찾기\n"
      ],
      "metadata": {
        "id": "IBBZsml691Ke"
      }
    },
    {
      "cell_type": "markdown",
      "metadata": {
        "id": "SBDMRxL8LG0A"
      },
      "source": [
        "## Set up"
      ]
    },
    {
      "cell_type": "markdown",
      "metadata": {
        "id": "D0U74xdFLMv_"
      },
      "source": [
        "### 구글 드라이브 마운트"
      ]
    },
    {
      "cell_type": "code",
      "execution_count": 1,
      "metadata": {
        "colab": {
          "base_uri": "https://localhost:8080/"
        },
        "id": "xhILfLCMLKu4",
        "outputId": "4cdaffbe-defe-4740-bd0b-d87af04ed65e",
        "collapsed": true
      },
      "outputs": [
        {
          "output_type": "stream",
          "name": "stdout",
          "text": [
            "Mounted at /content/drive\n"
          ]
        }
      ],
      "source": [
        "from google.colab import drive\n",
        "drive.mount('/content/drive')"
      ]
    },
    {
      "cell_type": "markdown",
      "metadata": {
        "id": "tRJ24vNaLThv"
      },
      "source": [
        "### Selenium & chromedriver 설치"
      ]
    },
    {
      "cell_type": "code",
      "execution_count": 2,
      "metadata": {
        "colab": {
          "base_uri": "https://localhost:8080/"
        },
        "id": "mlKuX0hZLZUn",
        "outputId": "12b24355-d2f8-4c5a-9b85-a495221dcacb",
        "collapsed": true
      },
      "outputs": [
        {
          "output_type": "stream",
          "name": "stdout",
          "text": [
            "Collecting selenium\n",
            "  Downloading selenium-4.27.1-py3-none-any.whl.metadata (7.1 kB)\n",
            "Requirement already satisfied: urllib3<3,>=1.26 in /usr/local/lib/python3.10/dist-packages (from urllib3[socks]<3,>=1.26->selenium) (2.2.3)\n",
            "Collecting trio~=0.17 (from selenium)\n",
            "  Downloading trio-0.27.0-py3-none-any.whl.metadata (8.6 kB)\n",
            "Collecting trio-websocket~=0.9 (from selenium)\n",
            "  Downloading trio_websocket-0.11.1-py3-none-any.whl.metadata (4.7 kB)\n",
            "Requirement already satisfied: certifi>=2021.10.8 in /usr/local/lib/python3.10/dist-packages (from selenium) (2024.8.30)\n",
            "Requirement already satisfied: typing_extensions~=4.9 in /usr/local/lib/python3.10/dist-packages (from selenium) (4.12.2)\n",
            "Requirement already satisfied: websocket-client~=1.8 in /usr/local/lib/python3.10/dist-packages (from selenium) (1.8.0)\n",
            "Requirement already satisfied: attrs>=23.2.0 in /usr/local/lib/python3.10/dist-packages (from trio~=0.17->selenium) (24.2.0)\n",
            "Collecting sortedcontainers (from trio~=0.17->selenium)\n",
            "  Downloading sortedcontainers-2.4.0-py2.py3-none-any.whl.metadata (10 kB)\n",
            "Requirement already satisfied: idna in /usr/local/lib/python3.10/dist-packages (from trio~=0.17->selenium) (3.10)\n",
            "Collecting outcome (from trio~=0.17->selenium)\n",
            "  Downloading outcome-1.3.0.post0-py2.py3-none-any.whl.metadata (2.6 kB)\n",
            "Requirement already satisfied: sniffio>=1.3.0 in /usr/local/lib/python3.10/dist-packages (from trio~=0.17->selenium) (1.3.1)\n",
            "Requirement already satisfied: exceptiongroup in /usr/local/lib/python3.10/dist-packages (from trio~=0.17->selenium) (1.2.2)\n",
            "Collecting wsproto>=0.14 (from trio-websocket~=0.9->selenium)\n",
            "  Downloading wsproto-1.2.0-py3-none-any.whl.metadata (5.6 kB)\n",
            "Requirement already satisfied: pysocks!=1.5.7,<2.0,>=1.5.6 in /usr/local/lib/python3.10/dist-packages (from urllib3[socks]<3,>=1.26->selenium) (1.7.1)\n",
            "Collecting h11<1,>=0.9.0 (from wsproto>=0.14->trio-websocket~=0.9->selenium)\n",
            "  Downloading h11-0.14.0-py3-none-any.whl.metadata (8.2 kB)\n",
            "Downloading selenium-4.27.1-py3-none-any.whl (9.7 MB)\n",
            "\u001b[2K   \u001b[90m━━━━━━━━━━━━━━━━━━━━━━━━━━━━━━━━━━━━━━━━\u001b[0m \u001b[32m9.7/9.7 MB\u001b[0m \u001b[31m69.8 MB/s\u001b[0m eta \u001b[36m0:00:00\u001b[0m\n",
            "\u001b[?25hDownloading trio-0.27.0-py3-none-any.whl (481 kB)\n",
            "\u001b[2K   \u001b[90m━━━━━━━━━━━━━━━━━━━━━━━━━━━━━━━━━━━━━━━━\u001b[0m \u001b[32m481.7/481.7 kB\u001b[0m \u001b[31m29.0 MB/s\u001b[0m eta \u001b[36m0:00:00\u001b[0m\n",
            "\u001b[?25hDownloading trio_websocket-0.11.1-py3-none-any.whl (17 kB)\n",
            "Downloading wsproto-1.2.0-py3-none-any.whl (24 kB)\n",
            "Downloading outcome-1.3.0.post0-py2.py3-none-any.whl (10 kB)\n",
            "Downloading sortedcontainers-2.4.0-py2.py3-none-any.whl (29 kB)\n",
            "Downloading h11-0.14.0-py3-none-any.whl (58 kB)\n",
            "\u001b[2K   \u001b[90m━━━━━━━━━━━━━━━━━━━━━━━━━━━━━━━━━━━━━━━━\u001b[0m \u001b[32m58.3/58.3 kB\u001b[0m \u001b[31m3.6 MB/s\u001b[0m eta \u001b[36m0:00:00\u001b[0m\n",
            "\u001b[?25hInstalling collected packages: sortedcontainers, outcome, h11, wsproto, trio, trio-websocket, selenium\n",
            "Successfully installed h11-0.14.0 outcome-1.3.0.post0 selenium-4.27.1 sortedcontainers-2.4.0 trio-0.27.0 trio-websocket-0.11.1 wsproto-1.2.0\n",
            "Hit:1 http://archive.ubuntu.com/ubuntu jammy InRelease\n",
            "Get:2 https://cloud.r-project.org/bin/linux/ubuntu jammy-cran40/ InRelease [3,626 B]\n",
            "Get:3 http://archive.ubuntu.com/ubuntu jammy-updates InRelease [128 kB]\n",
            "Get:4 https://r2u.stat.illinois.edu/ubuntu jammy InRelease [6,555 B]\n",
            "Get:5 http://security.ubuntu.com/ubuntu jammy-security InRelease [129 kB]\n",
            "Get:6 http://archive.ubuntu.com/ubuntu jammy-backports InRelease [127 kB]\n",
            "Get:7 https://r2u.stat.illinois.edu/ubuntu jammy/main all Packages [8,535 kB]\n",
            "Get:8 http://archive.ubuntu.com/ubuntu jammy-updates/main amd64 Packages [2,741 kB]\n",
            "Get:9 https://ppa.launchpadcontent.net/deadsnakes/ppa/ubuntu jammy InRelease [18.1 kB]\n",
            "Get:10 http://archive.ubuntu.com/ubuntu jammy-updates/restricted amd64 Packages [3,453 kB]\n",
            "Hit:11 https://ppa.launchpadcontent.net/ubuntugis/ppa/ubuntu jammy InRelease\n",
            "Get:12 https://r2u.stat.illinois.edu/ubuntu jammy/main amd64 Packages [2,626 kB]\n",
            "Get:13 http://archive.ubuntu.com/ubuntu jammy-updates/universe amd64 Packages [1,515 kB]\n",
            "Get:14 http://security.ubuntu.com/ubuntu jammy-security/universe amd64 Packages [1,226 kB]\n",
            "Get:15 https://ppa.launchpadcontent.net/deadsnakes/ppa/ubuntu jammy/main amd64 Packages [32.9 kB]\n",
            "Get:16 http://security.ubuntu.com/ubuntu jammy-security/main amd64 Packages [2,458 kB]\n",
            "Get:17 http://security.ubuntu.com/ubuntu jammy-security/restricted amd64 Packages [3,331 kB]\n",
            "Fetched 26.3 MB in 2s (12.5 MB/s)\n",
            "Reading package lists... Done\n",
            "W: Skipping acquire of configured file 'main/source/Sources' as repository 'https://r2u.stat.illinois.edu/ubuntu jammy InRelease' does not seem to provide it (sources.list entry misspelt?)\n",
            "Reading package lists... Done\n",
            "Building dependency tree... Done\n",
            "Reading state information... Done\n",
            "The following additional packages will be installed:\n",
            "  apparmor chromium-browser libfuse3-3 liblzo2-2 snapd squashfs-tools systemd-hwe-hwdb udev\n",
            "Suggested packages:\n",
            "  apparmor-profiles-extra apparmor-utils fuse3 zenity | kdialog\n",
            "The following NEW packages will be installed:\n",
            "  apparmor chromium-browser chromium-chromedriver libfuse3-3 liblzo2-2 snapd squashfs-tools\n",
            "  systemd-hwe-hwdb udev\n",
            "0 upgraded, 9 newly installed, 0 to remove and 6 not upgraded.\n",
            "Need to get 30.1 MB of archives.\n",
            "After this operation, 123 MB of additional disk space will be used.\n",
            "Get:1 http://archive.ubuntu.com/ubuntu jammy-updates/main amd64 apparmor amd64 3.0.4-2ubuntu2.4 [598 kB]\n",
            "Get:2 http://archive.ubuntu.com/ubuntu jammy/main amd64 liblzo2-2 amd64 2.10-2build3 [53.7 kB]\n",
            "Get:3 http://archive.ubuntu.com/ubuntu jammy/main amd64 squashfs-tools amd64 1:4.5-3build1 [159 kB]\n",
            "Get:4 http://archive.ubuntu.com/ubuntu jammy-updates/main amd64 udev amd64 249.11-0ubuntu3.12 [1,557 kB]\n",
            "Get:5 http://archive.ubuntu.com/ubuntu jammy/main amd64 libfuse3-3 amd64 3.10.5-1build1 [81.2 kB]\n",
            "Get:6 http://archive.ubuntu.com/ubuntu jammy-updates/main amd64 snapd amd64 2.66.1+22.04 [27.6 MB]\n",
            "Get:7 http://archive.ubuntu.com/ubuntu jammy-updates/universe amd64 chromium-browser amd64 1:85.0.4183.83-0ubuntu2.22.04.1 [49.2 kB]\n",
            "Get:8 http://archive.ubuntu.com/ubuntu jammy-updates/universe amd64 chromium-chromedriver amd64 1:85.0.4183.83-0ubuntu2.22.04.1 [2,308 B]\n",
            "Get:9 http://archive.ubuntu.com/ubuntu jammy-updates/main amd64 systemd-hwe-hwdb all 249.11.5 [3,228 B]\n",
            "Fetched 30.1 MB in 1s (47.0 MB/s)\n",
            "Preconfiguring packages ...\n",
            "Selecting previously unselected package apparmor.\n",
            "(Reading database ... 119637 files and directories currently installed.)\n",
            "Preparing to unpack .../0-apparmor_3.0.4-2ubuntu2.4_amd64.deb ...\n",
            "Unpacking apparmor (3.0.4-2ubuntu2.4) ...\n",
            "Selecting previously unselected package liblzo2-2:amd64.\n",
            "Preparing to unpack .../1-liblzo2-2_2.10-2build3_amd64.deb ...\n",
            "Unpacking liblzo2-2:amd64 (2.10-2build3) ...\n",
            "Selecting previously unselected package squashfs-tools.\n",
            "Preparing to unpack .../2-squashfs-tools_1%3a4.5-3build1_amd64.deb ...\n",
            "Unpacking squashfs-tools (1:4.5-3build1) ...\n",
            "Selecting previously unselected package udev.\n",
            "Preparing to unpack .../3-udev_249.11-0ubuntu3.12_amd64.deb ...\n",
            "Unpacking udev (249.11-0ubuntu3.12) ...\n",
            "Selecting previously unselected package libfuse3-3:amd64.\n",
            "Preparing to unpack .../4-libfuse3-3_3.10.5-1build1_amd64.deb ...\n",
            "Unpacking libfuse3-3:amd64 (3.10.5-1build1) ...\n",
            "Selecting previously unselected package snapd.\n",
            "Preparing to unpack .../5-snapd_2.66.1+22.04_amd64.deb ...\n",
            "Unpacking snapd (2.66.1+22.04) ...\n",
            "Setting up apparmor (3.0.4-2ubuntu2.4) ...\n",
            "Created symlink /etc/systemd/system/sysinit.target.wants/apparmor.service → /lib/systemd/system/apparmor.service.\n",
            "Setting up liblzo2-2:amd64 (2.10-2build3) ...\n",
            "Setting up squashfs-tools (1:4.5-3build1) ...\n",
            "Setting up udev (249.11-0ubuntu3.12) ...\n",
            "invoke-rc.d: could not determine current runlevel\n",
            "invoke-rc.d: policy-rc.d denied execution of start.\n",
            "Setting up libfuse3-3:amd64 (3.10.5-1build1) ...\n",
            "Setting up snapd (2.66.1+22.04) ...\n",
            "Created symlink /etc/systemd/system/multi-user.target.wants/snapd.apparmor.service → /lib/systemd/system/snapd.apparmor.service.\n",
            "Created symlink /etc/systemd/system/multi-user.target.wants/snapd.autoimport.service → /lib/systemd/system/snapd.autoimport.service.\n",
            "Created symlink /etc/systemd/system/multi-user.target.wants/snapd.core-fixup.service → /lib/systemd/system/snapd.core-fixup.service.\n",
            "Created symlink /etc/systemd/system/multi-user.target.wants/snapd.recovery-chooser-trigger.service → /lib/systemd/system/snapd.recovery-chooser-trigger.service.\n",
            "Created symlink /etc/systemd/system/multi-user.target.wants/snapd.seeded.service → /lib/systemd/system/snapd.seeded.service.\n",
            "Created symlink /etc/systemd/system/cloud-final.service.wants/snapd.seeded.service → /lib/systemd/system/snapd.seeded.service.\n",
            "Unit /lib/systemd/system/snapd.seeded.service is added as a dependency to a non-existent unit cloud-final.service.\n",
            "Created symlink /etc/systemd/system/multi-user.target.wants/snapd.service → /lib/systemd/system/snapd.service.\n",
            "Created symlink /etc/systemd/system/timers.target.wants/snapd.snap-repair.timer → /lib/systemd/system/snapd.snap-repair.timer.\n",
            "Created symlink /etc/systemd/system/sockets.target.wants/snapd.socket → /lib/systemd/system/snapd.socket.\n",
            "Created symlink /etc/systemd/system/final.target.wants/snapd.system-shutdown.service → /lib/systemd/system/snapd.system-shutdown.service.\n",
            "Selecting previously unselected package chromium-browser.\n",
            "(Reading database ... 120074 files and directories currently installed.)\n",
            "Preparing to unpack .../chromium-browser_1%3a85.0.4183.83-0ubuntu2.22.04.1_amd64.deb ...\n",
            "=> Installing the chromium snap\n",
            "==> Checking connectivity with the snap store\n",
            "===> System doesn't have a working snapd, skipping\n",
            "Unpacking chromium-browser (1:85.0.4183.83-0ubuntu2.22.04.1) ...\n",
            "Selecting previously unselected package chromium-chromedriver.\n",
            "Preparing to unpack .../chromium-chromedriver_1%3a85.0.4183.83-0ubuntu2.22.04.1_amd64.deb ...\n",
            "Unpacking chromium-chromedriver (1:85.0.4183.83-0ubuntu2.22.04.1) ...\n",
            "Selecting previously unselected package systemd-hwe-hwdb.\n",
            "Preparing to unpack .../systemd-hwe-hwdb_249.11.5_all.deb ...\n",
            "Unpacking systemd-hwe-hwdb (249.11.5) ...\n",
            "Setting up systemd-hwe-hwdb (249.11.5) ...\n",
            "Setting up chromium-browser (1:85.0.4183.83-0ubuntu2.22.04.1) ...\n",
            "update-alternatives: using /usr/bin/chromium-browser to provide /usr/bin/x-www-browser (x-www-browser) in auto mode\n",
            "update-alternatives: using /usr/bin/chromium-browser to provide /usr/bin/gnome-www-browser (gnome-www-browser) in auto mode\n",
            "Setting up chromium-chromedriver (1:85.0.4183.83-0ubuntu2.22.04.1) ...\n",
            "Processing triggers for udev (249.11-0ubuntu3.12) ...\n",
            "Processing triggers for hicolor-icon-theme (0.17-2) ...\n",
            "Processing triggers for libc-bin (2.35-0ubuntu3.8) ...\n",
            "Processing triggers for man-db (2.10.2-1) ...\n",
            "Processing triggers for dbus (1.12.20-2ubuntu4.1) ...\n",
            "cp: cannot stat '/usr/bin/lib/chromium-browser/chromedriver': No such file or directory\n",
            "Collecting chromedriver-autoinstaller\n",
            "  Downloading chromedriver_autoinstaller-0.6.4-py3-none-any.whl.metadata (2.1 kB)\n",
            "Requirement already satisfied: packaging>=23.1 in /usr/local/lib/python3.10/dist-packages (from chromedriver-autoinstaller) (24.2)\n",
            "Downloading chromedriver_autoinstaller-0.6.4-py3-none-any.whl (7.6 kB)\n",
            "Installing collected packages: chromedriver-autoinstaller\n",
            "Successfully installed chromedriver-autoinstaller-0.6.4\n"
          ]
        }
      ],
      "source": [
        "!pip install selenium\n",
        "!apt-get update\n",
        "\n",
        "!apt install chromium-chromedriver\n",
        "!cp /usr/bin/lib/chromium-browser/chromedriver '/content/drive/MyDrive/Colab Notebooks'\n",
        "!pip install chromedriver-autoinstaller"
      ]
    },
    {
      "cell_type": "markdown",
      "metadata": {
        "id": "v2JUvVjCPDq_"
      },
      "source": [
        "### Spark 설치"
      ]
    },
    {
      "cell_type": "code",
      "execution_count": 3,
      "metadata": {
        "colab": {
          "base_uri": "https://localhost:8080/"
        },
        "id": "DmBaBqZJPCyo",
        "outputId": "7b442c25-8ee3-4a2c-985e-2dfd8320412e",
        "collapsed": true
      },
      "outputs": [
        {
          "output_type": "stream",
          "name": "stdout",
          "text": [
            "Collecting pyspark\n",
            "  Downloading pyspark-3.5.3.tar.gz (317.3 MB)\n",
            "\u001b[2K     \u001b[90m━━━━━━━━━━━━━━━━━━━━━━━━━━━━━━━━━━━━━━━━\u001b[0m \u001b[32m317.3/317.3 MB\u001b[0m \u001b[31m3.2 MB/s\u001b[0m eta \u001b[36m0:00:00\u001b[0m\n",
            "\u001b[?25h  Preparing metadata (setup.py) ... \u001b[?25l\u001b[?25hdone\n",
            "Collecting py4j==0.10.9.7 (from pyspark)\n",
            "  Downloading py4j-0.10.9.7-py2.py3-none-any.whl.metadata (1.5 kB)\n",
            "Downloading py4j-0.10.9.7-py2.py3-none-any.whl (200 kB)\n",
            "\u001b[2K   \u001b[90m━━━━━━━━━━━━━━━━━━━━━━━━━━━━━━━━━━━━━━━━\u001b[0m \u001b[32m200.5/200.5 kB\u001b[0m \u001b[31m13.4 MB/s\u001b[0m eta \u001b[36m0:00:00\u001b[0m\n",
            "\u001b[?25hBuilding wheels for collected packages: pyspark\n",
            "  Building wheel for pyspark (setup.py) ... \u001b[?25l\u001b[?25hdone\n",
            "  Created wheel for pyspark: filename=pyspark-3.5.3-py2.py3-none-any.whl size=317840625 sha256=ba49bd37a074981a610fb59c1aeb1bee835ce52b428ab197c793a4aee5c719e0\n",
            "  Stored in directory: /root/.cache/pip/wheels/1b/3a/92/28b93e2fbfdbb07509ca4d6f50c5e407f48dce4ddbda69a4ab\n",
            "Successfully built pyspark\n",
            "Installing collected packages: py4j, pyspark\n",
            "Successfully installed py4j-0.10.9.7 pyspark-3.5.3\n",
            "\u001b[2K   \u001b[90m━━━━━━━━━━━━━━━━━━━━━━━━━━━━━━━━━━━━━━━━\u001b[0m \u001b[32m48.0/48.0 kB\u001b[0m \u001b[31m1.6 MB/s\u001b[0m eta \u001b[36m0:00:00\u001b[0m\n",
            "\u001b[2K   \u001b[90m━━━━━━━━━━━━━━━━━━━━━━━━━━━━━━━━━━━━━━━━\u001b[0m \u001b[32m12.6/12.6 MB\u001b[0m \u001b[31m101.9 MB/s\u001b[0m eta \u001b[36m0:00:00\u001b[0m\n",
            "\u001b[2K   \u001b[90m━━━━━━━━━━━━━━━━━━━━━━━━━━━━━━━━━━━━━━━━\u001b[0m \u001b[32m98.2/98.2 kB\u001b[0m \u001b[31m6.6 MB/s\u001b[0m eta \u001b[36m0:00:00\u001b[0m\n",
            "\u001b[2K   \u001b[90m━━━━━━━━━━━━━━━━━━━━━━━━━━━━━━━━━━━━━━━━\u001b[0m \u001b[32m58.4/58.4 kB\u001b[0m \u001b[31m3.7 MB/s\u001b[0m eta \u001b[36m0:00:00\u001b[0m\n",
            "\u001b[2K   \u001b[90m━━━━━━━━━━━━━━━━━━━━━━━━━━━━━━━━━━━━━━━━\u001b[0m \u001b[32m4.0/4.0 MB\u001b[0m \u001b[31m3.2 MB/s\u001b[0m eta \u001b[36m0:00:00\u001b[0m\n",
            "\u001b[?25hThe following additional packages will be installed:\n",
            "  libxtst6 openjdk-8-jre-headless\n",
            "Suggested packages:\n",
            "  openjdk-8-demo openjdk-8-source libnss-mdns fonts-dejavu-extra fonts-nanum fonts-ipafont-gothic\n",
            "  fonts-ipafont-mincho fonts-wqy-microhei fonts-wqy-zenhei fonts-indic\n",
            "The following NEW packages will be installed:\n",
            "  libxtst6 openjdk-8-jdk-headless openjdk-8-jre-headless\n",
            "0 upgraded, 3 newly installed, 0 to remove and 6 not upgraded.\n",
            "Need to get 39.7 MB of archives.\n",
            "After this operation, 144 MB of additional disk space will be used.\n",
            "Selecting previously unselected package libxtst6:amd64.\n",
            "(Reading database ... 120102 files and directories currently installed.)\n",
            "Preparing to unpack .../libxtst6_2%3a1.2.3-1build4_amd64.deb ...\n",
            "Unpacking libxtst6:amd64 (2:1.2.3-1build4) ...\n",
            "Selecting previously unselected package openjdk-8-jre-headless:amd64.\n",
            "Preparing to unpack .../openjdk-8-jre-headless_8u432-ga~us1-0ubuntu2~22.04_amd64.deb ...\n",
            "Unpacking openjdk-8-jre-headless:amd64 (8u432-ga~us1-0ubuntu2~22.04) ...\n",
            "Selecting previously unselected package openjdk-8-jdk-headless:amd64.\n",
            "Preparing to unpack .../openjdk-8-jdk-headless_8u432-ga~us1-0ubuntu2~22.04_amd64.deb ...\n",
            "Unpacking openjdk-8-jdk-headless:amd64 (8u432-ga~us1-0ubuntu2~22.04) ...\n",
            "Setting up libxtst6:amd64 (2:1.2.3-1build4) ...\n",
            "Setting up openjdk-8-jre-headless:amd64 (8u432-ga~us1-0ubuntu2~22.04) ...\n",
            "update-alternatives: using /usr/lib/jvm/java-8-openjdk-amd64/jre/bin/orbd to provide /usr/bin/orbd (orbd) in auto mode\n",
            "update-alternatives: using /usr/lib/jvm/java-8-openjdk-amd64/jre/bin/servertool to provide /usr/bin/servertool (servertool) in auto mode\n",
            "update-alternatives: using /usr/lib/jvm/java-8-openjdk-amd64/jre/bin/tnameserv to provide /usr/bin/tnameserv (tnameserv) in auto mode\n",
            "Setting up openjdk-8-jdk-headless:amd64 (8u432-ga~us1-0ubuntu2~22.04) ...\n",
            "update-alternatives: using /usr/lib/jvm/java-8-openjdk-amd64/bin/clhsdb to provide /usr/bin/clhsdb (clhsdb) in auto mode\n",
            "update-alternatives: using /usr/lib/jvm/java-8-openjdk-amd64/bin/extcheck to provide /usr/bin/extcheck (extcheck) in auto mode\n",
            "update-alternatives: using /usr/lib/jvm/java-8-openjdk-amd64/bin/hsdb to provide /usr/bin/hsdb (hsdb) in auto mode\n",
            "update-alternatives: using /usr/lib/jvm/java-8-openjdk-amd64/bin/idlj to provide /usr/bin/idlj (idlj) in auto mode\n",
            "update-alternatives: using /usr/lib/jvm/java-8-openjdk-amd64/bin/javah to provide /usr/bin/javah (javah) in auto mode\n",
            "update-alternatives: using /usr/lib/jvm/java-8-openjdk-amd64/bin/jhat to provide /usr/bin/jhat (jhat) in auto mode\n",
            "update-alternatives: using /usr/lib/jvm/java-8-openjdk-amd64/bin/jsadebugd to provide /usr/bin/jsadebugd (jsadebugd) in auto mode\n",
            "update-alternatives: using /usr/lib/jvm/java-8-openjdk-amd64/bin/native2ascii to provide /usr/bin/native2ascii (native2ascii) in auto mode\n",
            "update-alternatives: using /usr/lib/jvm/java-8-openjdk-amd64/bin/schemagen to provide /usr/bin/schemagen (schemagen) in auto mode\n",
            "update-alternatives: using /usr/lib/jvm/java-8-openjdk-amd64/bin/wsgen to provide /usr/bin/wsgen (wsgen) in auto mode\n",
            "update-alternatives: using /usr/lib/jvm/java-8-openjdk-amd64/bin/wsimport to provide /usr/bin/wsimport (wsimport) in auto mode\n",
            "update-alternatives: using /usr/lib/jvm/java-8-openjdk-amd64/bin/xjc to provide /usr/bin/xjc (xjc) in auto mode\n",
            "Processing triggers for libc-bin (2.35-0ubuntu3.8) ...\n"
          ]
        }
      ],
      "source": [
        "!pip install pyspark\n",
        "!pip install -U -q PyDrive2\n",
        "!apt install openjdk-8-jdk-headless -qq\n",
        "\n",
        "import os\n",
        "os.environ[\"JAVA_HOME\"] = \"/usr/lib/jvm/java-8-openjdk-amd64\""
      ]
    },
    {
      "cell_type": "markdown",
      "metadata": {
        "id": "w2pliVYi6pJ2"
      },
      "source": [
        "### NLTK 패키지 설치\n",
        "- punkt_tab 다운로드"
      ]
    },
    {
      "cell_type": "code",
      "execution_count": 4,
      "metadata": {
        "colab": {
          "base_uri": "https://localhost:8080/"
        },
        "id": "sc9ZKwsm6oh_",
        "outputId": "53f52adc-cc93-41d7-e264-42bb632e87bf",
        "collapsed": true
      },
      "outputs": [
        {
          "output_type": "stream",
          "name": "stderr",
          "text": [
            "[nltk_data] Downloading package punkt_tab to /root/nltk_data...\n",
            "[nltk_data]   Unzipping tokenizers/punkt_tab.zip.\n"
          ]
        },
        {
          "output_type": "execute_result",
          "data": {
            "text/plain": [
              "True"
            ]
          },
          "metadata": {},
          "execution_count": 4
        }
      ],
      "source": [
        "import nltk\n",
        "nltk.download(\"punkt_tab\")"
      ]
    },
    {
      "cell_type": "markdown",
      "metadata": {
        "id": "MXs14dVrLhT4"
      },
      "source": [
        "#### Version 확인"
      ]
    },
    {
      "cell_type": "code",
      "execution_count": 5,
      "metadata": {
        "colab": {
          "base_uri": "https://localhost:8080/"
        },
        "id": "EoeG9Sn2LkfY",
        "outputId": "6191d0d2-9453-490a-cdc9-732c7a6647f9"
      },
      "outputs": [
        {
          "output_type": "stream",
          "name": "stdout",
          "text": [
            "Python 3.10.12\n",
            "Selenium 4.27.1\n",
            "PySpark 3.5.3\n",
            "NLTK 3.9.1\n",
            "NetworkX 3.4.2\n",
            "scikit-learn 1.5.2\n"
          ]
        }
      ],
      "source": [
        "!python --version\n",
        "\n",
        "import selenium\n",
        "import pyspark\n",
        "import nltk\n",
        "import networkx\n",
        "import sklearn\n",
        "\n",
        "print(f\"Selenium {selenium.__version__}\")\n",
        "print(f\"PySpark {pyspark.__version__}\")\n",
        "print(f\"NLTK {nltk.__version__}\")\n",
        "print(f\"NetworkX {networkx.__version__}\")\n",
        "print(f\"scikit-learn {sklearn.__version__}\")"
      ]
    },
    {
      "cell_type": "markdown",
      "metadata": {
        "id": "cSRcKwSgJVMM"
      },
      "source": [
        "### Import Library"
      ]
    },
    {
      "cell_type": "code",
      "execution_count": 6,
      "metadata": {
        "id": "2_KIuLkgLztg"
      },
      "outputs": [],
      "source": [
        "from selenium import webdriver\n",
        "from selenium.webdriver.support.ui import WebDriverWait\n",
        "from selenium.webdriver.support import expected_conditions as EC\n",
        "from selenium.webdriver.common.by import By\n",
        "import sys\n",
        "from selenium.webdriver.common.keys import Keys\n",
        "import urllib.request\n",
        "import os\n",
        "from urllib.request import urlretrieve\n",
        "\n",
        "import time\n",
        "import pandas as pd\n",
        "import chromedriver_autoinstaller\n",
        "import re\n",
        "\n",
        "import glob\n",
        "import matplotlib.pyplot as plt\n",
        "from pyspark.sql import SparkSession\n",
        "from pyspark.ml.feature import Tokenizer, HashingTF, IDF, StopWordsRemover\n",
        "from pyspark.sql.functions import col, explode, udf, lower, regexp_replace\n",
        "from pyspark.sql.types import ArrayType, StructType, StructField, StringType, DoubleType\n",
        "from pyspark.ml.linalg import SparseVector\n",
        "import spacy\n",
        "import nltk\n",
        "\n",
        "import networkx as nx\n",
        "from nltk.tokenize import sent_tokenize, word_tokenize\n",
        "from sklearn.feature_extraction.text import TfidfVectorizer\n",
        "from sklearn.metrics.pairwise import cosine_similarity\n",
        "from collections import Counter\n",
        "from itertools import combinations\n",
        "import math\n",
        "import hashlib\n",
        "import numpy as np\n",
        "from collections import defaultdict"
      ]
    },
    {
      "cell_type": "markdown",
      "metadata": {
        "id": "LGPDZ6ijL3OA"
      },
      "source": [
        "### chrome_options 설정"
      ]
    },
    {
      "cell_type": "code",
      "execution_count": 7,
      "metadata": {
        "id": "b8n07XEaL4pA"
      },
      "outputs": [],
      "source": [
        "chrome_path=\"/content/drive/Mydrive/Colab Notebooks/chromedriver\"\n",
        "\n",
        "sys.path.insert(0,chrome_path)\n",
        "chrome_options = webdriver.ChromeOptions()\n",
        "chrome_options.add_argument('--headless')\n",
        "chrome_options.add_argument('--no-sandbox')\n",
        "chrome_options.add_argument('--disable-dev-shm-usage')\n",
        "\n",
        "chromedriver_autoinstaller.install()"
      ]
    },
    {
      "cell_type": "markdown",
      "source": [
        "## Crawling"
      ],
      "metadata": {
        "id": "2RrCbX4Bp-do"
      }
    },
    {
      "cell_type": "markdown",
      "source": [
        "### URL"
      ],
      "metadata": {
        "id": "fUCjkQgkp2qD"
      }
    },
    {
      "cell_type": "code",
      "source": [
        "bible_url = 'https://www.gutenberg.org/cache/epub/10/pg10-images.html'\n",
        "quran_url = 'https://www.gutenberg.org/cache/epub/2800/pg2800-images.html'"
      ],
      "metadata": {
        "id": "M4-U5WOxorXx"
      },
      "execution_count": 8,
      "outputs": []
    },
    {
      "cell_type": "markdown",
      "source": [
        "### 데이터 전처리 함수\n",
        "- 문장 단위로 분할\n",
        "- 영어 알파벳과 공백, 마침표만 제외하고 모두 제거\n",
        "- 모든 문자를 소문자로 변환\n",
        "- 연속된 공백을 단일 공백으로 축소\n",
        "- 양 끝의 공백 제거"
      ],
      "metadata": {
        "id": "IYbeI-HQOPKi"
      }
    },
    {
      "cell_type": "code",
      "source": [
        "def preprocess_text(text):\n",
        "    sentences = re.split(r'(?<=[.?!])\\s+', text)\n",
        "\n",
        "    cleaned_sentences = []\n",
        "    for sentence in sentences:\n",
        "        sentence = re.sub(r'[?!]', '.', sentence)\n",
        "        cleaned_sentence = re.sub(r'[^a-zA-Z\\s.]', '', sentence)\n",
        "        cleaned_sentence = cleaned_sentence.lower()\n",
        "        cleaned_sentence = re.sub(r'\\s+', ' ', cleaned_sentence).strip()\n",
        "        cleaned_sentence = re.sub(r'\\.{2,}', '.', cleaned_sentence)\n",
        "        cleaned_sentences.append(cleaned_sentence)\n",
        "\n",
        "    return '. '.join(cleaned_sentences)"
      ],
      "metadata": {
        "id": "DHuDL2LyOTwI"
      },
      "execution_count": 9,
      "outputs": []
    },
    {
      "cell_type": "markdown",
      "metadata": {
        "id": "AJmZNUFsO3Pw"
      },
      "source": [
        "### Bible"
      ]
    },
    {
      "cell_type": "code",
      "execution_count": 10,
      "metadata": {
        "colab": {
          "base_uri": "https://localhost:8080/"
        },
        "id": "NWNSTcauL_24",
        "outputId": "6aef0c0c-fd07-4139-dc5b-357742b49b2f",
        "collapsed": true
      },
      "outputs": [
        {
          "output_type": "stream",
          "name": "stdout",
          "text": [
            "Saved chapter 1 to bible_texts/chapter_1.txt\n",
            "Saved chapter 2 to bible_texts/chapter_2.txt\n",
            "Saved chapter 3 to bible_texts/chapter_3.txt\n",
            "Saved chapter 4 to bible_texts/chapter_4.txt\n",
            "Saved chapter 5 to bible_texts/chapter_5.txt\n",
            "Saved chapter 6 to bible_texts/chapter_6.txt\n",
            "Saved chapter 7 to bible_texts/chapter_7.txt\n",
            "Saved chapter 8 to bible_texts/chapter_8.txt\n",
            "Saved chapter 9 to bible_texts/chapter_9.txt\n",
            "Saved chapter 10 to bible_texts/chapter_10.txt\n",
            "Saved chapter 11 to bible_texts/chapter_11.txt\n",
            "Saved chapter 12 to bible_texts/chapter_12.txt\n",
            "Saved chapter 13 to bible_texts/chapter_13.txt\n",
            "Saved chapter 14 to bible_texts/chapter_14.txt\n",
            "Saved chapter 15 to bible_texts/chapter_15.txt\n",
            "Saved chapter 16 to bible_texts/chapter_16.txt\n",
            "Saved chapter 17 to bible_texts/chapter_17.txt\n",
            "Saved chapter 18 to bible_texts/chapter_18.txt\n",
            "Saved chapter 19 to bible_texts/chapter_19.txt\n",
            "Saved chapter 20 to bible_texts/chapter_20.txt\n",
            "Saved chapter 21 to bible_texts/chapter_21.txt\n",
            "Saved chapter 22 to bible_texts/chapter_22.txt\n",
            "Saved chapter 23 to bible_texts/chapter_23.txt\n",
            "Saved chapter 24 to bible_texts/chapter_24.txt\n",
            "Saved chapter 25 to bible_texts/chapter_25.txt\n",
            "Saved chapter 26 to bible_texts/chapter_26.txt\n",
            "Saved chapter 27 to bible_texts/chapter_27.txt\n",
            "Saved chapter 28 to bible_texts/chapter_28.txt\n",
            "Saved chapter 29 to bible_texts/chapter_29.txt\n",
            "Saved chapter 30 to bible_texts/chapter_30.txt\n",
            "Saved chapter 31 to bible_texts/chapter_31.txt\n",
            "Saved chapter 32 to bible_texts/chapter_32.txt\n",
            "Saved chapter 33 to bible_texts/chapter_33.txt\n",
            "Saved chapter 34 to bible_texts/chapter_34.txt\n",
            "Saved chapter 35 to bible_texts/chapter_35.txt\n",
            "Saved chapter 36 to bible_texts/chapter_36.txt\n",
            "Saved chapter 37 to bible_texts/chapter_37.txt\n",
            "Saved chapter 38 to bible_texts/chapter_38.txt\n",
            "Saved chapter 39 to bible_texts/chapter_39.txt\n",
            "Saved chapter 41 to bible_texts/chapter_41.txt\n",
            "Saved chapter 42 to bible_texts/chapter_42.txt\n",
            "Saved chapter 43 to bible_texts/chapter_43.txt\n",
            "Saved chapter 44 to bible_texts/chapter_44.txt\n",
            "Saved chapter 45 to bible_texts/chapter_45.txt\n",
            "Saved chapter 46 to bible_texts/chapter_46.txt\n",
            "Saved chapter 47 to bible_texts/chapter_47.txt\n",
            "Saved chapter 48 to bible_texts/chapter_48.txt\n",
            "Saved chapter 49 to bible_texts/chapter_49.txt\n",
            "Saved chapter 50 to bible_texts/chapter_50.txt\n",
            "Saved chapter 51 to bible_texts/chapter_51.txt\n",
            "Saved chapter 52 to bible_texts/chapter_52.txt\n",
            "Saved chapter 53 to bible_texts/chapter_53.txt\n",
            "Saved chapter 54 to bible_texts/chapter_54.txt\n",
            "Saved chapter 55 to bible_texts/chapter_55.txt\n",
            "Saved chapter 56 to bible_texts/chapter_56.txt\n",
            "Saved chapter 57 to bible_texts/chapter_57.txt\n",
            "Saved chapter 58 to bible_texts/chapter_58.txt\n",
            "Saved chapter 59 to bible_texts/chapter_59.txt\n",
            "Saved chapter 60 to bible_texts/chapter_60.txt\n",
            "Saved chapter 61 to bible_texts/chapter_61.txt\n",
            "Saved chapter 62 to bible_texts/chapter_62.txt\n",
            "Saved chapter 63 to bible_texts/chapter_63.txt\n",
            "Saved chapter 64 to bible_texts/chapter_64.txt\n",
            "Saved chapter 65 to bible_texts/chapter_65.txt\n",
            "Saved chapter 66 to bible_texts/chapter_66.txt\n",
            "Saved chapter 67 to bible_texts/chapter_67.txt\n"
          ]
        }
      ],
      "source": [
        "bible_chapter_driver = webdriver.Chrome(options=chrome_options)\n",
        "bible_chapter_driver.get(bible_url)\n",
        "wait = WebDriverWait(bible_chapter_driver, 10)\n",
        "\n",
        "output_folder = \"bible_texts\"\n",
        "if not os.path.exists(output_folder):\n",
        "    os.makedirs(output_folder)\n",
        "\n",
        "try:\n",
        "    chapter_divs = bible_chapter_driver.find_elements(By.CLASS_NAME, \"chapter\")\n",
        "\n",
        "    for index, chapter_div in enumerate(chapter_divs[1:], start=2):\n",
        "        p_elements = chapter_div.find_elements(By.TAG_NAME, \"p\")\n",
        "\n",
        "        chapter_text = \"\"\n",
        "        for p_element in p_elements:\n",
        "            text = p_element.text.strip()\n",
        "            if text:\n",
        "                processed_text = preprocess_text(text)\n",
        "                chapter_text += processed_text + \"\\n\"\n",
        "\n",
        "        if chapter_text.strip():\n",
        "            filename = os.path.join(output_folder, f\"chapter_{index-1}.txt\")\n",
        "            with open(filename, \"w\", encoding=\"utf-8\") as file:\n",
        "                file.write(chapter_text.strip())\n",
        "            print(f\"Saved chapter {index-1} to {filename}\")\n",
        "\n",
        "except Exception as e:\n",
        "    print(\"Error:\", e)\n",
        "\n",
        "finally:\n",
        "    bible_chapter_driver.quit()"
      ]
    },
    {
      "cell_type": "markdown",
      "metadata": {
        "id": "qyyuaEWgdsdJ"
      },
      "source": [
        "### Quran"
      ]
    },
    {
      "cell_type": "code",
      "execution_count": 11,
      "metadata": {
        "colab": {
          "base_uri": "https://localhost:8080/"
        },
        "id": "xRNfpALFd0NA",
        "outputId": "96383e1c-f6ca-45a1-a014-484bd684848a",
        "collapsed": true
      },
      "outputs": [
        {
          "output_type": "stream",
          "name": "stdout",
          "text": [
            "Saved chapter 1 to quran_texts/chapter_1.txt\n",
            "Saved chapter 2 to quran_texts/chapter_2.txt\n",
            "Saved chapter 3 to quran_texts/chapter_3.txt\n",
            "Saved chapter 4 to quran_texts/chapter_4.txt\n",
            "Saved chapter 5 to quran_texts/chapter_5.txt\n",
            "Saved chapter 6 to quran_texts/chapter_6.txt\n",
            "Saved chapter 7 to quran_texts/chapter_7.txt\n",
            "Saved chapter 8 to quran_texts/chapter_8.txt\n",
            "Saved chapter 9 to quran_texts/chapter_9.txt\n",
            "Saved chapter 10 to quran_texts/chapter_10.txt\n",
            "Saved chapter 11 to quran_texts/chapter_11.txt\n",
            "Saved chapter 12 to quran_texts/chapter_12.txt\n",
            "Saved chapter 13 to quran_texts/chapter_13.txt\n",
            "Saved chapter 14 to quran_texts/chapter_14.txt\n",
            "Saved chapter 15 to quran_texts/chapter_15.txt\n",
            "Saved chapter 16 to quran_texts/chapter_16.txt\n",
            "Saved chapter 17 to quran_texts/chapter_17.txt\n",
            "Saved chapter 18 to quran_texts/chapter_18.txt\n",
            "Saved chapter 19 to quran_texts/chapter_19.txt\n",
            "Saved chapter 20 to quran_texts/chapter_20.txt\n",
            "Saved chapter 21 to quran_texts/chapter_21.txt\n",
            "Saved chapter 22 to quran_texts/chapter_22.txt\n",
            "Saved chapter 23 to quran_texts/chapter_23.txt\n",
            "Saved chapter 24 to quran_texts/chapter_24.txt\n",
            "Saved chapter 25 to quran_texts/chapter_25.txt\n",
            "Saved chapter 26 to quran_texts/chapter_26.txt\n",
            "Saved chapter 27 to quran_texts/chapter_27.txt\n",
            "Saved chapter 28 to quran_texts/chapter_28.txt\n",
            "Saved chapter 29 to quran_texts/chapter_29.txt\n",
            "Saved chapter 30 to quran_texts/chapter_30.txt\n",
            "Saved chapter 31 to quran_texts/chapter_31.txt\n",
            "Saved chapter 32 to quran_texts/chapter_32.txt\n",
            "Saved chapter 33 to quran_texts/chapter_33.txt\n",
            "Saved chapter 34 to quran_texts/chapter_34.txt\n",
            "Saved chapter 35 to quran_texts/chapter_35.txt\n",
            "Saved chapter 36 to quran_texts/chapter_36.txt\n",
            "Saved chapter 37 to quran_texts/chapter_37.txt\n",
            "Saved chapter 38 to quran_texts/chapter_38.txt\n",
            "Saved chapter 39 to quran_texts/chapter_39.txt\n",
            "Saved chapter 40 to quran_texts/chapter_40.txt\n",
            "Saved chapter 41 to quran_texts/chapter_41.txt\n",
            "Saved chapter 42 to quran_texts/chapter_42.txt\n",
            "Saved chapter 43 to quran_texts/chapter_43.txt\n",
            "Saved chapter 44 to quran_texts/chapter_44.txt\n",
            "Saved chapter 45 to quran_texts/chapter_45.txt\n",
            "Saved chapter 46 to quran_texts/chapter_46.txt\n",
            "Saved chapter 47 to quran_texts/chapter_47.txt\n",
            "Saved chapter 48 to quran_texts/chapter_48.txt\n",
            "Saved chapter 49 to quran_texts/chapter_49.txt\n",
            "Saved chapter 50 to quran_texts/chapter_50.txt\n",
            "Saved chapter 51 to quran_texts/chapter_51.txt\n",
            "Saved chapter 52 to quran_texts/chapter_52.txt\n",
            "Saved chapter 53 to quran_texts/chapter_53.txt\n",
            "Saved chapter 54 to quran_texts/chapter_54.txt\n",
            "Saved chapter 55 to quran_texts/chapter_55.txt\n",
            "Saved chapter 56 to quran_texts/chapter_56.txt\n",
            "Saved chapter 57 to quran_texts/chapter_57.txt\n",
            "Saved chapter 58 to quran_texts/chapter_58.txt\n",
            "Saved chapter 59 to quran_texts/chapter_59.txt\n",
            "Saved chapter 60 to quran_texts/chapter_60.txt\n",
            "Saved chapter 61 to quran_texts/chapter_61.txt\n",
            "Saved chapter 62 to quran_texts/chapter_62.txt\n",
            "Saved chapter 63 to quran_texts/chapter_63.txt\n",
            "Saved chapter 64 to quran_texts/chapter_64.txt\n",
            "Saved chapter 65 to quran_texts/chapter_65.txt\n",
            "Saved chapter 66 to quran_texts/chapter_66.txt\n",
            "Saved chapter 67 to quran_texts/chapter_67.txt\n",
            "Saved chapter 68 to quran_texts/chapter_68.txt\n",
            "Saved chapter 69 to quran_texts/chapter_69.txt\n",
            "Saved chapter 70 to quran_texts/chapter_70.txt\n",
            "Saved chapter 71 to quran_texts/chapter_71.txt\n",
            "Saved chapter 72 to quran_texts/chapter_72.txt\n",
            "Saved chapter 73 to quran_texts/chapter_73.txt\n",
            "Saved chapter 74 to quran_texts/chapter_74.txt\n",
            "Saved chapter 75 to quran_texts/chapter_75.txt\n",
            "Saved chapter 76 to quran_texts/chapter_76.txt\n",
            "Saved chapter 77 to quran_texts/chapter_77.txt\n",
            "Saved chapter 78 to quran_texts/chapter_78.txt\n",
            "Saved chapter 79 to quran_texts/chapter_79.txt\n",
            "Saved chapter 80 to quran_texts/chapter_80.txt\n",
            "Saved chapter 81 to quran_texts/chapter_81.txt\n",
            "Saved chapter 82 to quran_texts/chapter_82.txt\n",
            "Saved chapter 83 to quran_texts/chapter_83.txt\n",
            "Saved chapter 84 to quran_texts/chapter_84.txt\n",
            "Saved chapter 85 to quran_texts/chapter_85.txt\n",
            "Saved chapter 86 to quran_texts/chapter_86.txt\n",
            "Saved chapter 87 to quran_texts/chapter_87.txt\n",
            "Saved chapter 88 to quran_texts/chapter_88.txt\n",
            "Saved chapter 89 to quran_texts/chapter_89.txt\n",
            "Saved chapter 90 to quran_texts/chapter_90.txt\n",
            "Saved chapter 91 to quran_texts/chapter_91.txt\n",
            "Saved chapter 92 to quran_texts/chapter_92.txt\n",
            "Saved chapter 93 to quran_texts/chapter_93.txt\n",
            "Saved chapter 94 to quran_texts/chapter_94.txt\n",
            "Saved chapter 95 to quran_texts/chapter_95.txt\n",
            "Saved chapter 96 to quran_texts/chapter_96.txt\n",
            "Saved chapter 97 to quran_texts/chapter_97.txt\n",
            "Saved chapter 98 to quran_texts/chapter_98.txt\n",
            "Saved chapter 99 to quran_texts/chapter_99.txt\n",
            "Saved chapter 100 to quran_texts/chapter_100.txt\n",
            "Saved chapter 101 to quran_texts/chapter_101.txt\n",
            "Saved chapter 102 to quran_texts/chapter_102.txt\n",
            "Saved chapter 103 to quran_texts/chapter_103.txt\n",
            "Saved chapter 104 to quran_texts/chapter_104.txt\n",
            "Saved chapter 105 to quran_texts/chapter_105.txt\n",
            "Saved chapter 106 to quran_texts/chapter_106.txt\n",
            "Saved chapter 107 to quran_texts/chapter_107.txt\n",
            "Saved chapter 108 to quran_texts/chapter_108.txt\n",
            "Saved chapter 109 to quran_texts/chapter_109.txt\n",
            "Saved chapter 110 to quran_texts/chapter_110.txt\n",
            "Saved chapter 111 to quran_texts/chapter_111.txt\n",
            "Saved chapter 112 to quran_texts/chapter_112.txt\n"
          ]
        }
      ],
      "source": [
        "quran_chapter_driver = webdriver.Chrome(options=chrome_options)\n",
        "quran_chapter_driver.get(quran_url)\n",
        "wait = WebDriverWait(quran_chapter_driver, 10)\n",
        "\n",
        "output_dir = 'quran_texts'\n",
        "os.makedirs(output_dir, exist_ok=True)\n",
        "\n",
        "current_document = []\n",
        "chapter_count = 1\n",
        "start_crawling = False\n",
        "\n",
        "try:\n",
        "    elements = quran_chapter_driver.find_elements(By.XPATH, \"//*[name()='h4' or name()='p' or @id='pg-end-separator']\")\n",
        "\n",
        "    for element in elements:\n",
        "        if element.tag_name == 'div' and element.get_attribute('id') == 'pg-end-separator':\n",
        "            break\n",
        "\n",
        "        if element.tag_name == 'h4':\n",
        "            start_crawling = True\n",
        "\n",
        "            if current_document:\n",
        "                quran_processed_text = ''.join(current_document)\n",
        "\n",
        "                with open(os.path.join(output_dir, f'chapter_{chapter_count}.txt'), 'w', encoding='utf-8') as file:\n",
        "                    file.write(quran_processed_text)\n",
        "\n",
        "                print(f\"Saved chapter {chapter_count} to {output_dir}/chapter_{chapter_count}.txt\")\n",
        "\n",
        "                chapter_count += 1\n",
        "                current_document = []\n",
        "\n",
        "        if start_crawling and element.tag_name == 'p':\n",
        "            raw_text = element.text.strip()\n",
        "            processed_text = preprocess_text(raw_text)\n",
        "            current_document.append(processed_text + '\\n')\n",
        "\n",
        "    if current_document:\n",
        "        quran_processed_text = ''.join(current_document)\n",
        "        with open(os.path.join(output_dir, f'chapter_{chapter_count}.txt'), 'w', encoding='utf-8') as file:\n",
        "            file.write(quran_processed_text)\n",
        "        print(f\"Saved chapter {chapter_count} to {output_dir}/chapter_{chapter_count}.txt\")\n",
        "\n",
        "except Exception as e:\n",
        "    print(\"Error:\", e)\n",
        "\n",
        "finally:\n",
        "    quran_chapter_driver.quit()"
      ]
    },
    {
      "cell_type": "markdown",
      "metadata": {
        "id": "Rjzbs_EcgxBx"
      },
      "source": [
        "## TextRank\n",
        "- Bible과 Quran의 키워드 추출 및 문장 요약\n",
        "1. 문장 및 단어 토큰화\n",
        "2. TF-IDF 임베딩 생성\n",
        "3. 코사인 유사도로 유사도 행렬 생성\n",
        "4. 그래프 생성 및 PageRank 계산\n",
        "5. 상위 3개 문장을 요약으로 추출\n"
      ]
    },
    {
      "cell_type": "markdown",
      "metadata": {
        "id": "ufr71v5RlmHr"
      },
      "source": [
        "### Bible"
      ]
    },
    {
      "cell_type": "code",
      "execution_count": 12,
      "metadata": {
        "id": "09aYxjJMlowp"
      },
      "outputs": [],
      "source": [
        "spark = SparkSession.builder.appName(\"TextRank Summary of the Bible\").getOrCreate()\n",
        "\n",
        "data_dir = \"/content/bible_texts\"\n",
        "text_files = [(file, open(os.path.join(data_dir, file), \"r\", encoding=\"utf-8\").read()) for file in os.listdir(data_dir) if file.endswith(\".txt\")]\n",
        "df = spark.createDataFrame(text_files, [\"filename\", \"text\"])\n",
        "\n",
        "def textrank_summary_and_keywords(text):\n",
        "    sentences = sent_tokenize(text)\n",
        "    words = word_tokenize(text.lower())\n",
        "\n",
        "    vectorizer = TfidfVectorizer()\n",
        "    sentence_vectors = vectorizer.fit_transform(sentences)\n",
        "\n",
        "    similarity_matrix = cosine_similarity(sentence_vectors)\n",
        "\n",
        "    nx_graph = nx.from_numpy_array(similarity_matrix)\n",
        "    scores = nx.pagerank(nx_graph)\n",
        "\n",
        "    ranked_sentences = sorted(((scores[i], s) for i, s in enumerate(sentences)), reverse=True)\n",
        "    summary = \" \".join([ranked_sentences[i][1] for i in range(min(3, len(ranked_sentences)))])\n",
        "\n",
        "    keywords = \" \".join(sorted(set(words), key=words.count, reverse=True)[:10])\n",
        "\n",
        "    return summary, keywords\n",
        "\n",
        "textrank_udf = udf(lambda text: textrank_summary_and_keywords(text)[0], StringType())\n",
        "keywords_udf = udf(lambda text: textrank_summary_and_keywords(text)[1], StringType())\n",
        "\n",
        "df = df.withColumn(\"summary\", textrank_udf(df.text))\n",
        "df = df.withColumn(\"keywords\", keywords_udf(df.text))\n",
        "\n",
        "result_df = df.select(\"filename\", \"summary\", \"keywords\").toPandas()\n",
        "\n",
        "output_dir = \"/content/bible_summaries\"\n",
        "os.makedirs(output_dir, exist_ok=True)\n",
        "\n",
        "for index, row in result_df.iterrows():\n",
        "    chapter_filename = row['filename'].replace(\".txt\", \"_summary.txt\")\n",
        "    output_path = os.path.join(output_dir, chapter_filename)\n",
        "\n",
        "    with open(output_path, \"w\") as file:\n",
        "        summary_text = f\"Filename: {row['filename']}\\nSummary: {row['summary']}\\nKeywords: {row['keywords']}\\n\"\n",
        "        file.write(summary_text)\n",
        "\n",
        "spark.stop()"
      ]
    },
    {
      "cell_type": "markdown",
      "metadata": {
        "id": "4fELk7kYlu_5"
      },
      "source": [
        "### Quran"
      ]
    },
    {
      "cell_type": "code",
      "execution_count": 13,
      "metadata": {
        "id": "703PUJuSlway"
      },
      "outputs": [],
      "source": [
        "spark = SparkSession.builder.appName(\"TextRank Summary of the Quran\").getOrCreate()\n",
        "\n",
        "data_dir = \"/content/quran_texts\"\n",
        "text_files = [(file, open(os.path.join(data_dir, file), \"r\", encoding=\"utf-8\").read()) for file in os.listdir(data_dir) if file.endswith(\".txt\")]\n",
        "df = spark.createDataFrame(text_files, [\"filename\", \"text\"])\n",
        "\n",
        "def textrank_summary_and_keywords(text):\n",
        "    sentences = sent_tokenize(text)\n",
        "    words = word_tokenize(text.lower())\n",
        "\n",
        "    vectorizer = TfidfVectorizer()\n",
        "    sentence_vectors = vectorizer.fit_transform(sentences)\n",
        "\n",
        "    similarity_matrix = cosine_similarity(sentence_vectors)\n",
        "\n",
        "    nx_graph = nx.from_numpy_array(similarity_matrix)\n",
        "    scores = nx.pagerank(nx_graph)\n",
        "\n",
        "    ranked_sentences = sorted(((scores[i], s) for i, s in enumerate(sentences)), reverse=True)\n",
        "    summary = \" \".join([ranked_sentences[i][1] for i in range(min(3, len(ranked_sentences)))])\n",
        "\n",
        "    keywords = \" \".join(sorted(set(words), key=words.count, reverse=True)[:10])\n",
        "\n",
        "    return summary, keywords\n",
        "\n",
        "textrank_udf = udf(lambda text: textrank_summary_and_keywords(text)[0], StringType())\n",
        "keywords_udf = udf(lambda text: textrank_summary_and_keywords(text)[1], StringType())\n",
        "\n",
        "df = df.withColumn(\"summary\", textrank_udf(df.text))\n",
        "df = df.withColumn(\"keywords\", keywords_udf(df.text))\n",
        "\n",
        "result_df = df.select(\"filename\", \"summary\", \"keywords\").toPandas()\n",
        "\n",
        "output_dir = \"/content/quran_summaries\"\n",
        "os.makedirs(output_dir, exist_ok=True)\n",
        "\n",
        "for index, row in result_df.iterrows():\n",
        "    chapter_filename = row['filename'].replace(\".txt\", \"_summary.txt\")\n",
        "    output_path = os.path.join(output_dir, chapter_filename)\n",
        "\n",
        "    with open(output_path, \"w\") as file:\n",
        "        summary_text = f\"Filename: {row['filename']}\\nSummary: {row['summary']}\\nKeywords: {row['keywords']}\\n\"\n",
        "        file.write(summary_text)\n",
        "\n",
        "spark.stop()"
      ]
    },
    {
      "cell_type": "markdown",
      "metadata": {
        "id": "-ivbDuDwH8JH"
      },
      "source": [
        "## Similarity\n",
        "- bible_summary.txt와 quran_summary.txt를 사용하여 Bible과 Quran의 유사도 계산"
      ]
    },
    {
      "cell_type": "markdown",
      "metadata": {
        "id": "KGvWfPUB7zAV"
      },
      "source": [
        "### Cosine Similarity & Jaccard Similarity"
      ]
    },
    {
      "cell_type": "code",
      "execution_count": 14,
      "metadata": {
        "id": "YqheRDTEH8sA"
      },
      "outputs": [],
      "source": [
        "spark = SparkSession.builder.appName(\"Bible vs Quran Similarity\").getOrCreate()\n",
        "\n",
        "bible_dir = \"/content/bible_summaries\"\n",
        "quran_dir = \"/content/quran_summaries\"\n",
        "\n",
        "bible_texts = []\n",
        "for file in os.listdir(bible_dir):\n",
        "    with open(os.path.join(bible_dir, file), \"r\", encoding=\"utf-8\") as f:\n",
        "        bible_texts.append(f.read())\n",
        "bible_combined_text = \" \".join(bible_texts)\n",
        "\n",
        "quran_texts = []\n",
        "for file in os.listdir(quran_dir):\n",
        "    with open(os.path.join(quran_dir, file), \"r\", encoding=\"utf-8\") as f:\n",
        "        quran_texts.append(f.read())\n",
        "quran_combined_text = \" \".join(quran_texts)\n",
        "\n",
        "texts = [(\"bible\", bible_combined_text), (\"quran\", quran_combined_text)]\n",
        "df = spark.createDataFrame(texts, [\"text_id\", \"text\"])\n",
        "\n",
        "texts = [row.text for row in df.collect()]\n",
        "\n",
        "vectorizer = TfidfVectorizer()\n",
        "tfidf_matrix = vectorizer.fit_transform(texts)\n",
        "cosine_sim = cosine_similarity(tfidf_matrix[0:1], tfidf_matrix[1:2])[0][0]\n",
        "\n",
        "def jaccard_similarity(text1, text2):\n",
        "    words_text1 = set(text1.split())\n",
        "    words_text2 = set(text2.split())\n",
        "    intersection = words_text1.intersection(words_text2)\n",
        "    union = words_text1.union(words_text2)\n",
        "    return float(len(intersection)) / len(union)\n",
        "\n",
        "jaccard_sim = jaccard_similarity(texts[0], texts[1])\n",
        "\n",
        "spark.stop()"
      ]
    },
    {
      "cell_type": "markdown",
      "source": [
        "## Shingling & Min-Hashing & LSH"
      ],
      "metadata": {
        "id": "CKDd52U371Oe"
      }
    },
    {
      "cell_type": "markdown",
      "source": [
        "### Shingling"
      ],
      "metadata": {
        "id": "BCDnuoVf74me"
      }
    },
    {
      "cell_type": "code",
      "source": [
        "n = 3\n",
        "\n",
        "def create_shingles_from_dir(directory_path, n):\n",
        "    combined_text = \"\"\n",
        "    for file_name in os.listdir(directory_path):\n",
        "        if file_name.endswith(\".txt\"):\n",
        "            with open(os.path.join(directory_path, file_name), \"r\", encoding=\"utf-8\") as file:\n",
        "                combined_text += file.read().replace('\\n', ' ') + \" \"\n",
        "\n",
        "    shingles = set()\n",
        "    for i in range(len(combined_text) - n + 1):\n",
        "        shingles.add(combined_text[i:i + n])\n",
        "\n",
        "    return shingles\n",
        "\n",
        "bible_dir = \"/content/bible_summaries\"\n",
        "quran_dir = \"/content/quran_summaries\"\n",
        "\n",
        "bible_shingles = create_shingles_from_dir(bible_dir, n)\n",
        "quran_shingles = create_shingles_from_dir(quran_dir, n)\n",
        "\n",
        "print(\"Bible Shingles 개수:\", len(bible_shingles))\n",
        "print(\"Quran Shingles 개수:\", len(quran_shingles))\n",
        "print(\"Bible Shingles (일부):\", list(bible_shingles)[:5])\n",
        "print(\"Quran Shingles (일부):\", list(quran_shingles)[:5])"
      ],
      "metadata": {
        "colab": {
          "base_uri": "https://localhost:8080/"
        },
        "id": "v3_ZdAk7703u",
        "outputId": "c2809590-d7e6-4b9e-f07d-dec8ee6f444c"
      },
      "execution_count": 15,
      "outputs": [
        {
          "output_type": "stream",
          "name": "stdout",
          "text": [
            "Bible Shingles 개수: 3268\n",
            "Quran Shingles 개수: 3783\n",
            "Bible Shingles (일부): ['sle', ' ef', 'arm', 'u f', 'aso']\n",
            "Quran Shingles (일부): ['egl', 'sle', 'uma', ' ef', 'ndy']\n"
          ]
        }
      ]
    },
    {
      "cell_type": "markdown",
      "source": [
        "#### Shingles 간 유사도 측정"
      ],
      "metadata": {
        "id": "sLFS5-UUAdWO"
      }
    },
    {
      "cell_type": "code",
      "source": [
        "def cosine_similarity(set1, set2):\n",
        "    counter1 = Counter(set1)\n",
        "    counter2 = Counter(set2)\n",
        "\n",
        "    common_shingles = set1 & set2\n",
        "    dot_product = sum(counter1[shingle] * counter2[shingle] for shingle in common_shingles)\n",
        "\n",
        "    magnitude1 = math.sqrt(sum(value**2 for value in counter1.values()))\n",
        "    magnitude2 = math.sqrt(sum(value**2 for value in counter2.values()))\n",
        "\n",
        "    return dot_product / (magnitude1 * magnitude2)\n",
        "\n",
        "def jaccard_similarity(set1, set2):\n",
        "    intersection = set1.intersection(set2)\n",
        "    union = set1.union(set2)\n",
        "    return len(intersection) / len(union)\n",
        "\n",
        "cosine_sim_shingles = cosine_similarity(bible_shingles, quran_shingles)\n",
        "print(\"Cosine 유사도:\", cosine_sim_shingles)\n",
        "\n",
        "jaccard_sim_shingles = jaccard_similarity(bible_shingles, quran_shingles)\n",
        "print(\"Jaccard 유사도:\", jaccard_sim_shingles)"
      ],
      "metadata": {
        "colab": {
          "base_uri": "https://localhost:8080/"
        },
        "id": "yQOvgc69AOvW",
        "outputId": "4dae995d-0067-4a03-f10e-90a20c1c7b47"
      },
      "execution_count": 16,
      "outputs": [
        {
          "output_type": "stream",
          "name": "stdout",
          "text": [
            "Cosine 유사도: 0.7963405610318188\n",
            "Jaccard 유사도: 0.6586685485768055\n"
          ]
        }
      ]
    },
    {
      "cell_type": "markdown",
      "source": [
        "### Min-Hashing"
      ],
      "metadata": {
        "id": "dzmKWM64_YW-"
      }
    },
    {
      "cell_type": "markdown",
      "source": [
        "#### 함수 정의"
      ],
      "metadata": {
        "id": "PvBpauPJ_0T-"
      }
    },
    {
      "cell_type": "code",
      "source": [
        "def minhash(shingles, num_hashes):\n",
        "    min_hashes = [float('inf')] * num_hashes\n",
        "    hash_collisions = [0] * num_hashes\n",
        "    seen_hashes = [set() for _ in range(num_hashes)]\n",
        "\n",
        "    for shingle in shingles:\n",
        "        for i in range(num_hashes):\n",
        "            hash_val = int(hashlib.sha256((str(i) + shingle).encode('utf-8')).hexdigest(), 16)\n",
        "            if hash_val in seen_hashes[i]:\n",
        "                hash_collisions[i] += 1\n",
        "            else:\n",
        "                seen_hashes[i].add(hash_val)\n",
        "            min_hashes[i] = min(min_hashes[i], hash_val)\n",
        "    return min_hashes, hash_collisions\n",
        "\n",
        "def jaccard_similarity_minhash(minhash1, minhash2):\n",
        "    assert len(minhash1) == len(minhash2), \"Minhash 리스트의 길이가 동일해야 합니다.\"\n",
        "    return sum(1 for i in range(len(minhash1)) if minhash1[i] == minhash2[i]) / len(minhash1)\n",
        "\n",
        "def total_hash_collisions(collisions):\n",
        "    return sum(collisions)"
      ],
      "metadata": {
        "id": "azOt3Lmz_Q6X"
      },
      "execution_count": 17,
      "outputs": []
    },
    {
      "cell_type": "markdown",
      "source": [
        "#### 유사도 측정"
      ],
      "metadata": {
        "id": "eRx12nak_2e-"
      }
    },
    {
      "cell_type": "code",
      "source": [
        "num_hashes = 200\n",
        "bible_minhash, bible_collisions = minhash(bible_shingles, num_hashes)\n",
        "quran_minhash, quran_collisions = minhash(quran_shingles, num_hashes)\n",
        "\n",
        "minhash_similarity = jaccard_similarity_minhash(bible_minhash, quran_minhash)\n",
        "total_collisions = total_hash_collisions(bible_collisions + quran_collisions)\n",
        "\n",
        "print(\"Bible Minhash (일부):\", bible_minhash[:5])\n",
        "print(\"Quran Minhash (일부):\", quran_minhash[:5])\n",
        "print(\"Jaccard 유사도:\", minhash_similarity)\n",
        "print(f\"Total Hash Collisions: {total_collisions}\")"
      ],
      "metadata": {
        "colab": {
          "base_uri": "https://localhost:8080/"
        },
        "id": "4uzQ_JAv_ikG",
        "outputId": "fe6b623f-7b93-40dc-c210-7ff334e3986b"
      },
      "execution_count": 19,
      "outputs": [
        {
          "output_type": "stream",
          "name": "stdout",
          "text": [
            "Bible Minhash (일부): [142007963374010426382138725585633728632670059153182797619995424413205190370, 61029995696528839340681556490283563750113136299084301253556274255311383867, 74482003611007926343735746953205952575243904011463384538829221738236893738, 13303050268803375994217044805968259787349693676690538745035727233009340612, 2304439068908944944830965196945721431575249734642627760810988191669108179]\n",
            "Quran Minhash (일부): [142007963374010426382138725585633728632670059153182797619995424413205190370, 61029995696528839340681556490283563750113136299084301253556274255311383867, 53680818324743862649857533326054318705475454322943123511963264584711140609, 13303050268803375994217044805968259787349693676690538745035727233009340612, 16943634624084268649050095407251787582290238634288236651595211279939668427]\n",
            "Jaccard 유사도: 0.62\n",
            "Total Hash Collisions: 0\n"
          ]
        }
      ]
    },
    {
      "cell_type": "markdown",
      "source": [
        "#### Visualize"
      ],
      "metadata": {
        "id": "kPww9H51Oe2E"
      }
    },
    {
      "cell_type": "code",
      "source": [
        "labels = ['Cosine Similarity', 'Jaccard Similarity', 'Cosine Similarity(Shingles)', 'Jaccard Similarity(Shingles)','Jaccard Similarity(Minhash)']\n",
        "similarities = [cosine_sim, jaccard_sim, cosine_sim_shingles, jaccard_sim_shingles, minhash_similarity]\n",
        "\n",
        "plt.figure(figsize=(14, 5))\n",
        "plt.bar(labels, similarities, color=['burlywood', 'palegoldenrod', 'tan', 'khaki', 'darkkhaki'])\n",
        "plt.ylim(0, 1)\n",
        "plt.ylabel('Similarity')\n",
        "plt.title(\"Bible vs Quran Similarity (TextRank)\")\n",
        "plt.show()\n",
        "\n",
        "print(\"--Similarity--\")\n",
        "print(f\"Cosine: {cosine_sim}\")\n",
        "print(f\"Jaccard: {jaccard_sim}\")\n",
        "print(f\"Cosine(Shingles): {cosine_sim_shingles}\")\n",
        "print(f\"Jaccard(Shingles): {jaccard_sim_shingles}\")\n",
        "print(f\"Jaccard(Minhash): {minhash_similarity}\")\n",
        "print(\"-------------------------------------------\")\n",
        "print(\"Similarity (Percentage)\")\n",
        "print(f\"Cosine:{cosine_sim*100}%\")\n",
        "print(f\"Jaccard:{jaccard_sim*100}%\")\n",
        "print(f\"Cosine(Shingles): {cosine_sim_shingles*100}%\")\n",
        "print(f\"Jaccard(Shingles): {jaccard_sim_shingles*100}%\")\n",
        "print(f\"Jaccard(Minhash): {minhash_similarity*100}%\")"
      ],
      "metadata": {
        "colab": {
          "base_uri": "https://localhost:8080/",
          "height": 704
        },
        "id": "e76pYTP5OkOk",
        "outputId": "cc7b2e52-3169-48f5-9fb2-5aa75b675f44"
      },
      "execution_count": 20,
      "outputs": [
        {
          "output_type": "display_data",
          "data": {
            "text/plain": [
              "<Figure size 1400x500 with 1 Axes>"
            ],
            "image/png": "[encoded data removed]"
          },
          "metadata": {}
        },
        {
          "output_type": "stream",
          "name": "stdout",
          "text": [
            "--Similarity--\n",
            "Cosine: 0.954988788405355\n",
            "Jaccard: 0.22968274663189917\n",
            "Cosine(Shingles): 0.7963405610318188\n",
            "Jaccard(Shingles): 0.6586685485768055\n",
            "Jaccard(Minhash): 0.62\n",
            "-------------------------------------------\n",
            "Similarity (Percentage)\n",
            "Cosine:95.4988788405355%\n",
            "Jaccard:22.968274663189916%\n",
            "Cosine(Shingles): 79.63405610318188%\n",
            "Jaccard(Shingles): 65.86685485768055%\n",
            "Jaccard(Minhash): 62.0%\n"
          ]
        }
      ]
    },
    {
      "cell_type": "markdown",
      "source": [
        "### LSH"
      ],
      "metadata": {
        "id": "dF8HWhnsF9rP"
      }
    },
    {
      "cell_type": "markdown",
      "source": [
        "#### LSH 알고리즘 구현 및 유사한 문장 쌍을 찾는 함수 정의"
      ],
      "metadata": {
        "id": "KUJNU7CZOKmt"
      }
    },
    {
      "cell_type": "code",
      "source": [
        "def lsh(minhash_vectors, num_bands, rows_per_band):\n",
        "    assert len(minhash_vectors[0]) == num_bands * rows_per_band, \"MinHash 벡터의 길이가 밴드와 행 개수에 맞아야 합니다.\"\n",
        "\n",
        "    lsh_buckets = defaultdict(list)\n",
        "    for doc_id, minhash_vector in enumerate(minhash_vectors):\n",
        "        for band in range(num_bands):\n",
        "            start = band * rows_per_band\n",
        "            end = start + rows_per_band\n",
        "            band_hash = hash(tuple(minhash_vector[start:end]))\n",
        "            lsh_buckets[(band, band_hash)].append(doc_id)\n",
        "\n",
        "    return lsh_buckets\n",
        "\n",
        "def find_similar_pairs(lsh_buckets, minhash_vectors, threshold=0.6):\n",
        "    candidate_pairs = set()\n",
        "    for bucket in lsh_buckets.values():\n",
        "        if len(bucket) > 1:\n",
        "            for i in range(len(bucket)):\n",
        "                for j in range(i + 1, len(bucket)):\n",
        "                    candidate_pairs.add((bucket[i], bucket[j]))\n",
        "\n",
        "    similar_pairs = []\n",
        "    for doc1, doc2 in candidate_pairs:\n",
        "        jaccard_sim = jaccard_similarity_minhash(minhash_vectors[doc1], minhash_vectors[doc2])\n",
        "        if jaccard_sim >= threshold:\n",
        "            similar_pairs.append((doc1, doc2, jaccard_sim))\n",
        "\n",
        "    return similar_pairs"
      ],
      "metadata": {
        "id": "lgORwswPOH2V"
      },
      "execution_count": 21,
      "outputs": []
    },
    {
      "cell_type": "markdown",
      "source": [
        "#### 유사한 문장 쌍 찾기"
      ],
      "metadata": {
        "id": "WnUB74qUOR6t"
      }
    },
    {
      "cell_type": "code",
      "source": [
        "def read_documents_from_dir(directory):\n",
        "    documents = []\n",
        "    for file_name in os.listdir(directory):\n",
        "        if file_name.endswith(\".txt\"):\n",
        "            with open(os.path.join(directory, file_name), \"r\", encoding=\"utf-8\") as file:\n",
        "                documents.append(file.read())\n",
        "    return documents\n",
        "\n",
        "bible_documents = read_documents_from_dir(bible_dir)\n",
        "quran_documents = read_documents_from_dir(quran_dir)\n",
        "\n",
        "num_bands = 200\n",
        "rows_per_band = len(bible_minhash) // num_bands\n",
        "\n",
        "minhash_vectors = [bible_minhash, quran_minhash]\n",
        "lsh_buckets = lsh(minhash_vectors, num_bands, rows_per_band)\n",
        "\n",
        "threshold = 0.6\n",
        "similar_pairs = find_similar_pairs(lsh_buckets, minhash_vectors, threshold)\n",
        "\n",
        "if similar_pairs:\n",
        "    print(\"유사한 문장 쌍:\")\n",
        "    for doc1, doc2, sim in similar_pairs:\n",
        "        source1 = \"Bible\" if doc1 == 0 else \"Quran\"\n",
        "        source2 = \"Bible\" if doc2 == 0 else \"Quran\"\n",
        "        print(f\"{source1}:\\n{bible_documents[doc1] if doc1 == 0 else quran_documents[doc1]}\")\n",
        "        print(f\"{source2}:\\n{bible_documents[doc2] if doc2 == 0 else quran_documents[doc2]}\")\n",
        "        print(f\"유사도: {sim:.2f}\\n\")\n",
        "else:\n",
        "    print(\"유사한 문장이 발견되지 않았습니다.\")"
      ],
      "metadata": {
        "colab": {
          "base_uri": "https://localhost:8080/"
        },
        "id": "9J-fbEC3BbPV",
        "outputId": "75bed0fb-bbeb-41b4-fab4-c5fb6dd47e3e"
      },
      "execution_count": 22,
      "outputs": [
        {
          "output_type": "stream",
          "name": "stdout",
          "text": [
            "유사한 문장 쌍:\n",
            "Bible:\n",
            "Filename: chapter_46.txt\n",
            "Summary: but now the righteousness of god without the law is manifested being witnessed by the law and the prophets even the righteousness of god which is by faith of jesus christ unto all and upon all them that believe for there is no difference for all have sinned and come short of the glory of god being justified freely by his grace through the redemption that is in christ jesus whom god hath set forth to be a propitiation through faith in his blood to declare his righteousness for the remission of sins that are past through the forbearance of god to declare i say at this time his righteousness that he might be just and the justifier of him which believeth in jesus. therefore it is of faith that it might be by grace to the end the promise might be sure to all the seed not to that only which is of the law but to that also which is of the faith of abraham who is the father of us all as it is written i have made thee a father of many nations before him whom he believed even god who quickeneth the dead and calleth those things which be not as though they were. paul a servant of jesus christ called to be an apostle separated unto the gospel of god which he had promised afore by his prophets in the holy scriptures concerning his son jesus christ our lord which was made of the seed of david according to the flesh and declared to be the son of god with power according to the spirit of holiness by the resurrection from the dead by whom we have received grace and apostleship for obedience to the faith among all nations for his name among whom are ye also the called of jesus christ to all that be in rome beloved of god called to be saints grace to you and peace from god our father and the lord jesus christ.\n",
            "Keywords: the of . that and to for is not god\n",
            "\n",
            "Quran:\n",
            "Filename: chapter_7.txt\n",
            "Summary: verses\n",
            "in the name of god the compassionate the merciful\n",
            "say i betake me for refuge to the lord of men\n",
            "the king of men\n",
            "the god of men\n",
            "against the mischief of the stealthily withdrawing whisperer\n",
            "who whispereth in mans breast\n",
            "against djinn and men. satan. mecca or medina.\n",
            "Keywords: the of men . in god against djinn name compassionate\n",
            "\n",
            "유사도: 0.62\n",
            "\n"
          ]
        }
      ]
    }
  ],
  "metadata": {
    "colab": {
      "provenance": [],
      "gpuType": "V28",
      "include_colab_link": true
    },
    "kernelspec": {
      "display_name": "Python 3",
      "name": "python3"
    },
    "language_info": {
      "name": "python"
    },
    "accelerator": "TPU"
  },
  "nbformat": 4,
  "nbformat_minor": 0
}